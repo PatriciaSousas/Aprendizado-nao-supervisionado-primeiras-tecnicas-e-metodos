{
 "cells": [
  {
   "cell_type": "markdown",
   "id": "53d2e1a6",
   "metadata": {},
   "source": [
    "#### O projeto é ficticio para uma imobiliaria que deseja preficiar seus preços por regiões. O foco do projeto será na região do rio de janeiro sede da empresa."
   ]
  },
  {
   "cell_type": "code",
   "execution_count": null,
   "id": "d279cf1d",
   "metadata": {},
   "outputs": [],
   "source": []
  },
  {
   "cell_type": "markdown",
   "id": "d365a7e8",
   "metadata": {},
   "source": [
    "# Bibliotecas"
   ]
  },
  {
   "cell_type": "code",
   "execution_count": 1,
   "id": "29b590bb",
   "metadata": {},
   "outputs": [],
   "source": [
    "import pandas as pd\n",
    "import numpy as np"
   ]
  },
  {
   "cell_type": "code",
   "execution_count": null,
   "id": "8d660a27",
   "metadata": {},
   "outputs": [],
   "source": []
  },
  {
   "cell_type": "markdown",
   "id": "9f9c8055",
   "metadata": {},
   "source": [
    "# Carregamento de dados e transformação dos dados Json"
   ]
  },
  {
   "cell_type": "code",
   "execution_count": 2,
   "id": "d7590739",
   "metadata": {},
   "outputs": [
    {
     "data": {
      "text/html": [
       "<div>\n",
       "<style scoped>\n",
       "    .dataframe tbody tr th:only-of-type {\n",
       "        vertical-align: middle;\n",
       "    }\n",
       "\n",
       "    .dataframe tbody tr th {\n",
       "        vertical-align: top;\n",
       "    }\n",
       "\n",
       "    .dataframe thead th {\n",
       "        text-align: right;\n",
       "    }\n",
       "</style>\n",
       "<table border=\"1\" class=\"dataframe\">\n",
       "  <thead>\n",
       "    <tr style=\"text-align: right;\">\n",
       "      <th></th>\n",
       "      <th>ident</th>\n",
       "      <th>listing</th>\n",
       "    </tr>\n",
       "  </thead>\n",
       "  <tbody>\n",
       "    <tr>\n",
       "      <th>0</th>\n",
       "      <td>{'customerID': '775564-BOJSMVON', 'source': 'W...</td>\n",
       "      <td>{'types': {'unit': 'Outros', 'usage': 'Residen...</td>\n",
       "    </tr>\n",
       "    <tr>\n",
       "      <th>1</th>\n",
       "      <td>{'customerID': '660895-AUENKNYY', 'source': 'W...</td>\n",
       "      <td>{'types': {'unit': 'Apartamento', 'usage': 'Re...</td>\n",
       "    </tr>\n",
       "    <tr>\n",
       "      <th>2</th>\n",
       "      <td>{'customerID': '751522-JESYFEQL', 'source': 'W...</td>\n",
       "      <td>{'types': {'unit': 'Outros', 'usage': 'Residen...</td>\n",
       "    </tr>\n",
       "    <tr>\n",
       "      <th>3</th>\n",
       "      <td>{'customerID': '714052-GAAEWYKS', 'source': 'W...</td>\n",
       "      <td>{'types': {'unit': 'Outros', 'usage': 'Comerci...</td>\n",
       "    </tr>\n",
       "    <tr>\n",
       "      <th>4</th>\n",
       "      <td>{'customerID': '568886-ZIBFOMCC', 'source': 'W...</td>\n",
       "      <td>{'types': {'unit': 'Apartamento', 'usage': 'Re...</td>\n",
       "    </tr>\n",
       "    <tr>\n",
       "      <th>...</th>\n",
       "      <td>...</td>\n",
       "      <td>...</td>\n",
       "    </tr>\n",
       "    <tr>\n",
       "      <th>73610</th>\n",
       "      <td>{'customerID': '134148-MJIBCMDQ', 'source': 'W...</td>\n",
       "      <td>{'types': {'unit': 'Casa', 'usage': 'Residenci...</td>\n",
       "    </tr>\n",
       "    <tr>\n",
       "      <th>73611</th>\n",
       "      <td>{'customerID': '541465-QBQVXXXZ', 'source': 'W...</td>\n",
       "      <td>{'types': {'unit': 'Casa', 'usage': 'Residenci...</td>\n",
       "    </tr>\n",
       "    <tr>\n",
       "      <th>73612</th>\n",
       "      <td>{'customerID': '800542-BZREFTQS', 'source': 'W...</td>\n",
       "      <td>{'types': {'unit': 'Apartamento', 'usage': 'Re...</td>\n",
       "    </tr>\n",
       "    <tr>\n",
       "      <th>73613</th>\n",
       "      <td>{'customerID': '939419-ECGUNTIH', 'source': 'W...</td>\n",
       "      <td>{'types': {'unit': 'Casa', 'usage': 'Residenci...</td>\n",
       "    </tr>\n",
       "    <tr>\n",
       "      <th>73614</th>\n",
       "      <td>{'customerID': '610503-VULDJJZZ', 'source': 'W...</td>\n",
       "      <td>{'types': {'unit': 'Apartamento', 'usage': 'Re...</td>\n",
       "    </tr>\n",
       "  </tbody>\n",
       "</table>\n",
       "<p>73615 rows × 2 columns</p>\n",
       "</div>"
      ],
      "text/plain": [
       "                                                   ident  \\\n",
       "0      {'customerID': '775564-BOJSMVON', 'source': 'W...   \n",
       "1      {'customerID': '660895-AUENKNYY', 'source': 'W...   \n",
       "2      {'customerID': '751522-JESYFEQL', 'source': 'W...   \n",
       "3      {'customerID': '714052-GAAEWYKS', 'source': 'W...   \n",
       "4      {'customerID': '568886-ZIBFOMCC', 'source': 'W...   \n",
       "...                                                  ...   \n",
       "73610  {'customerID': '134148-MJIBCMDQ', 'source': 'W...   \n",
       "73611  {'customerID': '541465-QBQVXXXZ', 'source': 'W...   \n",
       "73612  {'customerID': '800542-BZREFTQS', 'source': 'W...   \n",
       "73613  {'customerID': '939419-ECGUNTIH', 'source': 'W...   \n",
       "73614  {'customerID': '610503-VULDJJZZ', 'source': 'W...   \n",
       "\n",
       "                                                 listing  \n",
       "0      {'types': {'unit': 'Outros', 'usage': 'Residen...  \n",
       "1      {'types': {'unit': 'Apartamento', 'usage': 'Re...  \n",
       "2      {'types': {'unit': 'Outros', 'usage': 'Residen...  \n",
       "3      {'types': {'unit': 'Outros', 'usage': 'Comerci...  \n",
       "4      {'types': {'unit': 'Apartamento', 'usage': 'Re...  \n",
       "...                                                  ...  \n",
       "73610  {'types': {'unit': 'Casa', 'usage': 'Residenci...  \n",
       "73611  {'types': {'unit': 'Casa', 'usage': 'Residenci...  \n",
       "73612  {'types': {'unit': 'Apartamento', 'usage': 'Re...  \n",
       "73613  {'types': {'unit': 'Casa', 'usage': 'Residenci...  \n",
       "73614  {'types': {'unit': 'Apartamento', 'usage': 'Re...  \n",
       "\n",
       "[73615 rows x 2 columns]"
      ]
     },
     "execution_count": 2,
     "metadata": {},
     "output_type": "execute_result"
    }
   ],
   "source": [
    "dados = pd.read_json(\n",
    "    path_or_buf = 'json.txt',\n",
    "    orient = 'columns'\n",
    "\n",
    ")\n",
    "\n",
    "dados"
   ]
  },
  {
   "cell_type": "code",
   "execution_count": 3,
   "id": "e8eb90ea",
   "metadata": {},
   "outputs": [],
   "source": [
    "# Ideia é fazer um pré processamento dos dados transformando eles em uma estrutura dataframe, para isso vou usar o normalize \n",
    "# normalize é uma maneira de normaliza e fazer a leitura deles \n",
    "\n",
    "#apliquei em duas listas, dados ident e dados listing\n",
    "\n",
    "dados_lista1 = pd.json_normalize(dados.ident)\n",
    "dados_lista2 = pd.json_normalize(dados.listing, sep ='_')"
   ]
  },
  {
   "cell_type": "code",
   "execution_count": 4,
   "id": "8341e6bf",
   "metadata": {},
   "outputs": [
    {
     "data": {
      "text/html": [
       "<div>\n",
       "<style scoped>\n",
       "    .dataframe tbody tr th:only-of-type {\n",
       "        vertical-align: middle;\n",
       "    }\n",
       "\n",
       "    .dataframe tbody tr th {\n",
       "        vertical-align: top;\n",
       "    }\n",
       "\n",
       "    .dataframe thead th {\n",
       "        text-align: right;\n",
       "    }\n",
       "</style>\n",
       "<table border=\"1\" class=\"dataframe\">\n",
       "  <thead>\n",
       "    <tr style=\"text-align: right;\">\n",
       "      <th></th>\n",
       "      <th>customerID</th>\n",
       "      <th>source</th>\n",
       "      <th>types_unit</th>\n",
       "      <th>types_usage</th>\n",
       "      <th>address_city</th>\n",
       "      <th>address_location_lon</th>\n",
       "      <th>address_location_lat</th>\n",
       "      <th>address_zone</th>\n",
       "      <th>address_neighborhood</th>\n",
       "      <th>prices_price</th>\n",
       "      <th>...</th>\n",
       "      <th>prices_tax_condo</th>\n",
       "      <th>features_bedrooms</th>\n",
       "      <th>features_bathrooms</th>\n",
       "      <th>features_suites</th>\n",
       "      <th>features_parkingSpaces</th>\n",
       "      <th>features_usableAreas</th>\n",
       "      <th>features_totalAreas</th>\n",
       "      <th>features_floors</th>\n",
       "      <th>features_unitsOnTheFloor</th>\n",
       "      <th>features_unitFloor</th>\n",
       "    </tr>\n",
       "  </thead>\n",
       "  <tbody>\n",
       "    <tr>\n",
       "      <th>0</th>\n",
       "      <td>775564-BOJSMVON</td>\n",
       "      <td>Website</td>\n",
       "      <td>Outros</td>\n",
       "      <td>Residencial</td>\n",
       "      <td>Rio de Janeiro</td>\n",
       "      <td>-43.413557</td>\n",
       "      <td>-22.909429</td>\n",
       "      <td>Zona Oeste</td>\n",
       "      <td>Taquara</td>\n",
       "      <td>45000</td>\n",
       "      <td>...</td>\n",
       "      <td>150</td>\n",
       "      <td>0</td>\n",
       "      <td>0</td>\n",
       "      <td>0</td>\n",
       "      <td>1</td>\n",
       "      <td>62</td>\n",
       "      <td>62</td>\n",
       "      <td>0</td>\n",
       "      <td>0</td>\n",
       "      <td>0</td>\n",
       "    </tr>\n",
       "    <tr>\n",
       "      <th>1</th>\n",
       "      <td>660895-AUENKNYY</td>\n",
       "      <td>Website</td>\n",
       "      <td>Apartamento</td>\n",
       "      <td>Residencial</td>\n",
       "      <td>Rio de Janeiro</td>\n",
       "      <td>-43.509141</td>\n",
       "      <td>-22.869698</td>\n",
       "      <td>Zona Oeste</td>\n",
       "      <td>Santíssimo</td>\n",
       "      <td>45000</td>\n",
       "      <td>...</td>\n",
       "      <td>120</td>\n",
       "      <td>2</td>\n",
       "      <td>1</td>\n",
       "      <td>0</td>\n",
       "      <td>1</td>\n",
       "      <td>44</td>\n",
       "      <td>0</td>\n",
       "      <td>0</td>\n",
       "      <td>0</td>\n",
       "      <td>0</td>\n",
       "    </tr>\n",
       "    <tr>\n",
       "      <th>2</th>\n",
       "      <td>751522-JESYFEQL</td>\n",
       "      <td>Website</td>\n",
       "      <td>Outros</td>\n",
       "      <td>Residencial</td>\n",
       "      <td>Rio de Janeiro</td>\n",
       "      <td>-43.646786</td>\n",
       "      <td>-22.986927</td>\n",
       "      <td>Zona Oeste</td>\n",
       "      <td>Pedra de Guaratiba</td>\n",
       "      <td>50000</td>\n",
       "      <td>...</td>\n",
       "      <td>100</td>\n",
       "      <td>0</td>\n",
       "      <td>0</td>\n",
       "      <td>0</td>\n",
       "      <td>0</td>\n",
       "      <td>132</td>\n",
       "      <td>132</td>\n",
       "      <td>0</td>\n",
       "      <td>0</td>\n",
       "      <td>0</td>\n",
       "    </tr>\n",
       "    <tr>\n",
       "      <th>3</th>\n",
       "      <td>714052-GAAEWYKS</td>\n",
       "      <td>Website</td>\n",
       "      <td>Outros</td>\n",
       "      <td>Comercial</td>\n",
       "      <td>Rio de Janeiro</td>\n",
       "      <td>-43.330818</td>\n",
       "      <td>-22.881977</td>\n",
       "      <td>Zona Norte</td>\n",
       "      <td>Cascadura</td>\n",
       "      <td>45000</td>\n",
       "      <td>...</td>\n",
       "      <td>468</td>\n",
       "      <td>0</td>\n",
       "      <td>1</td>\n",
       "      <td>0</td>\n",
       "      <td>0</td>\n",
       "      <td>32</td>\n",
       "      <td>32</td>\n",
       "      <td>0</td>\n",
       "      <td>0</td>\n",
       "      <td>3</td>\n",
       "    </tr>\n",
       "    <tr>\n",
       "      <th>4</th>\n",
       "      <td>568886-ZIBFOMCC</td>\n",
       "      <td>Website</td>\n",
       "      <td>Apartamento</td>\n",
       "      <td>Residencial</td>\n",
       "      <td>Rio de Janeiro</td>\n",
       "      <td>-43.480742</td>\n",
       "      <td>-23.027653</td>\n",
       "      <td>Zona Oeste</td>\n",
       "      <td>Recreio dos Bandeirantes</td>\n",
       "      <td>50000</td>\n",
       "      <td>...</td>\n",
       "      <td>400</td>\n",
       "      <td>3</td>\n",
       "      <td>2</td>\n",
       "      <td>1</td>\n",
       "      <td>1</td>\n",
       "      <td>60</td>\n",
       "      <td>0</td>\n",
       "      <td>3</td>\n",
       "      <td>4</td>\n",
       "      <td>2</td>\n",
       "    </tr>\n",
       "    <tr>\n",
       "      <th>...</th>\n",
       "      <td>...</td>\n",
       "      <td>...</td>\n",
       "      <td>...</td>\n",
       "      <td>...</td>\n",
       "      <td>...</td>\n",
       "      <td>...</td>\n",
       "      <td>...</td>\n",
       "      <td>...</td>\n",
       "      <td>...</td>\n",
       "      <td>...</td>\n",
       "      <td>...</td>\n",
       "      <td>...</td>\n",
       "      <td>...</td>\n",
       "      <td>...</td>\n",
       "      <td>...</td>\n",
       "      <td>...</td>\n",
       "      <td>...</td>\n",
       "      <td>...</td>\n",
       "      <td>...</td>\n",
       "      <td>...</td>\n",
       "      <td>...</td>\n",
       "    </tr>\n",
       "    <tr>\n",
       "      <th>73610</th>\n",
       "      <td>134148-MJIBCMDQ</td>\n",
       "      <td>Website</td>\n",
       "      <td>Casa</td>\n",
       "      <td>Residencial</td>\n",
       "      <td>Rio de Janeiro</td>\n",
       "      <td>-43.388906</td>\n",
       "      <td>-23.003960</td>\n",
       "      <td>Zona Oeste</td>\n",
       "      <td>Barra da Tijuca</td>\n",
       "      <td>10000000</td>\n",
       "      <td>...</td>\n",
       "      <td>2350</td>\n",
       "      <td>5</td>\n",
       "      <td>10</td>\n",
       "      <td>1</td>\n",
       "      <td>4</td>\n",
       "      <td>1024</td>\n",
       "      <td>1024</td>\n",
       "      <td>0</td>\n",
       "      <td>0</td>\n",
       "      <td>0</td>\n",
       "    </tr>\n",
       "    <tr>\n",
       "      <th>73611</th>\n",
       "      <td>541465-QBQVXXXZ</td>\n",
       "      <td>Website</td>\n",
       "      <td>Casa</td>\n",
       "      <td>Residencial</td>\n",
       "      <td>Rio de Janeiro</td>\n",
       "      <td>-43.395032</td>\n",
       "      <td>-23.000902</td>\n",
       "      <td>Zona Oeste</td>\n",
       "      <td>Barra da Tijuca</td>\n",
       "      <td>10000000</td>\n",
       "      <td>...</td>\n",
       "      <td>3000</td>\n",
       "      <td>5</td>\n",
       "      <td>7</td>\n",
       "      <td>5</td>\n",
       "      <td>6</td>\n",
       "      <td>750</td>\n",
       "      <td>1250</td>\n",
       "      <td>0</td>\n",
       "      <td>0</td>\n",
       "      <td>0</td>\n",
       "    </tr>\n",
       "    <tr>\n",
       "      <th>73612</th>\n",
       "      <td>800542-BZREFTQS</td>\n",
       "      <td>Website</td>\n",
       "      <td>Apartamento</td>\n",
       "      <td>Residencial</td>\n",
       "      <td>Rio de Janeiro</td>\n",
       "      <td>-43.189682</td>\n",
       "      <td>-22.987018</td>\n",
       "      <td>Zona Sul</td>\n",
       "      <td>Copacabana</td>\n",
       "      <td>10000000</td>\n",
       "      <td>...</td>\n",
       "      <td>None</td>\n",
       "      <td>4</td>\n",
       "      <td>5</td>\n",
       "      <td>4</td>\n",
       "      <td>3</td>\n",
       "      <td>328</td>\n",
       "      <td>328</td>\n",
       "      <td>0</td>\n",
       "      <td>0</td>\n",
       "      <td>0</td>\n",
       "    </tr>\n",
       "    <tr>\n",
       "      <th>73613</th>\n",
       "      <td>939419-ECGUNTIH</td>\n",
       "      <td>Website</td>\n",
       "      <td>Casa</td>\n",
       "      <td>Residencial</td>\n",
       "      <td>Rio de Janeiro</td>\n",
       "      <td>-43.351836</td>\n",
       "      <td>-23.005037</td>\n",
       "      <td>Zona Oeste</td>\n",
       "      <td>Barra da Tijuca</td>\n",
       "      <td>10000000</td>\n",
       "      <td>...</td>\n",
       "      <td>2400</td>\n",
       "      <td>5</td>\n",
       "      <td>10</td>\n",
       "      <td>5</td>\n",
       "      <td>4</td>\n",
       "      <td>1024</td>\n",
       "      <td>1024</td>\n",
       "      <td>0</td>\n",
       "      <td>0</td>\n",
       "      <td>3</td>\n",
       "    </tr>\n",
       "    <tr>\n",
       "      <th>73614</th>\n",
       "      <td>610503-VULDJJZZ</td>\n",
       "      <td>Website</td>\n",
       "      <td>Apartamento</td>\n",
       "      <td>Residencial</td>\n",
       "      <td>Rio de Janeiro</td>\n",
       "      <td>-43.317740</td>\n",
       "      <td>-23.009397</td>\n",
       "      <td>Zona Oeste</td>\n",
       "      <td>Barra da Tijuca</td>\n",
       "      <td>10000000</td>\n",
       "      <td>...</td>\n",
       "      <td>1800</td>\n",
       "      <td>5</td>\n",
       "      <td>8</td>\n",
       "      <td>5</td>\n",
       "      <td>6</td>\n",
       "      <td>730</td>\n",
       "      <td>730</td>\n",
       "      <td>3</td>\n",
       "      <td>1</td>\n",
       "      <td>0</td>\n",
       "    </tr>\n",
       "  </tbody>\n",
       "</table>\n",
       "<p>73615 rows × 21 columns</p>\n",
       "</div>"
      ],
      "text/plain": [
       "            customerID   source   types_unit  types_usage    address_city  \\\n",
       "0      775564-BOJSMVON  Website       Outros  Residencial  Rio de Janeiro   \n",
       "1      660895-AUENKNYY  Website  Apartamento  Residencial  Rio de Janeiro   \n",
       "2      751522-JESYFEQL  Website       Outros  Residencial  Rio de Janeiro   \n",
       "3      714052-GAAEWYKS  Website       Outros    Comercial  Rio de Janeiro   \n",
       "4      568886-ZIBFOMCC  Website  Apartamento  Residencial  Rio de Janeiro   \n",
       "...                ...      ...          ...          ...             ...   \n",
       "73610  134148-MJIBCMDQ  Website         Casa  Residencial  Rio de Janeiro   \n",
       "73611  541465-QBQVXXXZ  Website         Casa  Residencial  Rio de Janeiro   \n",
       "73612  800542-BZREFTQS  Website  Apartamento  Residencial  Rio de Janeiro   \n",
       "73613  939419-ECGUNTIH  Website         Casa  Residencial  Rio de Janeiro   \n",
       "73614  610503-VULDJJZZ  Website  Apartamento  Residencial  Rio de Janeiro   \n",
       "\n",
       "       address_location_lon  address_location_lat address_zone  \\\n",
       "0                -43.413557            -22.909429   Zona Oeste   \n",
       "1                -43.509141            -22.869698   Zona Oeste   \n",
       "2                -43.646786            -22.986927   Zona Oeste   \n",
       "3                -43.330818            -22.881977   Zona Norte   \n",
       "4                -43.480742            -23.027653   Zona Oeste   \n",
       "...                     ...                   ...          ...   \n",
       "73610            -43.388906            -23.003960   Zona Oeste   \n",
       "73611            -43.395032            -23.000902   Zona Oeste   \n",
       "73612            -43.189682            -22.987018     Zona Sul   \n",
       "73613            -43.351836            -23.005037   Zona Oeste   \n",
       "73614            -43.317740            -23.009397   Zona Oeste   \n",
       "\n",
       "           address_neighborhood prices_price  ... prices_tax_condo  \\\n",
       "0                       Taquara        45000  ...              150   \n",
       "1                    Santíssimo        45000  ...              120   \n",
       "2            Pedra de Guaratiba        50000  ...              100   \n",
       "3                     Cascadura        45000  ...              468   \n",
       "4      Recreio dos Bandeirantes        50000  ...              400   \n",
       "...                         ...          ...  ...              ...   \n",
       "73610           Barra da Tijuca     10000000  ...             2350   \n",
       "73611           Barra da Tijuca     10000000  ...             3000   \n",
       "73612                Copacabana     10000000  ...             None   \n",
       "73613           Barra da Tijuca     10000000  ...             2400   \n",
       "73614           Barra da Tijuca     10000000  ...             1800   \n",
       "\n",
       "      features_bedrooms  features_bathrooms  features_suites  \\\n",
       "0                     0                   0                0   \n",
       "1                     2                   1                0   \n",
       "2                     0                   0                0   \n",
       "3                     0                   1                0   \n",
       "4                     3                   2                1   \n",
       "...                 ...                 ...              ...   \n",
       "73610                 5                  10                1   \n",
       "73611                 5                   7                5   \n",
       "73612                 4                   5                4   \n",
       "73613                 5                  10                5   \n",
       "73614                 5                   8                5   \n",
       "\n",
       "       features_parkingSpaces  features_usableAreas features_totalAreas  \\\n",
       "0                           1                    62                  62   \n",
       "1                           1                    44                   0   \n",
       "2                           0                   132                 132   \n",
       "3                           0                    32                  32   \n",
       "4                           1                    60                   0   \n",
       "...                       ...                   ...                 ...   \n",
       "73610                       4                  1024                1024   \n",
       "73611                       6                   750                1250   \n",
       "73612                       3                   328                 328   \n",
       "73613                       4                  1024                1024   \n",
       "73614                       6                   730                 730   \n",
       "\n",
       "      features_floors  features_unitsOnTheFloor  features_unitFloor  \n",
       "0                   0                         0                   0  \n",
       "1                   0                         0                   0  \n",
       "2                   0                         0                   0  \n",
       "3                   0                         0                   3  \n",
       "4                   3                         4                   2  \n",
       "...               ...                       ...                 ...  \n",
       "73610               0                         0                   0  \n",
       "73611               0                         0                   0  \n",
       "73612               0                         0                   0  \n",
       "73613               0                         0                   3  \n",
       "73614               3                         1                   0  \n",
       "\n",
       "[73615 rows x 21 columns]"
      ]
     },
     "execution_count": 4,
     "metadata": {},
     "output_type": "execute_result"
    }
   ],
   "source": [
    "# concatenei os dados em um dataframe único\n",
    "dados_imoveis = pd.concat([dados_lista1,dados_lista2], axis = 1)\n",
    "dados_imoveis"
   ]
  },
  {
   "cell_type": "markdown",
   "id": "4eaaa728",
   "metadata": {},
   "source": [
    "# Análise exploratória de dados"
   ]
  },
  {
   "cell_type": "code",
   "execution_count": 5,
   "id": "b4ff4d95",
   "metadata": {},
   "outputs": [
    {
     "data": {
      "text/plain": [
       "(73615, 21)"
      ]
     },
     "execution_count": 5,
     "metadata": {},
     "output_type": "execute_result"
    }
   ],
   "source": [
    "#quantas colunas e dados eu tenho dentro da base\n",
    "dados_imoveis.shape"
   ]
  },
  {
   "cell_type": "code",
   "execution_count": 6,
   "id": "46b0115c",
   "metadata": {},
   "outputs": [
    {
     "name": "stdout",
     "output_type": "stream",
     "text": [
      "<class 'pandas.core.frame.DataFrame'>\n",
      "RangeIndex: 73615 entries, 0 to 73614\n",
      "Data columns (total 21 columns):\n",
      " #   Column                    Non-Null Count  Dtype  \n",
      "---  ------                    --------------  -----  \n",
      " 0   customerID                73615 non-null  object \n",
      " 1   source                    73615 non-null  object \n",
      " 2   types_unit                73615 non-null  object \n",
      " 3   types_usage               73615 non-null  object \n",
      " 4   address_city              73615 non-null  object \n",
      " 5   address_location_lon      73468 non-null  float64\n",
      " 6   address_location_lat      73468 non-null  float64\n",
      " 7   address_zone              73615 non-null  object \n",
      " 8   address_neighborhood      73615 non-null  object \n",
      " 9   prices_price              73615 non-null  object \n",
      " 10  prices_tax_iptu           64499 non-null  object \n",
      " 11  prices_tax_condo          67111 non-null  object \n",
      " 12  features_bedrooms         73615 non-null  int64  \n",
      " 13  features_bathrooms        73615 non-null  int64  \n",
      " 14  features_suites           73615 non-null  int64  \n",
      " 15  features_parkingSpaces    73615 non-null  int64  \n",
      " 16  features_usableAreas      73615 non-null  object \n",
      " 17  features_totalAreas       73615 non-null  object \n",
      " 18  features_floors           73615 non-null  int64  \n",
      " 19  features_unitsOnTheFloor  73615 non-null  int64  \n",
      " 20  features_unitFloor        73615 non-null  int64  \n",
      "dtypes: float64(2), int64(7), object(12)\n",
      "memory usage: 11.8+ MB\n"
     ]
    }
   ],
   "source": [
    "#Info traz uma analise geral da informações e aqui consigo analisar que alguns dados estão como objeto \n",
    "# eu preciso para construção do ML que estejam em float ou inteiros (exemplo prices_price)\n",
    "# outro ponto é o index que estão desalinhados e vou precisa alinhar dentro do dataframe\n",
    "\n",
    "dados_imoveis.info()"
   ]
  },
  {
   "cell_type": "code",
   "execution_count": 7,
   "id": "1df3d34a",
   "metadata": {},
   "outputs": [
    {
     "data": {
      "text/plain": [
       "customerID                     0\n",
       "source                         0\n",
       "types_unit                     0\n",
       "types_usage                    0\n",
       "address_city                   0\n",
       "address_location_lon         147\n",
       "address_location_lat         147\n",
       "address_zone                   0\n",
       "address_neighborhood           0\n",
       "prices_price                   0\n",
       "prices_tax_iptu             9116\n",
       "prices_tax_condo            6504\n",
       "features_bedrooms              0\n",
       "features_bathrooms             0\n",
       "features_suites                0\n",
       "features_parkingSpaces         0\n",
       "features_usableAreas           0\n",
       "features_totalAreas            0\n",
       "features_floors                0\n",
       "features_unitsOnTheFloor       0\n",
       "features_unitFloor             0\n",
       "dtype: int64"
      ]
     },
     "execution_count": 7,
     "metadata": {},
     "output_type": "execute_result"
    }
   ],
   "source": [
    "# contagem de dados ausentes  em cada coluna, contém alguns dados e eles devem ser \n",
    "# excluidos para evitar vies de algoritimo\n",
    "dados_imoveis.isna().sum()"
   ]
  },
  {
   "cell_type": "code",
   "execution_count": 8,
   "id": "2087d2a9",
   "metadata": {},
   "outputs": [
    {
     "data": {
      "text/plain": [
       "Zona Oeste      37116\n",
       "Zona Sul        19222\n",
       "Zona Norte      15191\n",
       "Zona Central     1921\n",
       "                  165\n",
       "Name: address_zone, dtype: int64"
      ]
     },
     "execution_count": 8,
     "metadata": {},
     "output_type": "execute_result"
    }
   ],
   "source": [
    "#como vou fazer um trabalho inicial com as regiões onde esses imoveis estão,\n",
    "#vou aplica a mesma logica acima para entender onde está os gaps na base \n",
    "# tem 149 dados não distribuidos \n",
    "\n",
    "dados_imoveis.address_zone.value_counts()"
   ]
  },
  {
   "cell_type": "markdown",
   "id": "93178a84",
   "metadata": {},
   "source": [
    "# Tratamento dos dados \n",
    "\n",
    "- Filtrar dados que vou trabalhar que será residencial e do estados do rio de janeiro \n",
    "- Reset dos index para que o dataset fique padronizado e sem quebras nas colunas \n",
    "- Transformar dados objetos(text) e transforma para números\n",
    "- Limpeza dos dados null da base (coluna regiões)\n",
    "- Substituição dos dados nan (regra de associação por bairro)\n",
    "- Dados Null Taxas de condominio tratamento\n",
    "- Dropar colunas desnecessarias + padronizar as colunas do dataframe"
   ]
  },
  {
   "cell_type": "code",
   "execution_count": null,
   "id": "fd8812b1",
   "metadata": {},
   "outputs": [],
   "source": []
  },
  {
   "cell_type": "markdown",
   "id": "49bb262f",
   "metadata": {},
   "source": [
    "### Filtrar dados que vou trabalhar que será residencial e do estados do rio de janeiro"
   ]
  },
  {
   "cell_type": "code",
   "execution_count": 9,
   "id": "5334b90b",
   "metadata": {},
   "outputs": [
    {
     "data": {
      "text/html": [
       "<div>\n",
       "<style scoped>\n",
       "    .dataframe tbody tr th:only-of-type {\n",
       "        vertical-align: middle;\n",
       "    }\n",
       "\n",
       "    .dataframe tbody tr th {\n",
       "        vertical-align: top;\n",
       "    }\n",
       "\n",
       "    .dataframe thead th {\n",
       "        text-align: right;\n",
       "    }\n",
       "</style>\n",
       "<table border=\"1\" class=\"dataframe\">\n",
       "  <thead>\n",
       "    <tr style=\"text-align: right;\">\n",
       "      <th></th>\n",
       "      <th>customerID</th>\n",
       "      <th>source</th>\n",
       "      <th>types_unit</th>\n",
       "      <th>types_usage</th>\n",
       "      <th>address_city</th>\n",
       "      <th>address_location_lon</th>\n",
       "      <th>address_location_lat</th>\n",
       "      <th>address_zone</th>\n",
       "      <th>address_neighborhood</th>\n",
       "      <th>prices_price</th>\n",
       "      <th>...</th>\n",
       "      <th>prices_tax_condo</th>\n",
       "      <th>features_bedrooms</th>\n",
       "      <th>features_bathrooms</th>\n",
       "      <th>features_suites</th>\n",
       "      <th>features_parkingSpaces</th>\n",
       "      <th>features_usableAreas</th>\n",
       "      <th>features_totalAreas</th>\n",
       "      <th>features_floors</th>\n",
       "      <th>features_unitsOnTheFloor</th>\n",
       "      <th>features_unitFloor</th>\n",
       "    </tr>\n",
       "  </thead>\n",
       "  <tbody>\n",
       "    <tr>\n",
       "      <th>0</th>\n",
       "      <td>775564-BOJSMVON</td>\n",
       "      <td>Website</td>\n",
       "      <td>Outros</td>\n",
       "      <td>Residencial</td>\n",
       "      <td>Rio de Janeiro</td>\n",
       "      <td>-43.413557</td>\n",
       "      <td>-22.909429</td>\n",
       "      <td>Zona Oeste</td>\n",
       "      <td>Taquara</td>\n",
       "      <td>45000</td>\n",
       "      <td>...</td>\n",
       "      <td>150</td>\n",
       "      <td>0</td>\n",
       "      <td>0</td>\n",
       "      <td>0</td>\n",
       "      <td>1</td>\n",
       "      <td>62</td>\n",
       "      <td>62</td>\n",
       "      <td>0</td>\n",
       "      <td>0</td>\n",
       "      <td>0</td>\n",
       "    </tr>\n",
       "    <tr>\n",
       "      <th>1</th>\n",
       "      <td>660895-AUENKNYY</td>\n",
       "      <td>Website</td>\n",
       "      <td>Apartamento</td>\n",
       "      <td>Residencial</td>\n",
       "      <td>Rio de Janeiro</td>\n",
       "      <td>-43.509141</td>\n",
       "      <td>-22.869698</td>\n",
       "      <td>Zona Oeste</td>\n",
       "      <td>Santíssimo</td>\n",
       "      <td>45000</td>\n",
       "      <td>...</td>\n",
       "      <td>120</td>\n",
       "      <td>2</td>\n",
       "      <td>1</td>\n",
       "      <td>0</td>\n",
       "      <td>1</td>\n",
       "      <td>44</td>\n",
       "      <td>0</td>\n",
       "      <td>0</td>\n",
       "      <td>0</td>\n",
       "      <td>0</td>\n",
       "    </tr>\n",
       "    <tr>\n",
       "      <th>2</th>\n",
       "      <td>751522-JESYFEQL</td>\n",
       "      <td>Website</td>\n",
       "      <td>Outros</td>\n",
       "      <td>Residencial</td>\n",
       "      <td>Rio de Janeiro</td>\n",
       "      <td>-43.646786</td>\n",
       "      <td>-22.986927</td>\n",
       "      <td>Zona Oeste</td>\n",
       "      <td>Pedra de Guaratiba</td>\n",
       "      <td>50000</td>\n",
       "      <td>...</td>\n",
       "      <td>100</td>\n",
       "      <td>0</td>\n",
       "      <td>0</td>\n",
       "      <td>0</td>\n",
       "      <td>0</td>\n",
       "      <td>132</td>\n",
       "      <td>132</td>\n",
       "      <td>0</td>\n",
       "      <td>0</td>\n",
       "      <td>0</td>\n",
       "    </tr>\n",
       "    <tr>\n",
       "      <th>4</th>\n",
       "      <td>568886-ZIBFOMCC</td>\n",
       "      <td>Website</td>\n",
       "      <td>Apartamento</td>\n",
       "      <td>Residencial</td>\n",
       "      <td>Rio de Janeiro</td>\n",
       "      <td>-43.480742</td>\n",
       "      <td>-23.027653</td>\n",
       "      <td>Zona Oeste</td>\n",
       "      <td>Recreio dos Bandeirantes</td>\n",
       "      <td>50000</td>\n",
       "      <td>...</td>\n",
       "      <td>400</td>\n",
       "      <td>3</td>\n",
       "      <td>2</td>\n",
       "      <td>1</td>\n",
       "      <td>1</td>\n",
       "      <td>60</td>\n",
       "      <td>0</td>\n",
       "      <td>3</td>\n",
       "      <td>4</td>\n",
       "      <td>2</td>\n",
       "    </tr>\n",
       "    <tr>\n",
       "      <th>5</th>\n",
       "      <td>526755-OBLTYTEN</td>\n",
       "      <td>Website</td>\n",
       "      <td>Outros</td>\n",
       "      <td>Residencial</td>\n",
       "      <td>Rio de Janeiro</td>\n",
       "      <td>-43.571183</td>\n",
       "      <td>-22.966059</td>\n",
       "      <td>Zona Oeste</td>\n",
       "      <td>Guaratiba</td>\n",
       "      <td>50000</td>\n",
       "      <td>...</td>\n",
       "      <td>0</td>\n",
       "      <td>0</td>\n",
       "      <td>0</td>\n",
       "      <td>0</td>\n",
       "      <td>0</td>\n",
       "      <td>200</td>\n",
       "      <td>200</td>\n",
       "      <td>0</td>\n",
       "      <td>0</td>\n",
       "      <td>0</td>\n",
       "    </tr>\n",
       "  </tbody>\n",
       "</table>\n",
       "<p>5 rows × 21 columns</p>\n",
       "</div>"
      ],
      "text/plain": [
       "        customerID   source   types_unit  types_usage    address_city  \\\n",
       "0  775564-BOJSMVON  Website       Outros  Residencial  Rio de Janeiro   \n",
       "1  660895-AUENKNYY  Website  Apartamento  Residencial  Rio de Janeiro   \n",
       "2  751522-JESYFEQL  Website       Outros  Residencial  Rio de Janeiro   \n",
       "4  568886-ZIBFOMCC  Website  Apartamento  Residencial  Rio de Janeiro   \n",
       "5  526755-OBLTYTEN  Website       Outros  Residencial  Rio de Janeiro   \n",
       "\n",
       "   address_location_lon  address_location_lat address_zone  \\\n",
       "0            -43.413557            -22.909429   Zona Oeste   \n",
       "1            -43.509141            -22.869698   Zona Oeste   \n",
       "2            -43.646786            -22.986927   Zona Oeste   \n",
       "4            -43.480742            -23.027653   Zona Oeste   \n",
       "5            -43.571183            -22.966059   Zona Oeste   \n",
       "\n",
       "       address_neighborhood prices_price  ... prices_tax_condo  \\\n",
       "0                   Taquara        45000  ...              150   \n",
       "1                Santíssimo        45000  ...              120   \n",
       "2        Pedra de Guaratiba        50000  ...              100   \n",
       "4  Recreio dos Bandeirantes        50000  ...              400   \n",
       "5                 Guaratiba        50000  ...                0   \n",
       "\n",
       "  features_bedrooms  features_bathrooms  features_suites  \\\n",
       "0                 0                   0                0   \n",
       "1                 2                   1                0   \n",
       "2                 0                   0                0   \n",
       "4                 3                   2                1   \n",
       "5                 0                   0                0   \n",
       "\n",
       "   features_parkingSpaces  features_usableAreas features_totalAreas  \\\n",
       "0                       1                    62                  62   \n",
       "1                       1                    44                   0   \n",
       "2                       0                   132                 132   \n",
       "4                       1                    60                   0   \n",
       "5                       0                   200                 200   \n",
       "\n",
       "  features_floors  features_unitsOnTheFloor  features_unitFloor  \n",
       "0               0                         0                   0  \n",
       "1               0                         0                   0  \n",
       "2               0                         0                   0  \n",
       "4               3                         4                   2  \n",
       "5               0                         0                   0  \n",
       "\n",
       "[5 rows x 21 columns]"
      ]
     },
     "execution_count": 9,
     "metadata": {},
     "output_type": "execute_result"
    }
   ],
   "source": [
    "filtro = (dados_imoveis['types_usage'] == 'Residencial') & (dados_imoveis['address_city'] == 'Rio de Janeiro')\n",
    "\n",
    "dados_imoveis = dados_imoveis[filtro]\n",
    "dados_imoveis.head()"
   ]
  },
  {
   "cell_type": "code",
   "execution_count": null,
   "id": "6e327725",
   "metadata": {},
   "outputs": [],
   "source": []
  },
  {
   "cell_type": "markdown",
   "id": "3e282d55",
   "metadata": {},
   "source": [
    "### Reset dos index para que o dataset fique padronizado e sem quebras nas colunas"
   ]
  },
  {
   "cell_type": "code",
   "execution_count": 10,
   "id": "262a2923",
   "metadata": {},
   "outputs": [],
   "source": [
    "dados_imoveis.reset_index(drop= True, inplace= True)"
   ]
  },
  {
   "cell_type": "code",
   "execution_count": null,
   "id": "5ef43250",
   "metadata": {},
   "outputs": [],
   "source": []
  },
  {
   "cell_type": "markdown",
   "id": "d560df3c",
   "metadata": {},
   "source": [
    "- Transformar dados objetos(text) e transforma para números"
   ]
  },
  {
   "cell_type": "code",
   "execution_count": 11,
   "id": "ff44b4c3",
   "metadata": {},
   "outputs": [],
   "source": [
    "#Transformar dados objetos(text) e transforma para números\n",
    "# uso o astype() para fazer a transformação da variaveis e também abro um dicionario \n",
    "# onde incluo os dados que desejo transforma e pra que tipo\n",
    "\n",
    "dados_imoveis = dados_imoveis.astype({\n",
    "    'prices_price': 'float64',\n",
    "    'prices_tax_iptu': 'float64',\n",
    "    'prices_tax_condo': 'float64',\n",
    "    'features_usableAreas': 'float64',\n",
    "    'features_usableAreas': 'float64',\n",
    "})"
   ]
  },
  {
   "cell_type": "code",
   "execution_count": null,
   "id": "4ab798f4",
   "metadata": {},
   "outputs": [],
   "source": []
  },
  {
   "cell_type": "markdown",
   "id": "2b8604c4",
   "metadata": {},
   "source": [
    "- Limpeza dos dados null da base (coluna regiões)"
   ]
  },
  {
   "cell_type": "code",
   "execution_count": 12,
   "id": "3d2aa4d5",
   "metadata": {},
   "outputs": [],
   "source": [
    "#Limpeza dos dados null da base (coluna regiões) \n",
    "#aqui a ideia é atribuir os valores que não estão atribuidos\n",
    "#para em primeiro momento atribuição nan\n",
    "\n",
    "dados_imoveis['address_zone'] = dados_imoveis['address_zone'].replace('', np.nan)"
   ]
  },
  {
   "cell_type": "code",
   "execution_count": null,
   "id": "dbc7ad24",
   "metadata": {},
   "outputs": [],
   "source": []
  },
  {
   "cell_type": "markdown",
   "id": "a0eab588",
   "metadata": {},
   "source": [
    "### Substituição dos dados nan (regra de associação por bairro)\n",
    "- Para não manter os dados como nan na base, eu vou aplicar uma regra de associacao \n",
    "- A coluna bairro está completa, então vou associar as zonas faltantes, baseado na coluna bairro"
   ]
  },
  {
   "cell_type": "code",
   "execution_count": 13,
   "id": "bb4e6440",
   "metadata": {},
   "outputs": [
    {
     "name": "stdout",
     "output_type": "stream",
     "text": [
      "[{'customerID': '775564-BOJSMVON', 'source': 'Website', 'types_unit': 'Outros', 'types_usage': 'Residencial', 'address_city': 'Rio de Janeiro', 'address_location_lon': -43.413557, 'address_location_lat': -22.909429, 'address_zone': 'Zona Oeste', 'address_neighborhood': 'Taquara', 'prices_price': 45000.0, 'prices_tax_iptu': 0.0, 'prices_tax_condo': 150.0, 'features_bedrooms': 0, 'features_bathrooms': 0, 'features_suites': 0, 'features_parkingSpaces': 1, 'features_usableAreas': 62.0, 'features_totalAreas': '62', 'features_floors': 0, 'features_unitsOnTheFloor': 0, 'features_unitFloor': 0}, {'customerID': '660895-AUENKNYY', 'source': 'Website', 'types_unit': 'Apartamento', 'types_usage': 'Residencial', 'address_city': 'Rio de Janeiro', 'address_location_lon': -43.509141, 'address_location_lat': -22.869698, 'address_zone': 'Zona Oeste', 'address_neighborhood': 'Santíssimo', 'prices_price': 45000.0, 'prices_tax_iptu': 0.0, 'prices_tax_condo': 120.0, 'features_bedrooms': 2, 'features_bathrooms': 1, 'features_suites': 0, 'features_parkingSpaces': 1, 'features_usableAreas': 44.0, 'features_totalAreas': 0, 'features_floors': 0, 'features_unitsOnTheFloor': 0, 'features_unitFloor': 0}, {'customerID': '751522-JESYFEQL', 'source': 'Website', 'types_unit': 'Outros', 'types_usage': 'Residencial', 'address_city': 'Rio de Janeiro', 'address_location_lon': -43.646786, 'address_location_lat': -22.986927, 'address_zone': 'Zona Oeste', 'address_neighborhood': 'Pedra de Guaratiba', 'prices_price': 50000.0, 'prices_tax_iptu': 0.0, 'prices_tax_condo': 100.0, 'features_bedrooms': 0, 'features_bathrooms': 0, 'features_suites': 0, 'features_parkingSpaces': 0, 'features_usableAreas': 132.0, 'features_totalAreas': '132', 'features_floors': 0, 'features_unitsOnTheFloor': 0, 'features_unitFloor': 0}, {'customerID': '568886-ZIBFOMCC', 'source': 'Website', 'types_unit': 'Apartamento', 'types_usage': 'Residencial', 'address_city': 'Rio de Janeiro', 'address_location_lon': -43.480742, 'address_location_lat': -23.027653, 'address_zone': 'Zona Oeste', 'address_neighborhood': 'Recreio dos Bandeirantes', 'prices_price': 50000.0, 'prices_tax_iptu': 120.0, 'prices_tax_condo': 400.0, 'features_bedrooms': 3, 'features_bathrooms': 2, 'features_suites': 1, 'features_parkingSpaces': 1, 'features_usableAreas': 60.0, 'features_totalAreas': 0, 'features_floors': 3, 'features_unitsOnTheFloor': 4, 'features_unitFloor': 2}, {'customerID': '526755-OBLTYTEN', 'source': 'Website', 'types_unit': 'Outros', 'types_usage': 'Residencial', 'address_city': 'Rio de Janeiro', 'address_location_lon': -43.571183, 'address_location_lat': -22.966059, 'address_zone': 'Zona Oeste', 'address_neighborhood': 'Guaratiba', 'prices_price': 50000.0, 'prices_tax_iptu': nan, 'prices_tax_condo': 0.0, 'features_bedrooms': 0, 'features_bathrooms': 0, 'features_suites': 0, 'features_parkingSpaces': 0, 'features_usableAreas': 200.0, 'features_totalAreas': '200', 'features_floors': 0, 'features_unitsOnTheFloor': 0, 'features_unitFloor': 0}, {'customerID': '792086-NWNQTDYL', 'source': 'Website', 'types_unit': 'Apartamento', 'types_usage': 'Residencial', 'address_city': 'Rio de Janeiro', 'address_location_lon': -43.253044, 'address_location_lat': -22.885306, 'address_zone': 'Zona Norte', 'address_neighborhood': 'Jacarezinho', 'prices_price': 45336.0, 'prices_tax_iptu': 0.0, 'prices_tax_condo': 0.0, 'features_bedrooms': 1, 'features_bathrooms': 1, 'features_suites': 0, 'features_parkingSpaces': 1, 'features_usableAreas': 33.0, 'features_totalAreas': '35', 'features_floors': 0, 'features_unitsOnTheFloor': 0, 'features_unitFloor': 0}, {'customerID': '952338-SVULQMXR', 'source': 'Website', 'types_unit': 'Outros', 'types_usage': 'Residencial', 'address_city': 'Rio de Janeiro', 'address_location_lon': -43.651456, 'address_location_lat': -22.877982, 'address_zone': 'Zona Oeste', 'address_neighborhood': 'Santa Cruz', 'prices_price': 45000.0, 'prices_tax_iptu': 0.0, 'prices_tax_condo': 0.0, 'features_bedrooms': 0, 'features_bathrooms': 0, 'features_suites': 0, 'features_parkingSpaces': 0, 'features_usableAreas': 468.0, 'features_totalAreas': '468', 'features_floors': 0, 'features_unitsOnTheFloor': 0, 'features_unitFloor': 0}, {'customerID': '570439-LDICQOXZ', 'source': 'Website', 'types_unit': 'Outros', 'types_usage': 'Residencial', 'address_city': 'Rio de Janeiro', 'address_location_lon': -43.504337, 'address_location_lat': -22.998183, 'address_zone': 'Zona Oeste', 'address_neighborhood': 'Vargem Grande', 'prices_price': 50000.0, 'prices_tax_iptu': 0.0, 'prices_tax_condo': 0.0, 'features_bedrooms': 0, 'features_bathrooms': 0, 'features_suites': 0, 'features_parkingSpaces': 0, 'features_usableAreas': 180.0, 'features_totalAreas': '180', 'features_floors': 0, 'features_unitsOnTheFloor': 0, 'features_unitFloor': 1}, {'customerID': '684023-YTBNKLLO', 'source': 'Website', 'types_unit': 'Outros', 'types_usage': 'Residencial', 'address_city': 'Rio de Janeiro', 'address_location_lon': -43.512464, 'address_location_lat': -22.843794, 'address_zone': 'Zona Oeste', 'address_neighborhood': 'Bangu', 'prices_price': 50000.0, 'prices_tax_iptu': 0.0, 'prices_tax_condo': 0.0, 'features_bedrooms': 0, 'features_bathrooms': 0, 'features_suites': 0, 'features_parkingSpaces': 0, 'features_usableAreas': 128.0, 'features_totalAreas': '128', 'features_floors': 0, 'features_unitsOnTheFloor': 0, 'features_unitFloor': 0}, {'customerID': '629412-VKUMMAVR', 'source': 'Website', 'types_unit': 'Outros', 'types_usage': 'Residencial', 'address_city': 'Rio de Janeiro', 'address_location_lon': -43.37182, 'address_location_lat': -22.91077, 'address_zone': 'Zona Oeste', 'address_neighborhood': 'Tanque', 'prices_price': 45000.0, 'prices_tax_iptu': 0.0, 'prices_tax_condo': 300.0, 'features_bedrooms': 0, 'features_bathrooms': 0, 'features_suites': 0, 'features_parkingSpaces': 0, 'features_usableAreas': 82.0, 'features_totalAreas': '82', 'features_floors': 0, 'features_unitsOnTheFloor': 0, 'features_unitFloor': 1}, {'customerID': '951104-MACIAPIS', 'source': 'Website', 'types_unit': 'Apartamento', 'types_usage': 'Residencial', 'address_city': 'Rio de Janeiro', 'address_location_lon': -43.201575, 'address_location_lat': -22.897014, 'address_zone': 'Zona Central', 'address_neighborhood': 'Santo Cristo', 'prices_price': 45000.0, 'prices_tax_iptu': 120.0, 'prices_tax_condo': 350.0, 'features_bedrooms': 3, 'features_bathrooms': 2, 'features_suites': 1, 'features_parkingSpaces': 1, 'features_usableAreas': 70.0, 'features_totalAreas': 0, 'features_floors': 20, 'features_unitsOnTheFloor': 19, 'features_unitFloor': 20}, {'customerID': '037953-VZOABKON', 'source': 'Website', 'types_unit': 'Apartamento', 'types_usage': 'Residencial', 'address_city': 'Rio de Janeiro', 'address_location_lon': -43.349937, 'address_location_lat': -22.826422, 'address_zone': 'Zona Norte', 'address_neighborhood': 'Coelho Neto', 'prices_price': 45000.0, 'prices_tax_iptu': 0.0, 'prices_tax_condo': nan, 'features_bedrooms': 2, 'features_bathrooms': 1, 'features_suites': 0, 'features_parkingSpaces': 1, 'features_usableAreas': 30.0, 'features_totalAreas': '38', 'features_floors': 0, 'features_unitsOnTheFloor': 0, 'features_unitFloor': 0}, {'customerID': '076685-DTBPTHTT', 'source': 'Website', 'types_unit': 'Outros', 'types_usage': 'Residencial', 'address_city': 'Rio de Janeiro', 'address_location_lon': -43.360071, 'address_location_lat': -22.870156, 'address_zone': 'Zona Norte', 'address_neighborhood': 'Bento Ribeiro', 'prices_price': 50000.0, 'prices_tax_iptu': 0.0, 'prices_tax_condo': 0.0, 'features_bedrooms': 1, 'features_bathrooms': 1, 'features_suites': 1, 'features_parkingSpaces': 0, 'features_usableAreas': 45.0, 'features_totalAreas': '45', 'features_floors': 0, 'features_unitsOnTheFloor': 0, 'features_unitFloor': 3}, {'customerID': '524997-BJRFHJFA', 'source': 'Website', 'types_unit': 'Outros', 'types_usage': 'Residencial', 'address_city': 'Rio de Janeiro', 'address_location_lon': -43.573923, 'address_location_lat': -22.928984, 'address_zone': 'Zona Oeste', 'address_neighborhood': 'Campo Grande', 'prices_price': 45000.0, 'prices_tax_iptu': 150.0, 'prices_tax_condo': 0.0, 'features_bedrooms': 0, 'features_bathrooms': 0, 'features_suites': 0, 'features_parkingSpaces': 0, 'features_usableAreas': 0.0, 'features_totalAreas': 0, 'features_floors': 0, 'features_unitsOnTheFloor': 0, 'features_unitFloor': 0}, {'customerID': '808989-TTALJSQZ', 'source': 'Website', 'types_unit': 'Outros', 'types_usage': 'Residencial', 'address_city': 'Rio de Janeiro', 'address_location_lon': -43.35335, 'address_location_lat': -22.873057, 'address_zone': 'Zona Norte', 'address_neighborhood': 'Oswaldo Cruz', 'prices_price': 50000.0, 'prices_tax_iptu': 1.0, 'prices_tax_condo': 1.0, 'features_bedrooms': 1, 'features_bathrooms': 1, 'features_suites': 0, 'features_parkingSpaces': 0, 'features_usableAreas': 40.0, 'features_totalAreas': '40', 'features_floors': 0, 'features_unitsOnTheFloor': 0, 'features_unitFloor': 0}, {'customerID': '315170-FHAZXKXI', 'source': 'Website', 'types_unit': 'Apartamento', 'types_usage': 'Residencial', 'address_city': 'Rio de Janeiro', 'address_location_lon': -43.428833, 'address_location_lat': -22.984799, 'address_zone': 'Zona Oeste', 'address_neighborhood': 'Camorim', 'prices_price': 50000.0, 'prices_tax_iptu': 0.0, 'prices_tax_condo': 0.0, 'features_bedrooms': 2, 'features_bathrooms': 1, 'features_suites': 0, 'features_parkingSpaces': 0, 'features_usableAreas': 60.0, 'features_totalAreas': '60', 'features_floors': 0, 'features_unitsOnTheFloor': 0, 'features_unitFloor': 0}, {'customerID': '597728-IAGBYKUE', 'source': 'Website', 'types_unit': 'Outros', 'types_usage': 'Residencial', 'address_city': 'Rio de Janeiro', 'address_location_lon': -43.695709, 'address_location_lat': -22.969253, 'address_zone': 'Zona Oeste', 'address_neighborhood': 'Sepetiba', 'prices_price': 45000.0, 'prices_tax_iptu': 0.0, 'prices_tax_condo': 0.0, 'features_bedrooms': 0, 'features_bathrooms': 0, 'features_suites': 0, 'features_parkingSpaces': 0, 'features_usableAreas': 0.0, 'features_totalAreas': 0, 'features_floors': 0, 'features_unitsOnTheFloor': 0, 'features_unitFloor': 0}, {'customerID': '837728-ZTMXBNLS', 'source': 'Website', 'types_unit': 'Apartamento', 'types_usage': 'Residencial', 'address_city': 'Rio de Janeiro', 'address_location_lon': -43.302529, 'address_location_lat': -22.815365, 'address_zone': 'Zona Norte', 'address_neighborhood': 'Vigário Geral', 'prices_price': 60000.0, 'prices_tax_iptu': 0.0, 'prices_tax_condo': 0.0, 'features_bedrooms': 2, 'features_bathrooms': 1, 'features_suites': 0, 'features_parkingSpaces': 0, 'features_usableAreas': 72.0, 'features_totalAreas': 0, 'features_floors': 0, 'features_unitsOnTheFloor': 0, 'features_unitFloor': 0}, {'customerID': '078122-LOOOLWOV', 'source': 'Website', 'types_unit': 'Casa', 'types_usage': 'Residencial', 'address_city': 'Rio de Janeiro', 'address_location_lon': -43.344722, 'address_location_lat': -22.888556, 'address_zone': 'Zona Norte', 'address_neighborhood': 'Campinho', 'prices_price': 50250.0, 'prices_tax_iptu': 0.0, 'prices_tax_condo': 0.0, 'features_bedrooms': 3, 'features_bathrooms': 1, 'features_suites': 2, 'features_parkingSpaces': 2, 'features_usableAreas': 105.0, 'features_totalAreas': '120', 'features_floors': 0, 'features_unitsOnTheFloor': 0, 'features_unitFloor': 1}, {'customerID': '366507-AJJVGRXY', 'source': 'Website', 'types_unit': 'Casa', 'types_usage': 'Residencial', 'address_city': 'Rio de Janeiro', 'address_location_lon': -43.415601, 'address_location_lat': -22.882122, 'address_zone': 'Zona Oeste', 'address_neighborhood': 'Realengo', 'prices_price': 60000.0, 'prices_tax_iptu': 0.0, 'prices_tax_condo': 0.0, 'features_bedrooms': 2, 'features_bathrooms': 1, 'features_suites': 0, 'features_parkingSpaces': 0, 'features_usableAreas': 110.0, 'features_totalAreas': 0, 'features_floors': 0, 'features_unitsOnTheFloor': 0, 'features_unitFloor': 0}, {'customerID': '597650-DPPRERLT', 'source': 'Website', 'types_unit': 'Casa', 'types_usage': 'Residencial', 'address_city': 'Rio de Janeiro', 'address_location_lon': -43.384838, 'address_location_lat': -22.936227, 'address_zone': 'Zona Oeste', 'address_neighborhood': 'Jacarepaguá', 'prices_price': 60000.0, 'prices_tax_iptu': 0.0, 'prices_tax_condo': 0.0, 'features_bedrooms': 2, 'features_bathrooms': 2, 'features_suites': 0, 'features_parkingSpaces': 0, 'features_usableAreas': 70.0, 'features_totalAreas': 0, 'features_floors': 3, 'features_unitsOnTheFloor': 1, 'features_unitFloor': 3}, {'customerID': '700359-CRHVVJAG', 'source': 'Website', 'types_unit': 'Apartamento', 'types_usage': 'Residencial', 'address_city': 'Rio de Janeiro', 'address_location_lon': -43.362406, 'address_location_lat': -22.943739, 'address_zone': 'Zona Oeste', 'address_neighborhood': 'Cidade de Deus', 'prices_price': 59900.0, 'prices_tax_iptu': nan, 'prices_tax_condo': 70.0, 'features_bedrooms': 1, 'features_bathrooms': 1, 'features_suites': 0, 'features_parkingSpaces': 1, 'features_usableAreas': 35.0, 'features_totalAreas': '35', 'features_floors': 2, 'features_unitsOnTheFloor': 0, 'features_unitFloor': 2}, {'customerID': '027496-AAXNHOTM', 'source': 'Website', 'types_unit': 'Casa', 'types_usage': 'Residencial', 'address_city': 'Rio de Janeiro', 'address_location_lon': -43.35646, 'address_location_lat': -22.843824, 'address_zone': 'Zona Norte', 'address_neighborhood': 'Honório Gurgel', 'prices_price': 60000.0, 'prices_tax_iptu': 0.0, 'prices_tax_condo': nan, 'features_bedrooms': 1, 'features_bathrooms': 1, 'features_suites': 0, 'features_parkingSpaces': 0, 'features_usableAreas': 50.0, 'features_totalAreas': '50', 'features_floors': 0, 'features_unitsOnTheFloor': 0, 'features_unitFloor': 0}, {'customerID': '746672-ORGYUCGY', 'source': 'Website', 'types_unit': 'Apartamento', 'types_usage': 'Residencial', 'address_city': 'Rio de Janeiro', 'address_location_lon': -43.187231, 'address_location_lat': -22.906049, 'address_zone': 'Zona Central', 'address_neighborhood': 'Centro', 'prices_price': 60000.0, 'prices_tax_iptu': 0.0, 'prices_tax_condo': 600.0, 'features_bedrooms': 0, 'features_bathrooms': 1, 'features_suites': 0, 'features_parkingSpaces': 0, 'features_usableAreas': 19.0, 'features_totalAreas': 0, 'features_floors': 12, 'features_unitsOnTheFloor': 0, 'features_unitFloor': 3}, {'customerID': '033467-BKAXBNVM', 'source': 'Website', 'types_unit': 'Apartamento', 'types_usage': 'Residencial', 'address_city': 'Rio de Janeiro', 'address_location_lon': -43.62963, 'address_location_lat': -22.88773, 'address_zone': 'Zona Oeste', 'address_neighborhood': 'Cosmos', 'prices_price': 64968.0, 'prices_tax_iptu': 0.0, 'prices_tax_condo': 0.0, 'features_bedrooms': 2, 'features_bathrooms': 1, 'features_suites': 0, 'features_parkingSpaces': 0, 'features_usableAreas': 42.0, 'features_totalAreas': 0, 'features_floors': 0, 'features_unitsOnTheFloor': 0, 'features_unitFloor': 0}, {'customerID': '322557-ASMFHPLM', 'source': 'Website', 'types_unit': 'Apartamento', 'types_usage': 'Residencial', 'address_city': 'Rio de Janeiro', 'address_location_lon': -43.303957, 'address_location_lat': -22.869196, 'address_zone': 'Zona Norte', 'address_neighborhood': 'Tomás Coelho', 'prices_price': 70000.0, 'prices_tax_iptu': 32.0, 'prices_tax_condo': 300.0, 'features_bedrooms': 2, 'features_bathrooms': 1, 'features_suites': 0, 'features_parkingSpaces': 1, 'features_usableAreas': 60.0, 'features_totalAreas': '60', 'features_floors': 4, 'features_unitsOnTheFloor': 4, 'features_unitFloor': 1}, {'customerID': '262188-OVYTDJCH', 'source': 'Website', 'types_unit': 'Apartamento', 'types_usage': 'Residencial', 'address_city': 'Rio de Janeiro', 'address_location_lon': -43.324988, 'address_location_lat': -22.885805, 'address_zone': 'Zona Norte', 'address_neighborhood': 'Cascadura', 'prices_price': 70000.0, 'prices_tax_iptu': 0.0, 'prices_tax_condo': nan, 'features_bedrooms': 2, 'features_bathrooms': 2, 'features_suites': 0, 'features_parkingSpaces': 0, 'features_usableAreas': 34.0, 'features_totalAreas': '34', 'features_floors': 0, 'features_unitsOnTheFloor': 0, 'features_unitFloor': 0}, {'customerID': '864441-VOKAUJKK', 'source': 'Website', 'types_unit': 'Apartamento', 'types_usage': 'Residencial', 'address_city': 'Rio de Janeiro', 'address_location_lon': -43.376953, 'address_location_lat': -22.81583, 'address_zone': 'Zona Norte', 'address_neighborhood': 'Pavuna', 'prices_price': 65000.0, 'prices_tax_iptu': 0.0, 'prices_tax_condo': 250.0, 'features_bedrooms': 2, 'features_bathrooms': 1, 'features_suites': 0, 'features_parkingSpaces': 1, 'features_usableAreas': 55.0, 'features_totalAreas': 0, 'features_floors': 4, 'features_unitsOnTheFloor': 0, 'features_unitFloor': 0}, {'customerID': '530165-ZGXJPOYI', 'source': 'Website', 'types_unit': 'Apartamento', 'types_usage': 'Residencial', 'address_city': 'Rio de Janeiro', 'address_location_lon': -43.630792, 'address_location_lat': -22.882398, 'address_zone': 'Zona Oeste', 'address_neighborhood': 'Paciência', 'prices_price': 70000.0, 'prices_tax_iptu': 0.0, 'prices_tax_condo': 95.0, 'features_bedrooms': 2, 'features_bathrooms': 1, 'features_suites': 0, 'features_parkingSpaces': 1, 'features_usableAreas': 40.0, 'features_totalAreas': '40', 'features_floors': 5, 'features_unitsOnTheFloor': 4, 'features_unitFloor': 0}, {'customerID': '200345-XTAQVQMM', 'source': 'Website', 'types_unit': 'Apartamento', 'types_usage': 'Residencial', 'address_city': 'Rio de Janeiro', 'address_location_lon': -43.345745, 'address_location_lat': -22.903359, 'address_zone': 'Zona Oeste', 'address_neighborhood': 'Praça Seca', 'prices_price': 65000.0, 'prices_tax_iptu': nan, 'prices_tax_condo': 275.0, 'features_bedrooms': 1, 'features_bathrooms': 1, 'features_suites': 0, 'features_parkingSpaces': 1, 'features_usableAreas': 30.0, 'features_totalAreas': '30', 'features_floors': 0, 'features_unitsOnTheFloor': 0, 'features_unitFloor': 0}, {'customerID': '767954-LNRQNJHN', 'source': 'Website', 'types_unit': 'Apartamento', 'types_usage': 'Residencial', 'address_city': 'Rio de Janeiro', 'address_location_lon': -43.364735, 'address_location_lat': -22.89446, 'address_zone': 'Zona Oeste', 'address_neighborhood': 'Vila Valqueire', 'prices_price': 65000.0, 'prices_tax_iptu': nan, 'prices_tax_condo': nan, 'features_bedrooms': 1, 'features_bathrooms': 1, 'features_suites': 0, 'features_parkingSpaces': 0, 'features_usableAreas': 48.0, 'features_totalAreas': '48', 'features_floors': 0, 'features_unitsOnTheFloor': 0, 'features_unitFloor': 0}, {'customerID': '163202-SKWHNBJO', 'source': 'Website', 'types_unit': 'Apartamento', 'types_usage': 'Residencial', 'address_city': 'Rio de Janeiro', 'address_location_lon': -43.583425, 'address_location_lat': -22.912013, 'address_zone': 'Zona Oeste', 'address_neighborhood': 'Inhoaíba', 'prices_price': 65000.0, 'prices_tax_iptu': 0.0, 'prices_tax_condo': 0.0, 'features_bedrooms': 2, 'features_bathrooms': 1, 'features_suites': 0, 'features_parkingSpaces': 1, 'features_usableAreas': 43.0, 'features_totalAreas': 0, 'features_floors': 0, 'features_unitsOnTheFloor': 0, 'features_unitFloor': 0}, {'customerID': '483218-QIPTUQMZ', 'source': 'Website', 'types_unit': 'Apartamento', 'types_usage': 'Residencial', 'address_city': 'Rio de Janeiro', 'address_location_lon': -43.31462, 'address_location_lat': -22.85625, 'address_zone': 'Zona Norte', 'address_neighborhood': 'Vicente de Carvalho', 'prices_price': 70000.0, 'prices_tax_iptu': 0.0, 'prices_tax_condo': 0.0, 'features_bedrooms': 1, 'features_bathrooms': 1, 'features_suites': 0, 'features_parkingSpaces': 0, 'features_usableAreas': 42.0, 'features_totalAreas': '42', 'features_floors': 0, 'features_unitsOnTheFloor': 0, 'features_unitFloor': 0}, {'customerID': '949715-ODFLQCYM', 'source': 'Website', 'types_unit': 'Casa', 'types_usage': 'Residencial', 'address_city': 'Rio de Janeiro', 'address_location_lon': -43.53603, 'address_location_lat': -22.894516, 'address_zone': 'Zona Oeste', 'address_neighborhood': 'Senador Vasconcelos', 'prices_price': 70000.0, 'prices_tax_iptu': 0.0, 'prices_tax_condo': 0.0, 'features_bedrooms': 1, 'features_bathrooms': 1, 'features_suites': 0, 'features_parkingSpaces': 0, 'features_usableAreas': 45.0, 'features_totalAreas': '65', 'features_floors': 0, 'features_unitsOnTheFloor': 0, 'features_unitFloor': 0}, {'customerID': '180611-HKKHHKXG', 'source': 'Website', 'types_unit': 'Apartamento', 'types_usage': 'Residencial', 'address_city': 'Rio de Janeiro', 'address_location_lon': -43.340632, 'address_location_lat': -22.858242, 'address_zone': 'Zona Norte', 'address_neighborhood': 'Turiaçu', 'prices_price': 73952.0, 'prices_tax_iptu': 0.0, 'prices_tax_condo': 0.0, 'features_bedrooms': 2, 'features_bathrooms': 1, 'features_suites': 0, 'features_parkingSpaces': 0, 'features_usableAreas': 49.0, 'features_totalAreas': 0, 'features_floors': 0, 'features_unitsOnTheFloor': 0, 'features_unitFloor': 3}, {'customerID': '581194-RTJNKZGX', 'source': 'Website', 'types_unit': 'Apartamento', 'types_usage': 'Residencial', 'address_city': 'Rio de Janeiro', 'address_location_lon': -43.287576, 'address_location_lat': -22.837859, 'address_zone': 'Zona Norte', 'address_neighborhood': 'Penha Circular', 'prices_price': 75000.0, 'prices_tax_iptu': 0.0, 'prices_tax_condo': 350.0, 'features_bedrooms': 2, 'features_bathrooms': 1, 'features_suites': 0, 'features_parkingSpaces': 0, 'features_usableAreas': 75.0, 'features_totalAreas': '75', 'features_floors': 0, 'features_unitsOnTheFloor': 0, 'features_unitFloor': 4}, {'customerID': '603828-PMOQKWHE', 'source': 'Website', 'types_unit': 'Apartamento', 'types_usage': 'Residencial', 'address_city': 'Rio de Janeiro', 'address_location_lon': -43.319648, 'address_location_lat': -22.895935, 'address_zone': 'Zona Norte', 'address_neighborhood': 'Quintino Bocaiúva', 'prices_price': 75000.0, 'prices_tax_iptu': 0.0, 'prices_tax_condo': 0.0, 'features_bedrooms': 1, 'features_bathrooms': 1, 'features_suites': 0, 'features_parkingSpaces': 1, 'features_usableAreas': 55.0, 'features_totalAreas': '55', 'features_floors': 2, 'features_unitsOnTheFloor': 1, 'features_unitFloor': 0}, {'customerID': '781886-BKWQWOUK', 'source': 'Website', 'types_unit': 'Apartamento', 'types_usage': 'Residencial', 'address_city': 'Rio de Janeiro', 'address_location_lon': -43.261999, 'address_location_lat': -22.901417, 'address_zone': 'Zona Norte', 'address_neighborhood': 'Sampaio', 'prices_price': 75000.0, 'prices_tax_iptu': 0.0, 'prices_tax_condo': 0.0, 'features_bedrooms': 2, 'features_bathrooms': 1, 'features_suites': 0, 'features_parkingSpaces': 0, 'features_usableAreas': 65.0, 'features_totalAreas': '65', 'features_floors': 0, 'features_unitsOnTheFloor': 0, 'features_unitFloor': 0}, {'customerID': '589782-TPCRCISK', 'source': 'Website', 'types_unit': 'Apartamento', 'types_usage': 'Residencial', 'address_city': 'Rio de Janeiro', 'address_location_lon': -43.310236, 'address_location_lat': -22.885478, 'address_zone': 'Zona Norte', 'address_neighborhood': 'Piedade', 'prices_price': 79580.0, 'prices_tax_iptu': 64.0, 'prices_tax_condo': 180.0, 'features_bedrooms': 1, 'features_bathrooms': 1, 'features_suites': 0, 'features_parkingSpaces': 0, 'features_usableAreas': 26.0, 'features_totalAreas': '26', 'features_floors': 3, 'features_unitsOnTheFloor': 27, 'features_unitFloor': 3}, {'customerID': '869146-NQCRYADE', 'source': 'Website', 'types_unit': 'Apartamento', 'types_usage': 'Residencial', 'address_city': 'Rio de Janeiro', 'address_location_lon': -43.300698, 'address_location_lat': -22.835584, 'address_zone': 'Zona Norte', 'address_neighborhood': 'Braz de Pina', 'prices_price': 75000.0, 'prices_tax_iptu': 0.0, 'prices_tax_condo': 60.0, 'features_bedrooms': 2, 'features_bathrooms': 1, 'features_suites': 0, 'features_parkingSpaces': 1, 'features_usableAreas': 40.0, 'features_totalAreas': '40', 'features_floors': 0, 'features_unitsOnTheFloor': 0, 'features_unitFloor': 5}, {'customerID': '493557-TPVGRKVH', 'source': 'Website', 'types_unit': 'Outros', 'types_usage': 'Residencial', 'address_city': 'Rio de Janeiro', 'address_location_lon': -43.219029, 'address_location_lat': -22.892591, 'address_zone': 'Zona Norte', 'address_neighborhood': 'São Cristóvão', 'prices_price': 78000.0, 'prices_tax_iptu': 0.0, 'prices_tax_condo': 0.0, 'features_bedrooms': 0, 'features_bathrooms': 0, 'features_suites': 0, 'features_parkingSpaces': 0, 'features_usableAreas': 4.0, 'features_totalAreas': '4', 'features_floors': 0, 'features_unitsOnTheFloor': 0, 'features_unitFloor': 0}, {'customerID': '328969-JBLENNEA', 'source': 'Website', 'types_unit': 'Outros', 'types_usage': 'Residencial', 'address_city': 'Rio de Janeiro', 'address_location_lon': -43.362711, 'address_location_lat': -22.85344, 'address_zone': 'Zona Norte', 'address_neighborhood': 'Marechal Hermes', 'prices_price': 79990.0, 'prices_tax_iptu': 0.0, 'prices_tax_condo': 0.0, 'features_bedrooms': 0, 'features_bathrooms': 0, 'features_suites': 0, 'features_parkingSpaces': 0, 'features_usableAreas': 800.0, 'features_totalAreas': '800', 'features_floors': 0, 'features_unitsOnTheFloor': 0, 'features_unitFloor': 0}, {'customerID': '518254-URWPXPFG', 'source': 'Website', 'types_unit': 'Apartamento', 'types_usage': 'Residencial', 'address_city': 'Rio de Janeiro', 'address_location_lon': -43.189661, 'address_location_lat': -22.914738, 'address_zone': 'Zona Sul', 'address_neighborhood': 'Santa Teresa', 'prices_price': 75000.0, 'prices_tax_iptu': 0.0, 'prices_tax_condo': 0.0, 'features_bedrooms': 1, 'features_bathrooms': 1, 'features_suites': 0, 'features_parkingSpaces': 0, 'features_usableAreas': 23.0, 'features_totalAreas': 0, 'features_floors': 0, 'features_unitsOnTheFloor': 0, 'features_unitFloor': 0}, {'customerID': '515657-YDYQWQPX', 'source': 'Website', 'types_unit': 'Apartamento', 'types_usage': 'Residencial', 'address_city': 'Rio de Janeiro', 'address_location_lon': -43.254609, 'address_location_lat': -22.913919, 'address_zone': 'Zona Norte', 'address_neighborhood': 'Vila Isabel', 'prices_price': 74999.0, 'prices_tax_iptu': 0.0, 'prices_tax_condo': 0.0, 'features_bedrooms': 2, 'features_bathrooms': 1, 'features_suites': 0, 'features_parkingSpaces': 0, 'features_usableAreas': 50.0, 'features_totalAreas': '50', 'features_floors': 0, 'features_unitsOnTheFloor': 0, 'features_unitFloor': 0}, {'customerID': '451415-RIRHVATI', 'source': 'Website', 'types_unit': 'Apartamento', 'types_usage': 'Residencial', 'address_city': 'Rio de Janeiro', 'address_location_lon': -43.384365, 'address_location_lat': -22.949155, 'address_zone': 'Zona Oeste', 'address_neighborhood': 'Curicica', 'prices_price': 80000.0, 'prices_tax_iptu': 0.0, 'prices_tax_condo': nan, 'features_bedrooms': 1, 'features_bathrooms': 1, 'features_suites': 0, 'features_parkingSpaces': 0, 'features_usableAreas': 40.0, 'features_totalAreas': '40', 'features_floors': 0, 'features_unitsOnTheFloor': 0, 'features_unitFloor': 0}, {'customerID': '209729-DGDQEWIY', 'source': 'Website', 'types_unit': 'Apartamento', 'types_usage': 'Residencial', 'address_city': 'Rio de Janeiro', 'address_location_lon': -43.297569, 'address_location_lat': -22.892418, 'address_zone': 'Zona Norte', 'address_neighborhood': 'Engenho de Dentro', 'prices_price': 81230.0, 'prices_tax_iptu': 100.0, 'prices_tax_condo': 100.0, 'features_bedrooms': 2, 'features_bathrooms': 1, 'features_suites': 0, 'features_parkingSpaces': 1, 'features_usableAreas': 46.0, 'features_totalAreas': '46', 'features_floors': 11, 'features_unitsOnTheFloor': 8, 'features_unitFloor': 2}, {'customerID': '199199-ZUCTRMGC', 'source': 'Website', 'types_unit': 'Apartamento', 'types_usage': 'Residencial', 'address_city': 'Rio de Janeiro', 'address_location_lon': -43.296072, 'address_location_lat': -22.866831, 'address_zone': 'Zona Norte', 'address_neighborhood': 'Engenho da Rainha', 'prices_price': 90000.0, 'prices_tax_iptu': 100.0, 'prices_tax_condo': 236.0, 'features_bedrooms': 1, 'features_bathrooms': 1, 'features_suites': 0, 'features_parkingSpaces': 1, 'features_usableAreas': 35.0, 'features_totalAreas': '35', 'features_floors': 4, 'features_unitsOnTheFloor': 4, 'features_unitFloor': 3}, {'customerID': '574134-CMBLYFPE', 'source': 'Website', 'types_unit': 'Apartamento', 'types_usage': 'Residencial', 'address_city': 'Rio de Janeiro', 'address_location_lon': -43.330107, 'address_location_lat': -22.860275, 'address_zone': 'Zona Norte', 'address_neighborhood': 'Madureira', 'prices_price': 90000.0, 'prices_tax_iptu': 0.0, 'prices_tax_condo': 0.0, 'features_bedrooms': 2, 'features_bathrooms': 1, 'features_suites': 0, 'features_parkingSpaces': 0, 'features_usableAreas': 59.0, 'features_totalAreas': 0, 'features_floors': 0, 'features_unitsOnTheFloor': 0, 'features_unitFloor': 0}, {'customerID': '376135-CMOSQLMU', 'source': 'Website', 'types_unit': 'Apartamento', 'types_usage': 'Residencial', 'address_city': 'Rio de Janeiro', 'address_location_lon': -43.272368, 'address_location_lat': -22.906776999999998, 'address_zone': 'Zona Norte', 'address_neighborhood': 'Engenho Novo', 'prices_price': 90000.0, 'prices_tax_iptu': 0.0, 'prices_tax_condo': 320.0, 'features_bedrooms': 1, 'features_bathrooms': 1, 'features_suites': 0, 'features_parkingSpaces': 0, 'features_usableAreas': 40.0, 'features_totalAreas': 0, 'features_floors': 4, 'features_unitsOnTheFloor': 4, 'features_unitFloor': 2}, {'customerID': '434386-MBKCACKJ', 'source': 'Website', 'types_unit': 'Casa', 'types_usage': 'Residencial', 'address_city': 'Rio de Janeiro', 'address_location_lon': -43.327545, 'address_location_lat': -22.874881, 'address_zone': 'Zona Norte', 'address_neighborhood': 'Engenheiro Leal', 'prices_price': 90000.0, 'prices_tax_iptu': 0.0, 'prices_tax_condo': 190.0, 'features_bedrooms': 2, 'features_bathrooms': 2, 'features_suites': 0, 'features_parkingSpaces': 0, 'features_usableAreas': 70.0, 'features_totalAreas': 0, 'features_floors': 0, 'features_unitsOnTheFloor': 0, 'features_unitFloor': 0}, {'customerID': '807518-GYVCEHCI', 'source': 'Website', 'types_unit': 'Apartamento', 'types_usage': 'Residencial', 'address_city': 'Rio de Janeiro', 'address_location_lon': -43.26285, 'address_location_lat': -22.87316, 'address_zone': 'Zona Norte', 'address_neighborhood': 'Higienópolis', 'prices_price': 84150.0, 'prices_tax_iptu': 0.0, 'prices_tax_condo': 0.0, 'features_bedrooms': 2, 'features_bathrooms': 1, 'features_suites': 0, 'features_parkingSpaces': 1, 'features_usableAreas': 57.0, 'features_totalAreas': '60', 'features_floors': 2, 'features_unitsOnTheFloor': 0, 'features_unitFloor': 2}, {'customerID': '938162-DGGKUQGT', 'source': 'Website', 'types_unit': 'Apartamento', 'types_usage': 'Residencial', 'address_city': 'Rio de Janeiro', 'address_location_lon': -43.451467, 'address_location_lat': -22.882215, 'address_zone': 'Zona Oeste', 'address_neighborhood': 'Padre Miguel', 'prices_price': 90000.0, 'prices_tax_iptu': nan, 'prices_tax_condo': nan, 'features_bedrooms': 1, 'features_bathrooms': 1, 'features_suites': 0, 'features_parkingSpaces': 0, 'features_usableAreas': 65.0, 'features_totalAreas': '70', 'features_floors': 0, 'features_unitsOnTheFloor': 0, 'features_unitFloor': 0}, {'customerID': '172572-ZMBEMAON', 'source': 'Website', 'types_unit': 'Outros', 'types_usage': 'Residencial', 'address_city': 'Rio de Janeiro', 'address_location_lon': -43.354001, 'address_location_lat': -22.849668, 'address_zone': 'Zona Norte', 'address_neighborhood': 'Rocha Miranda', 'prices_price': 85000.0, 'prices_tax_iptu': nan, 'prices_tax_condo': nan, 'features_bedrooms': 1, 'features_bathrooms': 1, 'features_suites': 0, 'features_parkingSpaces': 0, 'features_usableAreas': 30.0, 'features_totalAreas': '30', 'features_floors': 0, 'features_unitsOnTheFloor': 0, 'features_unitFloor': 0}, {'customerID': '346809-NTGJEFXM', 'source': 'Website', 'types_unit': 'Casa', 'types_usage': 'Residencial', 'address_city': 'Rio de Janeiro', 'address_location_lon': -43.299467, 'address_location_lat': -22.873899, 'address_zone': 'Zona Norte', 'address_neighborhood': 'Pilares', 'prices_price': 90000.0, 'prices_tax_iptu': 0.0, 'prices_tax_condo': 40.0, 'features_bedrooms': 1, 'features_bathrooms': 1, 'features_suites': 0, 'features_parkingSpaces': 1, 'features_usableAreas': 74.0, 'features_totalAreas': '74', 'features_floors': 0, 'features_unitsOnTheFloor': 0, 'features_unitFloor': 0}, {'customerID': '419355-FRHUMFOT', 'source': 'Website', 'types_unit': 'Apartamento', 'types_usage': 'Residencial', 'address_city': 'Rio de Janeiro', 'address_location_lon': -43.402048, 'address_location_lat': -22.820913, 'address_zone': 'Zona Norte', 'address_neighborhood': 'Anchieta', 'prices_price': 90000.0, 'prices_tax_iptu': nan, 'prices_tax_condo': 170.0, 'features_bedrooms': 1, 'features_bathrooms': 1, 'features_suites': 0, 'features_parkingSpaces': 1, 'features_usableAreas': 40.0, 'features_totalAreas': '52', 'features_floors': 0, 'features_unitsOnTheFloor': 0, 'features_unitFloor': 1}, {'customerID': '583156-RFQQMRCD', 'source': 'Website', 'types_unit': 'Outros', 'types_usage': 'Residencial', 'address_city': 'Rio de Janeiro', 'address_location_lon': -43.402387, 'address_location_lat': -22.888769, 'address_zone': 'Zona Oeste', 'address_neighborhood': 'Jardim Sulacap', 'prices_price': 90000.0, 'prices_tax_iptu': nan, 'prices_tax_condo': 200.0, 'features_bedrooms': 1, 'features_bathrooms': 0, 'features_suites': 0, 'features_parkingSpaces': 0, 'features_usableAreas': 0.0, 'features_totalAreas': 0, 'features_floors': 0, 'features_unitsOnTheFloor': 0, 'features_unitFloor': 0}, {'customerID': '246399-NJTDQLIS', 'source': 'Website', 'types_unit': 'Apartamento', 'types_usage': 'Residencial', 'address_city': 'Rio de Janeiro', 'address_location_lon': -43.306129, 'address_location_lat': -22.899714, 'address_zone': 'Zona Norte', 'address_neighborhood': 'Encantado', 'prices_price': 89000.0, 'prices_tax_iptu': 0.0, 'prices_tax_condo': 0.0, 'features_bedrooms': 1, 'features_bathrooms': 1, 'features_suites': 0, 'features_parkingSpaces': 0, 'features_usableAreas': 35.0, 'features_totalAreas': '35', 'features_floors': 3, 'features_unitsOnTheFloor': 2, 'features_unitFloor': 0}, {'customerID': '393953-SHTUHZCK', 'source': 'Website', 'types_unit': 'Apartamento', 'types_usage': 'Residencial', 'address_city': 'Rio de Janeiro', 'address_location_lon': -43.225037, 'address_location_lat': -22.811507, 'address_zone': 'Zona Norte', 'address_neighborhood': 'Galeão', 'prices_price': 85000.0, 'prices_tax_iptu': 0.0, 'prices_tax_condo': 0.0, 'features_bedrooms': 1, 'features_bathrooms': 1, 'features_suites': 0, 'features_parkingSpaces': 0, 'features_usableAreas': 35.0, 'features_totalAreas': '35', 'features_floors': 0, 'features_unitsOnTheFloor': 0, 'features_unitFloor': 0}, {'customerID': '481389-YHHQCNUQ', 'source': 'Website', 'types_unit': 'Apartamento', 'types_usage': 'Residencial', 'address_city': 'Rio de Janeiro', 'address_location_lon': -43.292312, 'address_location_lat': -22.816668, 'address_zone': 'Zona Norte', 'address_neighborhood': 'Parada de Lucas', 'prices_price': 100000.0, 'prices_tax_iptu': nan, 'prices_tax_condo': 230.0, 'features_bedrooms': 2, 'features_bathrooms': 1, 'features_suites': 0, 'features_parkingSpaces': 0, 'features_usableAreas': 79.0, 'features_totalAreas': '79', 'features_floors': 0, 'features_unitsOnTheFloor': 0, 'features_unitFloor': 0}, {'customerID': '115536-YXTNIDTV', 'source': 'Website', 'types_unit': 'Apartamento', 'types_usage': 'Residencial', 'address_city': 'Rio de Janeiro', 'address_location_lon': -43.266515, 'address_location_lat': -22.843141, 'address_zone': 'Zona Norte', 'address_neighborhood': 'Olaria', 'prices_price': 100000.0, 'prices_tax_iptu': 10.0, 'prices_tax_condo': 10.0, 'features_bedrooms': 1, 'features_bathrooms': 1, 'features_suites': 1, 'features_parkingSpaces': 1, 'features_usableAreas': 100.0, 'features_totalAreas': '100', 'features_floors': 0, 'features_unitsOnTheFloor': 0, 'features_unitFloor': 0}, {'customerID': '121990-DODJLLBO', 'source': 'Website', 'types_unit': 'Apartamento', 'types_usage': 'Residencial', 'address_city': 'Rio de Janeiro', 'address_location_lon': -43.272485, 'address_location_lat': -22.865951, 'address_zone': 'Zona Norte', 'address_neighborhood': 'Bonsucesso', 'prices_price': 95488.0, 'prices_tax_iptu': 0.0, 'prices_tax_condo': 0.0, 'features_bedrooms': 2, 'features_bathrooms': 1, 'features_suites': 0, 'features_parkingSpaces': 0, 'features_usableAreas': 71.0, 'features_totalAreas': '71', 'features_floors': 0, 'features_unitsOnTheFloor': 0, 'features_unitFloor': 0}, {'customerID': '998101-AAVNWERD', 'source': 'Website', 'types_unit': 'Apartamento', 'types_usage': 'Residencial', 'address_city': 'Rio de Janeiro', 'address_location_lon': -43.284819, 'address_location_lat': -22.912577, 'address_zone': 'Zona Norte', 'address_neighborhood': 'Méier', 'prices_price': 99000.0, 'prices_tax_iptu': nan, 'prices_tax_condo': nan, 'features_bedrooms': 1, 'features_bathrooms': 1, 'features_suites': 0, 'features_parkingSpaces': 0, 'features_usableAreas': 40.0, 'features_totalAreas': '40', 'features_floors': 0, 'features_unitsOnTheFloor': 0, 'features_unitFloor': 0}, {'customerID': '610476-RPCOCDOX', 'source': 'Website', 'types_unit': 'Casa', 'types_usage': 'Residencial', 'address_city': 'Rio de Janeiro', 'address_location_lon': -43.180832, 'address_location_lat': -22.939026, 'address_zone': 'Zona Sul', 'address_neighborhood': 'Laranjeiras', 'prices_price': 96000.0, 'prices_tax_iptu': 0.0, 'prices_tax_condo': 0.0, 'features_bedrooms': 1, 'features_bathrooms': 1, 'features_suites': 0, 'features_parkingSpaces': 0, 'features_usableAreas': 40.0, 'features_totalAreas': '40', 'features_floors': 0, 'features_unitsOnTheFloor': 0, 'features_unitFloor': 0}, {'customerID': '108615-RYAUXXVK', 'source': 'Website', 'types_unit': 'Casa', 'types_usage': 'Residencial', 'address_city': 'Rio de Janeiro', 'address_location_lon': -43.304667, 'address_location_lat': -22.826117, 'address_zone': 'Zona Norte', 'address_neighborhood': 'Cordovil', 'prices_price': 100000.0, 'prices_tax_iptu': nan, 'prices_tax_condo': nan, 'features_bedrooms': 1, 'features_bathrooms': 1, 'features_suites': 0, 'features_parkingSpaces': 0, 'features_usableAreas': 30.0, 'features_totalAreas': '30', 'features_floors': 0, 'features_unitsOnTheFloor': 0, 'features_unitFloor': 0}, {'customerID': '544958-CMSFGKNY', 'source': 'Website', 'types_unit': 'Apartamento', 'types_usage': 'Residencial', 'address_city': 'Rio de Janeiro', 'address_location_lon': -43.299109, 'address_location_lat': -22.890235, 'address_zone': 'Zona Norte', 'address_neighborhood': 'Abolição', 'prices_price': 100000.0, 'prices_tax_iptu': 16.0, 'prices_tax_condo': 255.0, 'features_bedrooms': 1, 'features_bathrooms': 1, 'features_suites': 0, 'features_parkingSpaces': 0, 'features_usableAreas': 37.0, 'features_totalAreas': '37', 'features_floors': 0, 'features_unitsOnTheFloor': 0, 'features_unitFloor': 0}, {'customerID': '111317-JOGRSFJO', 'source': 'Website', 'types_unit': 'Apartamento', 'types_usage': 'Residencial', 'address_city': 'Rio de Janeiro', 'address_location_lon': -43.271849, 'address_location_lat': -22.87376, 'address_zone': 'Zona Norte', 'address_neighborhood': 'Inhaúma', 'prices_price': 105000.0, 'prices_tax_iptu': 0.0, 'prices_tax_condo': 50.0, 'features_bedrooms': 2, 'features_bathrooms': 1, 'features_suites': 0, 'features_parkingSpaces': 1, 'features_usableAreas': 40.0, 'features_totalAreas': 0, 'features_floors': 4, 'features_unitsOnTheFloor': 2, 'features_unitFloor': 3}, {'customerID': '781500-HYZVEHQJ', 'source': 'Website', 'types_unit': 'Apartamento', 'types_usage': 'Residencial', 'address_city': 'Rio de Janeiro', 'address_location_lon': -43.17916, 'address_location_lat': -22.789602, 'address_zone': 'Zona Norte', 'address_neighborhood': 'Bancários', 'prices_price': 104500.0, 'prices_tax_iptu': 0.0, 'prices_tax_condo': 0.0, 'features_bedrooms': 2, 'features_bathrooms': 2, 'features_suites': 1, 'features_parkingSpaces': 1, 'features_usableAreas': 60.0, 'features_totalAreas': '69', 'features_floors': 3, 'features_unitsOnTheFloor': 4, 'features_unitFloor': 0}, {'customerID': '272009-NPDQFRYX', 'source': 'Website', 'types_unit': 'Apartamento', 'types_usage': 'Residencial', 'address_city': 'Rio de Janeiro', 'address_location_lon': -43.279725, 'address_location_lat': -22.912939, 'address_zone': 'Zona Norte', 'address_neighborhood': 'Lins de Vasconcelos', 'prices_price': 110000.0, 'prices_tax_iptu': 0.0, 'prices_tax_condo': 300.0, 'features_bedrooms': 2, 'features_bathrooms': 1, 'features_suites': 0, 'features_parkingSpaces': 1, 'features_usableAreas': 70.0, 'features_totalAreas': '75', 'features_floors': 0, 'features_unitsOnTheFloor': 0, 'features_unitFloor': 1}, {'customerID': '620934-NKEAAFOR', 'source': 'Website', 'types_unit': 'Apartamento', 'types_usage': 'Residencial', 'address_city': 'Rio de Janeiro', 'address_location_lon': -43.261657, 'address_location_lat': -22.850588, 'address_zone': 'Zona Norte', 'address_neighborhood': 'Ramos', 'prices_price': 110000.0, 'prices_tax_iptu': nan, 'prices_tax_condo': nan, 'features_bedrooms': 1, 'features_bathrooms': 1, 'features_suites': 0, 'features_parkingSpaces': 0, 'features_usableAreas': 62.0, 'features_totalAreas': '65', 'features_floors': 0, 'features_unitsOnTheFloor': 0, 'features_unitFloor': 0}, {'customerID': '217398-NIERJFLM', 'source': 'Website', 'types_unit': 'Apartamento', 'types_usage': 'Residencial', 'address_city': 'Rio de Janeiro', 'address_location_lon': -43.330051, 'address_location_lat': -22.824793, 'address_zone': 'Zona Norte', 'address_neighborhood': 'Irajá', 'prices_price': 110000.0, 'prices_tax_iptu': 0.0, 'prices_tax_condo': 122.0, 'features_bedrooms': 1, 'features_bathrooms': 1, 'features_suites': 0, 'features_parkingSpaces': 1, 'features_usableAreas': 32.0, 'features_totalAreas': '32', 'features_floors': 0, 'features_unitsOnTheFloor': 0, 'features_unitFloor': 0}, {'customerID': '222741-BUGERGWT', 'source': 'Website', 'types_unit': 'Apartamento', 'types_usage': 'Residencial', 'address_city': 'Rio de Janeiro', 'address_location_lon': -43.207985, 'address_location_lat': -22.926568, 'address_zone': 'Zona Sul', 'address_neighborhood': 'Rio Comprido', 'prices_price': 110000.0, 'prices_tax_iptu': 0.0, 'prices_tax_condo': 0.0, 'features_bedrooms': 1, 'features_bathrooms': 1, 'features_suites': 0, 'features_parkingSpaces': 0, 'features_usableAreas': 50.0, 'features_totalAreas': 0, 'features_floors': 0, 'features_unitsOnTheFloor': 0, 'features_unitFloor': 2}, {'customerID': '261884-ENUZUCTO', 'source': 'Website', 'types_unit': 'Apartamento', 'types_usage': 'Residencial', 'address_city': 'Rio de Janeiro', 'address_location_lon': -43.37277, 'address_location_lat': -22.845609, 'address_zone': 'Zona Norte', 'address_neighborhood': 'Guadalupe', 'prices_price': 105000.0, 'prices_tax_iptu': nan, 'prices_tax_condo': 160.0, 'features_bedrooms': 1, 'features_bathrooms': 1, 'features_suites': 0, 'features_parkingSpaces': 0, 'features_usableAreas': 40.0, 'features_totalAreas': '40', 'features_floors': 0, 'features_unitsOnTheFloor': 0, 'features_unitFloor': 0}, {'customerID': '705530-NJEMPPJZ', 'source': 'Website', 'types_unit': 'Apartamento', 'types_usage': 'Residencial', 'address_city': 'Rio de Janeiro', 'address_location_lon': -43.283049, 'address_location_lat': -22.820739, 'address_zone': 'Zona Norte', 'address_neighborhood': 'Penha', 'prices_price': 110000.0, 'prices_tax_iptu': nan, 'prices_tax_condo': 90.0, 'features_bedrooms': 2, 'features_bathrooms': 1, 'features_suites': 0, 'features_parkingSpaces': 0, 'features_usableAreas': 51.0, 'features_totalAreas': '55', 'features_floors': 0, 'features_unitsOnTheFloor': 0, 'features_unitFloor': 0}, {'customerID': '517018-BLFYLAZS', 'source': 'Website', 'types_unit': 'Apartamento', 'types_usage': 'Residencial', 'address_city': 'Rio de Janeiro', 'address_location_lon': -43.253704, 'address_location_lat': -22.899514, 'address_zone': 'Zona Norte', 'address_neighborhood': 'Riachuelo', 'prices_price': 110000.0, 'prices_tax_iptu': 252.0, 'prices_tax_condo': 378.0, 'features_bedrooms': 1, 'features_bathrooms': 1, 'features_suites': 0, 'features_parkingSpaces': 0, 'features_usableAreas': 30.0, 'features_totalAreas': '35', 'features_floors': 4, 'features_unitsOnTheFloor': 16, 'features_unitFloor': 2}, {'customerID': '780968-VRFWNQBF', 'source': 'Website', 'types_unit': 'Apartamento', 'types_usage': 'Residencial', 'address_city': 'Rio de Janeiro', 'address_location_lon': -43.252746, 'address_location_lat': -22.940876, 'address_zone': 'Zona Norte', 'address_neighborhood': 'Tijuca', 'prices_price': 110000.0, 'prices_tax_iptu': 0.0, 'prices_tax_condo': 0.0, 'features_bedrooms': 2, 'features_bathrooms': 1, 'features_suites': 0, 'features_parkingSpaces': 0, 'features_usableAreas': 63.0, 'features_totalAreas': 0, 'features_floors': 0, 'features_unitsOnTheFloor': 0, 'features_unitFloor': 0}, {'customerID': '683722-RJACOIWR', 'source': 'Website', 'types_unit': 'Casa', 'types_usage': 'Residencial', 'address_city': 'Rio de Janeiro', 'address_location_lon': -43.364554, 'address_location_lat': -22.928494, 'address_zone': 'Zona Oeste', 'address_neighborhood': 'Pechincha', 'prices_price': 120000.0, 'prices_tax_iptu': 30.0, 'prices_tax_condo': 100.0, 'features_bedrooms': 2, 'features_bathrooms': 1, 'features_suites': 0, 'features_parkingSpaces': 1, 'features_usableAreas': 153.0, 'features_totalAreas': '153', 'features_floors': 0, 'features_unitsOnTheFloor': 0, 'features_unitFloor': 1}, {'customerID': '564534-FXJFNRVA', 'source': 'Website', 'types_unit': 'Apartamento', 'types_usage': 'Residencial', 'address_city': 'Rio de Janeiro', 'address_location_lon': -43.328976, 'address_location_lat': -22.860583, 'address_zone': 'Zona Norte', 'address_neighborhood': 'Vaz Lobo', 'prices_price': 120000.0, 'prices_tax_iptu': 0.0, 'prices_tax_condo': 0.0, 'features_bedrooms': 2, 'features_bathrooms': 1, 'features_suites': 0, 'features_parkingSpaces': 1, 'features_usableAreas': 50.0, 'features_totalAreas': 0, 'features_floors': 0, 'features_unitsOnTheFloor': 0, 'features_unitFloor': 0}, {'customerID': '563245-YZSZRFSV', 'source': 'Website', 'types_unit': 'Apartamento', 'types_usage': 'Residencial', 'address_city': 'Rio de Janeiro', 'address_location_lon': -43.174454, 'address_location_lat': -22.788745, 'address_zone': 'Zona Norte', 'address_neighborhood': 'Freguesia (Ilha do Governador)', 'prices_price': 114000.0, 'prices_tax_iptu': 0.0, 'prices_tax_condo': 0.0, 'features_bedrooms': 2, 'features_bathrooms': 1, 'features_suites': 0, 'features_parkingSpaces': 1, 'features_usableAreas': 67.0, 'features_totalAreas': 0, 'features_floors': 0, 'features_unitsOnTheFloor': 0, 'features_unitFloor': 0}, {'customerID': '870058-BCQOQVJR', 'source': 'Website', 'types_unit': 'Apartamento', 'types_usage': 'Residencial', 'address_city': 'Rio de Janeiro', 'address_location_lon': -43.314399, 'address_location_lat': -22.871833, 'address_zone': 'Zona Norte', 'address_neighborhood': 'Cavalcanti', 'prices_price': 120000.0, 'prices_tax_iptu': 0.0, 'prices_tax_condo': nan, 'features_bedrooms': 2, 'features_bathrooms': 1, 'features_suites': 0, 'features_parkingSpaces': 0, 'features_usableAreas': 70.0, 'features_totalAreas': '70', 'features_floors': 0, 'features_unitsOnTheFloor': 0, 'features_unitFloor': 0}, {'customerID': '107960-MQUBOWKS', 'source': 'Website', 'types_unit': 'Casa', 'types_usage': 'Residencial', 'address_city': 'Rio de Janeiro', 'address_location_lon': -43.486621, 'address_location_lat': -22.877011, 'address_zone': 'Zona Oeste', 'address_neighborhood': 'Senador Camará', 'prices_price': 120000.0, 'prices_tax_iptu': 35.0, 'prices_tax_condo': 0.0, 'features_bedrooms': 2, 'features_bathrooms': 1, 'features_suites': 0, 'features_parkingSpaces': 0, 'features_usableAreas': 75.0, 'features_totalAreas': '75', 'features_floors': 0, 'features_unitsOnTheFloor': 0, 'features_unitFloor': 0}, {'customerID': '650388-QQJERYEF', 'source': 'Website', 'types_unit': 'Apartamento', 'types_usage': 'Residencial', 'address_city': 'Rio de Janeiro', 'address_location_lon': -43.464179, 'address_location_lat': -22.983609, 'address_zone': 'Zona Oeste', 'address_neighborhood': 'Vargem Pequena', 'prices_price': 120000.0, 'prices_tax_iptu': 0.0, 'prices_tax_condo': 0.0, 'features_bedrooms': 2, 'features_bathrooms': 1, 'features_suites': 0, 'features_parkingSpaces': 1, 'features_usableAreas': 44.0, 'features_totalAreas': 0, 'features_floors': 0, 'features_unitsOnTheFloor': 0, 'features_unitFloor': 0}, {'customerID': '641416-WSAFVHTJ', 'source': 'Website', 'types_unit': 'Apartamento', 'types_usage': 'Residencial', 'address_city': 'Rio de Janeiro', 'address_location_lon': -43.214559, 'address_location_lat': -22.911834, 'address_zone': 'Zona Norte', 'address_neighborhood': 'Praça da Bandeira', 'prices_price': 120000.0, 'prices_tax_iptu': 0.0, 'prices_tax_condo': 587.0, 'features_bedrooms': 0, 'features_bathrooms': 1, 'features_suites': 0, 'features_parkingSpaces': 0, 'features_usableAreas': 24.0, 'features_totalAreas': '24', 'features_floors': 12, 'features_unitsOnTheFloor': 8, 'features_unitFloor': 2}, {'customerID': '703778-IRKEQUIF', 'source': 'Website', 'types_unit': 'Casa', 'types_usage': 'Residencial', 'address_city': 'Rio de Janeiro', 'address_location_lon': -43.298273, 'address_location_lat': -22.853453, 'address_zone': 'Zona Norte', 'address_neighborhood': 'Vila Kosmos', 'prices_price': 115000.0, 'prices_tax_iptu': nan, 'prices_tax_condo': nan, 'features_bedrooms': 2, 'features_bathrooms': 1, 'features_suites': 0, 'features_parkingSpaces': 0, 'features_usableAreas': 70.0, 'features_totalAreas': '120', 'features_floors': 0, 'features_unitsOnTheFloor': 0, 'features_unitFloor': 0}, {'customerID': '543311-ZPLRRJSB', 'source': 'Website', 'types_unit': 'Apartamento', 'types_usage': 'Residencial', 'address_city': 'Rio de Janeiro', 'address_location_lon': -43.177445, 'address_location_lat': -22.9233, 'address_zone': 'Zona Sul', 'address_neighborhood': 'Catete', 'prices_price': 120000.0, 'prices_tax_iptu': 0.0, 'prices_tax_condo': 0.0, 'features_bedrooms': 1, 'features_bathrooms': 1, 'features_suites': 0, 'features_parkingSpaces': 0, 'features_usableAreas': 30.0, 'features_totalAreas': '30', 'features_floors': 0, 'features_unitsOnTheFloor': 0, 'features_unitFloor': 9}, {'customerID': '135952-LEVGTBAP', 'source': 'Website', 'types_unit': 'Outros', 'types_usage': 'Residencial', 'address_city': 'Rio de Janeiro', 'address_location_lon': -43.245946, 'address_location_lat': -22.900157, 'address_zone': 'Zona Norte', 'address_neighborhood': 'Rocha', 'prices_price': 120000.0, 'prices_tax_iptu': 0.0, 'prices_tax_condo': 0.0, 'features_bedrooms': 0, 'features_bathrooms': 0, 'features_suites': 0, 'features_parkingSpaces': 0, 'features_usableAreas': 63.0, 'features_totalAreas': '63', 'features_floors': 0, 'features_unitsOnTheFloor': 0, 'features_unitFloor': 0}, {'customerID': '261671-HUVNGSCV', 'source': 'Website', 'types_unit': 'Apartamento', 'types_usage': 'Residencial', 'address_city': 'Rio de Janeiro', 'address_location_lon': -43.342717, 'address_location_lat': -22.844614, 'address_zone': 'Zona Norte', 'address_neighborhood': 'Colégio', 'prices_price': 125000.0, 'prices_tax_iptu': 0.0, 'prices_tax_condo': 250.0, 'features_bedrooms': 1, 'features_bathrooms': 1, 'features_suites': 0, 'features_parkingSpaces': 1, 'features_usableAreas': 45.0, 'features_totalAreas': 0, 'features_floors': 0, 'features_unitsOnTheFloor': 0, 'features_unitFloor': 0}, {'customerID': '672516-ZQVZKCIX', 'source': 'Website', 'types_unit': 'Apartamento', 'types_usage': 'Residencial', 'address_city': 'Rio de Janeiro', 'address_location_lon': -43.269659, 'address_location_lat': -22.883263, 'address_zone': 'Zona Norte', 'address_neighborhood': 'Del Castilho', 'prices_price': 125000.0, 'prices_tax_iptu': 0.0, 'prices_tax_condo': 200.0, 'features_bedrooms': 1, 'features_bathrooms': 1, 'features_suites': 0, 'features_parkingSpaces': 0, 'features_usableAreas': 35.0, 'features_totalAreas': '35', 'features_floors': 4, 'features_unitsOnTheFloor': 6, 'features_unitFloor': 3}, {'customerID': '381294-LADEUKDS', 'source': 'Website', 'types_unit': 'Apartamento', 'types_usage': 'Residencial', 'address_city': 'Rio de Janeiro', 'address_location_lon': -43.254637, 'address_location_lat': -22.924259, 'address_zone': 'Zona Norte', 'address_neighborhood': 'Grajaú', 'prices_price': 130000.0, 'prices_tax_iptu': 0.0, 'prices_tax_condo': 0.0, 'features_bedrooms': 2, 'features_bathrooms': 1, 'features_suites': 0, 'features_parkingSpaces': 0, 'features_usableAreas': 55.0, 'features_totalAreas': 0, 'features_floors': 0, 'features_unitsOnTheFloor': 0, 'features_unitFloor': 0}, {'customerID': '035493-FWLPMHDF', 'source': 'Website', 'types_unit': 'Casa', 'types_usage': 'Residencial', 'address_city': 'Rio de Janeiro', 'address_location_lon': -43.541543, 'address_location_lat': -23.012009, 'address_zone': 'Zona Oeste', 'address_neighborhood': 'Barra de Guaratiba', 'prices_price': 125000.0, 'prices_tax_iptu': 0.0, 'prices_tax_condo': 0.0, 'features_bedrooms': 2, 'features_bathrooms': 1, 'features_suites': 0, 'features_parkingSpaces': 0, 'features_usableAreas': 48.0, 'features_totalAreas': '48', 'features_floors': 0, 'features_unitsOnTheFloor': 0, 'features_unitFloor': 0}, {'customerID': '050476-ANEYPSDF', 'source': 'Website', 'types_unit': 'Apartamento', 'types_usage': 'Residencial', 'address_city': 'Rio de Janeiro', 'address_location_lon': -43.330818, 'address_location_lat': -22.957454, 'address_zone': 'Zona Oeste', 'address_neighborhood': 'Anil', 'prices_price': 125000.0, 'prices_tax_iptu': nan, 'prices_tax_condo': 60.0, 'features_bedrooms': 2, 'features_bathrooms': 1, 'features_suites': 1, 'features_parkingSpaces': 0, 'features_usableAreas': 50.0, 'features_totalAreas': '50', 'features_floors': 0, 'features_unitsOnTheFloor': 0, 'features_unitFloor': 0}, {'customerID': '447327-RETKEQCX', 'source': 'Website', 'types_unit': 'Apartamento', 'types_usage': 'Residencial', 'address_city': 'Rio de Janeiro', 'address_location_lon': -43.247751, 'address_location_lat': -22.926462, 'address_zone': 'Zona Norte', 'address_neighborhood': 'Andaraí', 'prices_price': 125000.0, 'prices_tax_iptu': 0.0, 'prices_tax_condo': 0.0, 'features_bedrooms': 2, 'features_bathrooms': 1, 'features_suites': 0, 'features_parkingSpaces': 0, 'features_usableAreas': 43.0, 'features_totalAreas': '43', 'features_floors': 0, 'features_unitsOnTheFloor': 0, 'features_unitFloor': 7}, {'customerID': '075339-YPBRNBVM', 'source': 'Website', 'types_unit': 'Apartamento', 'types_usage': 'Residencial', 'address_city': 'Rio de Janeiro', 'address_location_lon': -43.311507, 'address_location_lat': -22.850057, 'address_zone': 'Zona Norte', 'address_neighborhood': 'Vila da Penha', 'prices_price': 128000.0, 'prices_tax_iptu': 0.0, 'prices_tax_condo': 0.0, 'features_bedrooms': 1, 'features_bathrooms': 1, 'features_suites': 1, 'features_parkingSpaces': 1, 'features_usableAreas': 25.0, 'features_totalAreas': '25', 'features_floors': 0, 'features_unitsOnTheFloor': 0, 'features_unitFloor': 0}, {'customerID': '826708-KLRPLKJE', 'source': 'Website', 'types_unit': 'Casa', 'types_usage': 'Residencial', 'address_city': 'Rio de Janeiro', 'address_location_lon': -43.41883, 'address_location_lat': -22.866131, 'address_zone': 'Zona Oeste', 'address_neighborhood': 'Magalhães Bastos', 'prices_price': 125000.0, 'prices_tax_iptu': nan, 'prices_tax_condo': nan, 'features_bedrooms': 2, 'features_bathrooms': 1, 'features_suites': 0, 'features_parkingSpaces': 0, 'features_usableAreas': 66.0, 'features_totalAreas': '66', 'features_floors': 0, 'features_unitsOnTheFloor': 0, 'features_unitFloor': 0}, {'customerID': '722997-BLDOUDTP', 'source': 'Website', 'types_unit': 'Apartamento', 'types_usage': 'Residencial', 'address_city': 'Rio de Janeiro', 'address_location_lon': -43.35286, 'address_location_lat': -23.009805, 'address_zone': 'Zona Oeste', 'address_neighborhood': 'Barra da Tijuca', 'prices_price': 125000.0, 'prices_tax_iptu': 0.0, 'prices_tax_condo': 0.0, 'features_bedrooms': 1, 'features_bathrooms': 1, 'features_suites': 1, 'features_parkingSpaces': 1, 'features_usableAreas': 25.0, 'features_totalAreas': '25', 'features_floors': 0, 'features_unitsOnTheFloor': 0, 'features_unitFloor': 0}, {'customerID': '067397-ZXGTEWHY', 'source': 'Website', 'types_unit': 'Apartamento', 'types_usage': 'Residencial', 'address_city': 'Rio de Janeiro', 'address_location_lon': -43.33925, 'address_location_lat': -22.942167, 'address_zone': 'Zona Oeste', 'address_neighborhood': 'Freguesia (Jacarepaguá)', 'prices_price': 130000.0, 'prices_tax_iptu': 0.0, 'prices_tax_condo': 300.0, 'features_bedrooms': 1, 'features_bathrooms': 1, 'features_suites': 0, 'features_parkingSpaces': 0, 'features_usableAreas': 25.0, 'features_totalAreas': '25', 'features_floors': 0, 'features_unitsOnTheFloor': 0, 'features_unitFloor': 0}, {'customerID': '427383-DJSGHKZZ', 'source': 'Website', 'types_unit': 'Apartamento', 'types_usage': 'Residencial', 'address_city': 'Rio de Janeiro', 'address_location_lon': -43.193791, 'address_location_lat': -22.984691, 'address_zone': 'Zona Sul', 'address_neighborhood': 'Copacabana', 'prices_price': 140000.0, 'prices_tax_iptu': 0.0, 'prices_tax_condo': 0.0, 'features_bedrooms': 1, 'features_bathrooms': 1, 'features_suites': 0, 'features_parkingSpaces': 0, 'features_usableAreas': 18.0, 'features_totalAreas': 0, 'features_floors': 15, 'features_unitsOnTheFloor': 10, 'features_unitFloor': 10}, {'customerID': '517949-CXJMUJMU', 'source': 'Website', 'types_unit': 'Apartamento', 'types_usage': 'Residencial', 'address_city': 'Rio de Janeiro', 'address_location_lon': -43.243081, 'address_location_lat': -22.901094, 'address_zone': 'Zona Norte', 'address_neighborhood': 'São Francisco Xavier', 'prices_price': 135000.0, 'prices_tax_iptu': 380.0, 'prices_tax_condo': 70.0, 'features_bedrooms': 1, 'features_bathrooms': 1, 'features_suites': 0, 'features_parkingSpaces': 0, 'features_usableAreas': 44.0, 'features_totalAreas': 0, 'features_floors': 0, 'features_unitsOnTheFloor': 0, 'features_unitFloor': 0}, {'customerID': '919257-SMTPEMMG', 'source': 'Website', 'types_unit': 'Apartamento', 'types_usage': 'Residencial', 'address_city': 'Rio de Janeiro', 'address_location_lon': -43.308298, 'address_location_lat': -22.907969, 'address_zone': 'Zona Norte', 'address_neighborhood': 'Água Santa', 'prices_price': 135000.0, 'prices_tax_iptu': 0.0, 'prices_tax_condo': 190.0, 'features_bedrooms': 2, 'features_bathrooms': 1, 'features_suites': 0, 'features_parkingSpaces': 1, 'features_usableAreas': 44.0, 'features_totalAreas': '44', 'features_floors': 5, 'features_unitsOnTheFloor': 8, 'features_unitFloor': 5}, {'customerID': '549051-SLKRLZGK', 'source': 'Website', 'types_unit': 'Apartamento', 'types_usage': 'Residencial', 'address_city': 'Rio de Janeiro', 'address_location_lon': -43.329798, 'address_location_lat': -22.977668, 'address_zone': 'Zona Oeste', 'address_neighborhood': 'Itanhangá', 'prices_price': 135000.0, 'prices_tax_iptu': 0.0, 'prices_tax_condo': 648.0, 'features_bedrooms': 2, 'features_bathrooms': 1, 'features_suites': 0, 'features_parkingSpaces': 1, 'features_usableAreas': 56.0, 'features_totalAreas': '56', 'features_floors': 0, 'features_unitsOnTheFloor': 0, 'features_unitFloor': 11}, {'customerID': '465984-WZWARZUR', 'source': 'Website', 'types_unit': 'Apartamento', 'types_usage': 'Residencial', 'address_city': 'Rio de Janeiro', 'address_location_lon': -43.322883, 'address_location_lat': -22.814996999999998, 'address_zone': 'Zona Norte', 'address_neighborhood': 'Jardim América', 'prices_price': 140000.0, 'prices_tax_iptu': 0.0, 'prices_tax_condo': 0.0, 'features_bedrooms': 2, 'features_bathrooms': 2, 'features_suites': 0, 'features_parkingSpaces': 0, 'features_usableAreas': 75.0, 'features_totalAreas': '75', 'features_floors': 2, 'features_unitsOnTheFloor': 1, 'features_unitFloor': 1}, {'customerID': '292117-TACRKJRY', 'source': 'Website', 'types_unit': 'Apartamento', 'types_usage': 'Residencial', 'address_city': 'Rio de Janeiro', 'address_location_lon': -43.208692, 'address_location_lat': -22.797209, 'address_zone': 'Zona Norte', 'address_neighborhood': 'Portuguesa', 'prices_price': 133722.0, 'prices_tax_iptu': 0.0, 'prices_tax_condo': 0.0, 'features_bedrooms': 2, 'features_bathrooms': 1, 'features_suites': 0, 'features_parkingSpaces': 0, 'features_usableAreas': 43.0, 'features_totalAreas': '50', 'features_floors': 7, 'features_unitsOnTheFloor': 0, 'features_unitFloor': 3}, {'customerID': '555454-TZMQKABM', 'source': 'Website', 'types_unit': 'Apartamento', 'types_usage': 'Residencial', 'address_city': 'Rio de Janeiro', 'address_location_lon': -43.234856, 'address_location_lat': -22.994325, 'address_zone': 'Zona Sul', 'address_neighborhood': 'Vidigal', 'prices_price': 142800.0, 'prices_tax_iptu': 100.0, 'prices_tax_condo': 100.0, 'features_bedrooms': 2, 'features_bathrooms': 1, 'features_suites': 0, 'features_parkingSpaces': 1, 'features_usableAreas': 55.0, 'features_totalAreas': '55', 'features_floors': 4, 'features_unitsOnTheFloor': 10, 'features_unitFloor': 3}, {'customerID': '481154-CSNLMENY', 'source': 'Website', 'types_unit': 'Apartamento', 'types_usage': 'Residencial', 'address_city': 'Rio de Janeiro', 'address_location_lon': -43.26454, 'address_location_lat': -22.890837, 'address_zone': 'Zona Norte', 'address_neighborhood': 'Cachambi', 'prices_price': 150000.0, 'prices_tax_iptu': 0.0, 'prices_tax_condo': 70.0, 'features_bedrooms': 3, 'features_bathrooms': 1, 'features_suites': 0, 'features_parkingSpaces': 0, 'features_usableAreas': 60.0, 'features_totalAreas': '60', 'features_floors': 0, 'features_unitsOnTheFloor': 0, 'features_unitFloor': 0}, {'customerID': '772413-RGALJJRM', 'source': 'Website', 'types_unit': 'Apartamento', 'types_usage': 'Residencial', 'address_city': 'Rio de Janeiro', 'address_location_lon': -43.183532, 'address_location_lat': -22.798399, 'address_zone': 'Zona Norte', 'address_neighborhood': 'Tauá', 'prices_price': 150000.0, 'prices_tax_iptu': 78.0, 'prices_tax_condo': 320.0, 'features_bedrooms': 1, 'features_bathrooms': 1, 'features_suites': 0, 'features_parkingSpaces': 0, 'features_usableAreas': 30.0, 'features_totalAreas': '30', 'features_floors': 0, 'features_unitsOnTheFloor': 0, 'features_unitFloor': 0}, {'customerID': '378110-AIHHQLJR', 'source': 'Website', 'types_unit': 'Apartamento', 'types_usage': 'Residencial', 'address_city': 'Rio de Janeiro', 'address_location_lon': -43.264746, 'address_location_lat': -22.886269, 'address_zone': 'Zona Norte', 'address_neighborhood': 'Maria da Graça', 'prices_price': 150000.0, 'prices_tax_iptu': nan, 'prices_tax_condo': 150.0, 'features_bedrooms': 1, 'features_bathrooms': 1, 'features_suites': 0, 'features_parkingSpaces': 0, 'features_usableAreas': 51.0, 'features_totalAreas': '51', 'features_floors': 0, 'features_unitsOnTheFloor': 0, 'features_unitFloor': 0}, {'customerID': '499114-RYCABFGR', 'source': 'Website', 'types_unit': 'Apartamento', 'types_usage': 'Residencial', 'address_city': 'Rio de Janeiro', 'address_location_lon': -43.347397, 'address_location_lat': -22.963707, 'address_zone': 'Zona Oeste', 'address_neighborhood': 'Gardênia Azul', 'prices_price': 148000.0, 'prices_tax_iptu': nan, 'prices_tax_condo': nan, 'features_bedrooms': 8, 'features_bathrooms': 8, 'features_suites': 0, 'features_parkingSpaces': 0, 'features_usableAreas': 75.0, 'features_totalAreas': '75', 'features_floors': 0, 'features_unitsOnTheFloor': 0, 'features_unitFloor': 0}, {'customerID': '520049-COVYUZFS', 'source': 'Website', 'types_unit': 'Apartamento', 'types_usage': 'Residencial', 'address_city': 'Rio de Janeiro', 'address_location_lon': -43.20486, 'address_location_lat': -22.925061, 'address_zone': 'Zona Sul', 'address_neighborhood': 'Catumbi', 'prices_price': 145000.0, 'prices_tax_iptu': nan, 'prices_tax_condo': nan, 'features_bedrooms': 1, 'features_bathrooms': 1, 'features_suites': 0, 'features_parkingSpaces': 0, 'features_usableAreas': 24.0, 'features_totalAreas': '24', 'features_floors': 4, 'features_unitsOnTheFloor': 0, 'features_unitFloor': 0}, {'customerID': '851252-HQGAMAYL', 'source': 'Website', 'types_unit': 'Casa', 'types_usage': 'Residencial', 'address_city': 'Rio de Janeiro', 'address_location_lon': -43.259303, 'address_location_lat': -22.892865, 'address_zone': 'Zona Norte', 'address_neighborhood': 'Jacaré', 'prices_price': 158000.0, 'prices_tax_iptu': 0.0, 'prices_tax_condo': 0.0, 'features_bedrooms': 3, 'features_bathrooms': 2, 'features_suites': 1, 'features_parkingSpaces': 0, 'features_usableAreas': 70.0, 'features_totalAreas': '70', 'features_floors': 2, 'features_unitsOnTheFloor': 0, 'features_unitFloor': 0}, {'customerID': '353901-IDLHGVNO', 'source': 'Website', 'types_unit': 'Apartamento', 'types_usage': 'Residencial', 'address_city': 'Rio de Janeiro', 'address_location_lon': -43.279327, 'address_location_lat': -22.893526, 'address_zone': 'Zona Norte', 'address_neighborhood': 'Todos os Santos', 'prices_price': 160000.0, 'prices_tax_iptu': 245.0, 'prices_tax_condo': 470.0, 'features_bedrooms': 1, 'features_bathrooms': 1, 'features_suites': 0, 'features_parkingSpaces': 1, 'features_usableAreas': 46.0, 'features_totalAreas': '46', 'features_floors': 12, 'features_unitsOnTheFloor': 10, 'features_unitFloor': 5}, {'customerID': '356849-SCVTLXYA', 'source': 'Website', 'types_unit': 'Apartamento', 'types_usage': 'Residencial', 'address_city': 'Rio de Janeiro', 'address_location_lon': -43.180373, 'address_location_lat': -22.811001, 'address_zone': 'Zona Norte', 'address_neighborhood': 'Praia da Bandeira', 'prices_price': 160000.0, 'prices_tax_iptu': 0.0, 'prices_tax_condo': 272.0, 'features_bedrooms': 1, 'features_bathrooms': 1, 'features_suites': 0, 'features_parkingSpaces': 1, 'features_usableAreas': 37.0, 'features_totalAreas': '37', 'features_floors': 0, 'features_unitsOnTheFloor': 0, 'features_unitFloor': 0}, {'customerID': '733502-FXQUTAID', 'source': 'Website', 'types_unit': 'Apartamento', 'types_usage': 'Residencial', 'address_city': 'Rio de Janeiro', 'address_location_lon': -43.180144, 'address_location_lat': -22.812818, 'address_zone': 'Zona Norte', 'address_neighborhood': 'Cocotá', 'prices_price': 170000.0, 'prices_tax_iptu': 0.0, 'prices_tax_condo': 0.0, 'features_bedrooms': 1, 'features_bathrooms': 1, 'features_suites': 0, 'features_parkingSpaces': 1, 'features_usableAreas': 40.0, 'features_totalAreas': '40', 'features_floors': 0, 'features_unitsOnTheFloor': 0, 'features_unitFloor': 3}, {'customerID': '276294-ZXXBYKKE', 'source': 'Website', 'types_unit': 'Apartamento', 'types_usage': 'Residencial', 'address_city': 'Rio de Janeiro', 'address_location_lon': -43.192857, 'address_location_lat': -22.949977, 'address_zone': 'Zona Sul', 'address_neighborhood': 'Botafogo', 'prices_price': 165000.0, 'prices_tax_iptu': 200.0, 'prices_tax_condo': 230.0, 'features_bedrooms': 1, 'features_bathrooms': 1, 'features_suites': 0, 'features_parkingSpaces': 0, 'features_usableAreas': 23.0, 'features_totalAreas': '23', 'features_floors': 0, 'features_unitsOnTheFloor': 0, 'features_unitFloor': 0}, {'customerID': '552230-HBKDURJU', 'source': 'Website', 'types_unit': 'Apartamento', 'types_usage': 'Residencial', 'address_city': 'Rio de Janeiro', 'address_location_lon': -43.106513, 'address_location_lat': -22.751375, 'address_zone': 'Zona Norte', 'address_neighborhood': 'Paquetá', 'prices_price': 180000.0, 'prices_tax_iptu': 0.0, 'prices_tax_condo': 242.0, 'features_bedrooms': 2, 'features_bathrooms': 1, 'features_suites': 0, 'features_parkingSpaces': 0, 'features_usableAreas': 50.0, 'features_totalAreas': 0, 'features_floors': 0, 'features_unitsOnTheFloor': 0, 'features_unitFloor': 2}, {'customerID': '238462-ARQGOCDK', 'source': 'Website', 'types_unit': 'Apartamento', 'types_usage': 'Residencial', 'address_city': 'Rio de Janeiro', 'address_location_lon': -43.216092, 'address_location_lat': -22.877925, 'address_zone': 'Zona Norte', 'address_neighborhood': 'Caju', 'prices_price': 175066.0, 'prices_tax_iptu': 0.0, 'prices_tax_condo': 0.0, 'features_bedrooms': 2, 'features_bathrooms': 1, 'features_suites': 0, 'features_parkingSpaces': 0, 'features_usableAreas': 49.0, 'features_totalAreas': 0, 'features_floors': 0, 'features_unitsOnTheFloor': 0, 'features_unitFloor': 0}, {'customerID': '245399-GPZDKLOW', 'source': 'Website', 'types_unit': 'Apartamento', 'types_usage': 'Residencial', 'address_city': 'Rio de Janeiro', 'address_location_lon': -43.234353, 'address_location_lat': -22.897122, 'address_zone': 'Zona Norte', 'address_neighborhood': 'Benfica', 'prices_price': 180000.0, 'prices_tax_iptu': 90.0, 'prices_tax_condo': 270.0, 'features_bedrooms': 1, 'features_bathrooms': 1, 'features_suites': 0, 'features_parkingSpaces': 0, 'features_usableAreas': 60.0, 'features_totalAreas': '60', 'features_floors': 6, 'features_unitsOnTheFloor': 6, 'features_unitFloor': 1}, {'customerID': '521228-BCNRPHVM', 'source': 'Website', 'types_unit': 'Apartamento', 'types_usage': 'Residencial', 'address_city': 'Rio de Janeiro', 'address_location_lon': -43.199316, 'address_location_lat': -22.913413, 'address_zone': 'Zona Central', 'address_neighborhood': 'Cidade Nova', 'prices_price': 180000.0, 'prices_tax_iptu': 0.0, 'prices_tax_condo': 200.0, 'features_bedrooms': 2, 'features_bathrooms': 1, 'features_suites': 0, 'features_parkingSpaces': 0, 'features_usableAreas': 53.0, 'features_totalAreas': '54', 'features_floors': 3, 'features_unitsOnTheFloor': 4, 'features_unitFloor': 1}, {'customerID': '109193-JIFRYKQX', 'source': 'Website', 'types_unit': 'Apartamento', 'types_usage': 'Residencial', 'address_city': 'Rio de Janeiro', 'address_location_lon': -43.177248, 'address_location_lat': -22.918874, 'address_zone': 'Zona Sul', 'address_neighborhood': 'Glória', 'prices_price': 180000.0, 'prices_tax_iptu': nan, 'prices_tax_condo': 430.0, 'features_bedrooms': 1, 'features_bathrooms': 1, 'features_suites': 0, 'features_parkingSpaces': 0, 'features_usableAreas': 30.0, 'features_totalAreas': '30', 'features_floors': 0, 'features_unitsOnTheFloor': 0, 'features_unitFloor': 0}, {'customerID': '500772-FRVQCCNM', 'source': 'Website', 'types_unit': 'Apartamento', 'types_usage': 'Residencial', 'address_city': 'Rio de Janeiro', 'address_location_lon': -43.175223, 'address_location_lat': -22.929451, 'address_zone': 'Zona Sul', 'address_neighborhood': 'Flamengo', 'prices_price': 189538.0, 'prices_tax_iptu': 0.0, 'prices_tax_condo': 420.0, 'features_bedrooms': 1, 'features_bathrooms': 1, 'features_suites': 0, 'features_parkingSpaces': 0, 'features_usableAreas': 38.0, 'features_totalAreas': '38', 'features_floors': 0, 'features_unitsOnTheFloor': 0, 'features_unitFloor': 8}, {'customerID': '295139-FJBOQNZG', 'source': 'Website', 'types_unit': 'Casa', 'types_usage': 'Residencial', 'address_city': 'Rio de Janeiro', 'address_location_lon': -43.183479, 'address_location_lat': -22.815214, 'address_zone': 'Zona Norte', 'address_neighborhood': 'Cacuia', 'prices_price': 190000.0, 'prices_tax_iptu': 0.0, 'prices_tax_condo': 0.0, 'features_bedrooms': 2, 'features_bathrooms': 2, 'features_suites': 0, 'features_parkingSpaces': 0, 'features_usableAreas': 90.0, 'features_totalAreas': '90', 'features_floors': 1, 'features_unitsOnTheFloor': 1, 'features_unitFloor': 2}, {'customerID': '361603-NRPYKJHN', 'source': 'Website', 'types_unit': 'Apartamento', 'types_usage': 'Residencial', 'address_city': 'Rio de Janeiro', 'address_location_lon': -43.191148, 'address_location_lat': -22.810404, 'address_zone': 'Zona Norte', 'address_neighborhood': 'Jardim Carioca', 'prices_price': 190000.0, 'prices_tax_iptu': 64.0, 'prices_tax_condo': 200.0, 'features_bedrooms': 2, 'features_bathrooms': 1, 'features_suites': 0, 'features_parkingSpaces': 0, 'features_usableAreas': 54.0, 'features_totalAreas': '54', 'features_floors': 0, 'features_unitsOnTheFloor': 0, 'features_unitFloor': 0}, {'customerID': '818918-MNSCWKIQ', 'source': 'Website', 'types_unit': 'Apartamento', 'types_usage': 'Residencial', 'address_city': 'Rio de Janeiro', 'address_location_lon': -43.252744, 'address_location_lat': -22.940915, 'address_zone': 'Zona Norte', 'address_neighborhood': 'Maracanã', 'prices_price': 185000.0, 'prices_tax_iptu': 0.0, 'prices_tax_condo': 498.0, 'features_bedrooms': 1, 'features_bathrooms': 1, 'features_suites': 0, 'features_parkingSpaces': 0, 'features_usableAreas': 33.0, 'features_totalAreas': '33', 'features_floors': 0, 'features_unitsOnTheFloor': 0, 'features_unitFloor': 0}, {'customerID': '654106-BGKRZUMW', 'source': 'Website', 'types_unit': 'Apartamento', 'types_usage': 'Residencial', 'address_city': 'Rio de Janeiro', 'address_location_lon': -43.309886, 'address_location_lat': -22.829333, 'address_zone': 'Zona Norte', 'address_neighborhood': 'Vista Alegre', 'prices_price': 200000.0, 'prices_tax_iptu': 0.0, 'prices_tax_condo': 255.0, 'features_bedrooms': 2, 'features_bathrooms': 1, 'features_suites': 0, 'features_parkingSpaces': 1, 'features_usableAreas': 54.0, 'features_totalAreas': '25000000', 'features_floors': 5, 'features_unitsOnTheFloor': 4, 'features_unitFloor': 3}, {'customerID': '431920-CBWWQVCO', 'source': 'Website', 'types_unit': 'Apartamento', 'types_usage': 'Residencial', 'address_city': 'Rio de Janeiro', 'address_location_lon': -43.209251, 'address_location_lat': -22.913408, 'address_zone': 'Zona Central', 'address_neighborhood': 'Estácio', 'prices_price': 199000.0, 'prices_tax_iptu': 0.0, 'prices_tax_condo': 600.0, 'features_bedrooms': 1, 'features_bathrooms': 1, 'features_suites': 0, 'features_parkingSpaces': 1, 'features_usableAreas': 40.0, 'features_totalAreas': '40', 'features_floors': 10, 'features_unitsOnTheFloor': 10, 'features_unitFloor': 6}, {'customerID': '638290-JLNDPSDR', 'source': 'Website', 'types_unit': 'Apartamento', 'types_usage': 'Residencial', 'address_city': 'Rio de Janeiro', 'address_location_lon': -43.206327, 'address_location_lat': -22.814286, 'address_zone': 'Zona Norte', 'address_neighborhood': 'Jardim Guanabara', 'prices_price': 200000.0, 'prices_tax_iptu': 0.0, 'prices_tax_condo': 330.0, 'features_bedrooms': 1, 'features_bathrooms': 1, 'features_suites': 0, 'features_parkingSpaces': 1, 'features_usableAreas': 20.0, 'features_totalAreas': 0, 'features_floors': 0, 'features_unitsOnTheFloor': 0, 'features_unitFloor': 2}, {'customerID': '446038-EBKREGWK', 'source': 'Website', 'types_unit': 'Apartamento', 'types_usage': 'Residencial', 'address_city': 'Rio de Janeiro', 'address_location_lon': -43.185584, 'address_location_lat': -22.969685, 'address_zone': 'Zona Sul', 'address_neighborhood': 'Leme', 'prices_price': 199000.0, 'prices_tax_iptu': 0.0, 'prices_tax_condo': 600.0, 'features_bedrooms': 1, 'features_bathrooms': 1, 'features_suites': 0, 'features_parkingSpaces': 0, 'features_usableAreas': 22.0, 'features_totalAreas': '22', 'features_floors': 0, 'features_unitsOnTheFloor': 0, 'features_unitFloor': 0}, {'customerID': '646768-PSDSNZKQ', 'source': 'Website', 'types_unit': 'Apartamento', 'types_usage': 'Residencial', 'address_city': 'Rio de Janeiro', 'address_location_lon': -43.40602, 'address_location_lat': -22.884002, 'address_zone': 'Zona Oeste', 'address_neighborhood': 'Vila Militar', 'prices_price': 210000.0, 'prices_tax_iptu': nan, 'prices_tax_condo': 250.0, 'features_bedrooms': 2, 'features_bathrooms': 1, 'features_suites': 0, 'features_parkingSpaces': 0, 'features_usableAreas': 64.0, 'features_totalAreas': '64', 'features_floors': 0, 'features_unitsOnTheFloor': 0, 'features_unitFloor': 0}, {'customerID': '072749-ZTQUOJAF', 'source': 'Website', 'types_unit': 'Casa', 'types_usage': 'Residencial', 'address_city': 'Rio de Janeiro', 'address_location_lon': -43.69673, 'address_location_lat': -22.936594, 'address_zone': 'Zona Oeste', 'address_neighborhood': 'Dumas', 'prices_price': 220000.0, 'prices_tax_iptu': 0.0, 'prices_tax_condo': 0.0, 'features_bedrooms': 3, 'features_bathrooms': 1, 'features_suites': 0, 'features_parkingSpaces': 2, 'features_usableAreas': 99.0, 'features_totalAreas': '99', 'features_floors': 0, 'features_unitsOnTheFloor': 0, 'features_unitFloor': 0}, {'customerID': '489585-WYJKRNEX', 'source': 'Website', 'types_unit': 'Apartamento', 'types_usage': 'Residencial', 'address_city': 'Rio de Janeiro', 'address_location_lon': -43.24014, 'address_location_lat': -22.906623, 'address_zone': 'Zona Norte', 'address_neighborhood': 'Mangueira', 'prices_price': 229000.0, 'prices_tax_iptu': 0.0, 'prices_tax_condo': 650.0, 'features_bedrooms': 2, 'features_bathrooms': 2, 'features_suites': 1, 'features_parkingSpaces': 1, 'features_usableAreas': 54.0, 'features_totalAreas': 0, 'features_floors': 0, 'features_unitsOnTheFloor': 0, 'features_unitFloor': 0}, {'customerID': '463525-YUBKLGUR', 'source': 'Website', 'types_unit': 'Apartamento', 'types_usage': 'Residencial', 'address_city': 'Rio de Janeiro', 'address_location_lon': -43.206783, 'address_location_lat': -22.79634, 'address_zone': 'Zona Norte', 'address_neighborhood': 'Moneró', 'prices_price': 230000.0, 'prices_tax_iptu': 0.0, 'prices_tax_condo': 363.0, 'features_bedrooms': 2, 'features_bathrooms': 1, 'features_suites': 0, 'features_parkingSpaces': 1, 'features_usableAreas': 54.0, 'features_totalAreas': '54', 'features_floors': 4, 'features_unitsOnTheFloor': 4, 'features_unitFloor': 1}, {'customerID': '186308-VDYSACDQ', 'source': 'Website', 'types_unit': 'Apartamento', 'types_usage': 'Residencial', 'address_city': 'Rio de Janeiro', 'address_location_lon': -43.178557, 'address_location_lat': -22.81493, 'address_zone': 'Zona Norte', 'address_neighborhood': 'Pitangueiras', 'prices_price': 230000.0, 'prices_tax_iptu': 0.0, 'prices_tax_condo': 391.0, 'features_bedrooms': 2, 'features_bathrooms': 1, 'features_suites': 0, 'features_parkingSpaces': 1, 'features_usableAreas': 55.0, 'features_totalAreas': '55', 'features_floors': 0, 'features_unitsOnTheFloor': 0, 'features_unitFloor': 0}, {'customerID': '033450-VTQJPVQK', 'source': 'Website', 'types_unit': 'Apartamento', 'types_usage': 'Residencial', 'address_city': 'Rio de Janeiro', 'address_location_lon': -43.170253, 'address_location_lat': -22.823244, 'address_zone': 'Zona Norte', 'address_neighborhood': 'Ribeira', 'prices_price': 235000.0, 'prices_tax_iptu': 0.0, 'prices_tax_condo': 400.0, 'features_bedrooms': 1, 'features_bathrooms': 1, 'features_suites': 0, 'features_parkingSpaces': 0, 'features_usableAreas': 55.0, 'features_totalAreas': '55', 'features_floors': 0, 'features_unitsOnTheFloor': 0, 'features_unitFloor': 0}, {'customerID': '107010-HDTCWREK', 'source': 'Website', 'types_unit': 'Apartamento', 'types_usage': 'Residencial', 'address_city': 'Rio de Janeiro', 'address_location_lon': -43.185944, 'address_location_lat': -22.897633, 'address_zone': 'Zona Central', 'address_neighborhood': 'Saúde', 'prices_price': 245000.0, 'prices_tax_iptu': 36.0, 'prices_tax_condo': 250.0, 'features_bedrooms': 2, 'features_bathrooms': 1, 'features_suites': 0, 'features_parkingSpaces': 1, 'features_usableAreas': 55.0, 'features_totalAreas': 0, 'features_floors': 18, 'features_unitsOnTheFloor': 10, 'features_unitFloor': 7}, {'customerID': '560328-VUYZNVBQ', 'source': 'Website', 'types_unit': 'Apartamento', 'types_usage': 'Residencial', 'address_city': 'Rio de Janeiro', 'address_location_lon': -43.223121, 'address_location_lat': -22.982519, 'address_zone': 'Zona Sul', 'address_neighborhood': 'Leblon', 'prices_price': 250000.0, 'prices_tax_iptu': nan, 'prices_tax_condo': 145.0, 'features_bedrooms': 1, 'features_bathrooms': 1, 'features_suites': 0, 'features_parkingSpaces': 0, 'features_usableAreas': 10.0, 'features_totalAreas': 0, 'features_floors': 0, 'features_unitsOnTheFloor': 0, 'features_unitFloor': 0}, {'customerID': '588136-YMBOMPUM', 'source': 'Website', 'types_unit': 'Casa', 'types_usage': 'Residencial', 'address_city': 'Rio de Janeiro', 'address_location_lon': -43.192531, 'address_location_lat': -22.900816, 'address_zone': 'Zona Central', 'address_neighborhood': 'Gamboa', 'prices_price': 250000.0, 'prices_tax_iptu': 0.0, 'prices_tax_condo': 0.0, 'features_bedrooms': 2, 'features_bathrooms': 2, 'features_suites': 0, 'features_parkingSpaces': 0, 'features_usableAreas': 94.0, 'features_totalAreas': '94', 'features_floors': 0, 'features_unitsOnTheFloor': 0, 'features_unitFloor': 0}, {'customerID': '978676-GYFVSKWD', 'source': 'Website', 'types_unit': 'Casa', 'types_usage': 'Residencial', 'address_city': 'Rio de Janeiro', 'address_location_lon': -43.41334, 'address_location_lat': -22.880919, 'address_zone': 'Zona Oeste', 'address_neighborhood': 'Campo dos Afonsos', 'prices_price': 259900.0, 'prices_tax_iptu': 0.0, 'prices_tax_condo': 0.0, 'features_bedrooms': 3, 'features_bathrooms': 3, 'features_suites': 1, 'features_parkingSpaces': 0, 'features_usableAreas': 90.0, 'features_totalAreas': '130', 'features_floors': 0, 'features_unitsOnTheFloor': 0, 'features_unitFloor': 2}, {'customerID': '905302-LVUKOIEI', 'source': 'Website', 'types_unit': 'Casa', 'types_usage': 'Residencial', 'address_city': 'Rio de Janeiro', 'address_location_lon': -43.175704, 'address_location_lat': -22.819177, 'address_zone': 'Zona Norte', 'address_neighborhood': 'Zumbi', 'prices_price': 260000.0, 'prices_tax_iptu': 25.0, 'prices_tax_condo': 0.0, 'features_bedrooms': 2, 'features_bathrooms': 1, 'features_suites': 0, 'features_parkingSpaces': 1, 'features_usableAreas': 46.0, 'features_totalAreas': '181', 'features_floors': 0, 'features_unitsOnTheFloor': 0, 'features_unitFloor': 0}, {'customerID': '412014-PIGUUNWR', 'source': 'Website', 'types_unit': 'Apartamento', 'types_usage': 'Residencial', 'address_city': 'Rio de Janeiro', 'address_location_lon': -43.256676, 'address_location_lat': -22.946932, 'address_zone': 'Zona Norte', 'address_neighborhood': 'Alto da Boa Vista', 'prices_price': 255000.0, 'prices_tax_iptu': 70.0, 'prices_tax_condo': 357.0, 'features_bedrooms': 2, 'features_bathrooms': 2, 'features_suites': 0, 'features_parkingSpaces': 0, 'features_usableAreas': 72.0, 'features_totalAreas': '72', 'features_floors': 0, 'features_unitsOnTheFloor': 0, 'features_unitFloor': 0}, {'customerID': '607461-SUCEIWXX', 'source': 'Website', 'types_unit': 'Casa', 'types_usage': 'Residencial', 'address_city': 'Rio de Janeiro', 'address_location_lon': -43.401671, 'address_location_lat': -22.839046, 'address_zone': 'Zona Norte', 'address_neighborhood': 'Ricardo de Albuquerque', 'prices_price': 270000.0, 'prices_tax_iptu': 0.0, 'prices_tax_condo': 0.0, 'features_bedrooms': 1, 'features_bathrooms': 1, 'features_suites': 0, 'features_parkingSpaces': 0, 'features_usableAreas': 125.0, 'features_totalAreas': '125', 'features_floors': 0, 'features_unitsOnTheFloor': 0, 'features_unitFloor': 0}, {'customerID': '307373-HUKNEUAX', 'source': 'Website', 'types_unit': 'Casa', 'types_usage': 'Residencial', 'address_city': 'Rio de Janeiro', 'address_location_lon': -43.398893, 'address_location_lat': -22.835903, 'address_zone': 'Zona Norte', 'address_neighborhood': 'Parque Anchieta', 'prices_price': 280000.0, 'prices_tax_iptu': 0.0, 'prices_tax_condo': 30.0, 'features_bedrooms': 2, 'features_bathrooms': 2, 'features_suites': 0, 'features_parkingSpaces': 1, 'features_usableAreas': 149.0, 'features_totalAreas': '149', 'features_floors': 0, 'features_unitsOnTheFloor': 0, 'features_unitFloor': 0}, {'customerID': '204639-BEDHJFAK', 'source': 'Website', 'types_unit': 'Apartamento', 'types_usage': 'Residencial', 'address_city': 'Rio de Janeiro', 'address_location_lon': -43.231548, 'address_location_lat': -22.977155, 'address_zone': 'Zona Sul', 'address_neighborhood': 'Gávea', 'prices_price': 370000.0, 'prices_tax_iptu': 847.0, 'prices_tax_condo': 250.0, 'features_bedrooms': 1, 'features_bathrooms': 1, 'features_suites': 0, 'features_parkingSpaces': 0, 'features_usableAreas': 29.0, 'features_totalAreas': '29', 'features_floors': 4, 'features_unitsOnTheFloor': 3, 'features_unitFloor': 4}, {'customerID': '639204-SJZPNPGY', 'source': 'Website', 'types_unit': 'Apartamento', 'types_usage': 'Residencial', 'address_city': 'Rio de Janeiro', 'address_location_lon': -43.223689, 'address_location_lat': -22.961651, 'address_zone': 'Zona Sul', 'address_neighborhood': 'Jardim Botânico', 'prices_price': 375000.0, 'prices_tax_iptu': 0.0, 'prices_tax_condo': 0.0, 'features_bedrooms': 2, 'features_bathrooms': 2, 'features_suites': 0, 'features_parkingSpaces': 0, 'features_usableAreas': 67.0, 'features_totalAreas': '67', 'features_floors': 3, 'features_unitsOnTheFloor': 2, 'features_unitFloor': 1}, {'customerID': '562973-DMTACDCY', 'source': 'Website', 'types_unit': 'Apartamento', 'types_usage': 'Residencial', 'address_city': 'Rio de Janeiro', 'address_location_lon': -43.364859, 'address_location_lat': -22.880085, 'address_zone': 'Zona Oeste', 'address_neighborhood': 'Cidade Universitária', 'prices_price': 395000.0, 'prices_tax_iptu': nan, 'prices_tax_condo': 590.0, 'features_bedrooms': 2, 'features_bathrooms': 2, 'features_suites': 1, 'features_parkingSpaces': 1, 'features_usableAreas': 65.0, 'features_totalAreas': '65', 'features_floors': 0, 'features_unitsOnTheFloor': 0, 'features_unitFloor': 0}, {'customerID': '029254-PKBPWQKR', 'source': 'Website', 'types_unit': 'Apartamento', 'types_usage': 'Residencial', 'address_city': 'Rio de Janeiro', 'address_location_lon': -43.162199, 'address_location_lat': -22.946213, 'address_zone': 'Zona Sul', 'address_neighborhood': 'Urca', 'prices_price': 400000.0, 'prices_tax_iptu': 100.0, 'prices_tax_condo': 400.0, 'features_bedrooms': 1, 'features_bathrooms': 1, 'features_suites': 0, 'features_parkingSpaces': 0, 'features_usableAreas': 25.0, 'features_totalAreas': '25', 'features_floors': 0, 'features_unitsOnTheFloor': 0, 'features_unitFloor': 0}, {'customerID': '615309-AUIPIJMW', 'source': 'Website', 'types_unit': 'Apartamento', 'types_usage': 'Residencial', 'address_city': 'Rio de Janeiro', 'address_location_lon': -43.198118, 'address_location_lat': -22.956278, 'address_zone': 'Zona Sul', 'address_neighborhood': 'Humaitá', 'prices_price': 400000.0, 'prices_tax_iptu': 117.0, 'prices_tax_condo': nan, 'features_bedrooms': 1, 'features_bathrooms': 1, 'features_suites': 0, 'features_parkingSpaces': 0, 'features_usableAreas': 30.0, 'features_totalAreas': '36', 'features_floors': 0, 'features_unitsOnTheFloor': 0, 'features_unitFloor': 0}, {'customerID': '034966-EXJWNMEN', 'source': 'Website', 'types_unit': 'Outros', 'types_usage': 'Residencial', 'address_city': 'Rio de Janeiro', 'address_location_lon': -43.199809, 'address_location_lat': -22.966372, 'address_zone': 'Zona Sul', 'address_neighborhood': 'Lagoa', 'prices_price': 439574.0, 'prices_tax_iptu': nan, 'prices_tax_condo': nan, 'features_bedrooms': 0, 'features_bathrooms': 0, 'features_suites': 0, 'features_parkingSpaces': 0, 'features_usableAreas': 387.0, 'features_totalAreas': '387', 'features_floors': 0, 'features_unitsOnTheFloor': 0, 'features_unitFloor': 0}, {'customerID': '543186-FNHBJUBZ', 'source': 'Website', 'types_unit': 'Outros', 'types_usage': 'Residencial', 'address_city': 'Rio de Janeiro', 'address_location_lon': -43.256071, 'address_location_lat': -22.993336, 'address_zone': 'Zona Sul', 'address_neighborhood': 'São Conrado', 'prices_price': 475000.0, 'prices_tax_iptu': 8475.0, 'prices_tax_condo': 120.0, 'features_bedrooms': 0, 'features_bathrooms': 0, 'features_suites': 0, 'features_parkingSpaces': 0, 'features_usableAreas': 450.0, 'features_totalAreas': '450', 'features_floors': 0, 'features_unitsOnTheFloor': 0, 'features_unitFloor': 0}, {'customerID': '995320-WJHYOFEX', 'source': 'Website', 'types_unit': 'Casa', 'types_usage': 'Residencial', 'address_city': 'Rio de Janeiro', 'address_location_lon': -43.337189, 'address_location_lat': -22.813252, 'address_zone': 'Zona Norte', 'address_neighborhood': 'Parque Colúmbia', 'prices_price': 480000.0, 'prices_tax_iptu': 0.0, 'prices_tax_condo': 0.0, 'features_bedrooms': 5, 'features_bathrooms': 8, 'features_suites': 0, 'features_parkingSpaces': 1, 'features_usableAreas': 121.0, 'features_totalAreas': '121', 'features_floors': 0, 'features_unitsOnTheFloor': 0, 'features_unitFloor': 0}, {'customerID': '907281-NDKXWBUD', 'source': 'Website', 'types_unit': 'Apartamento', 'types_usage': 'Residencial', 'address_city': 'Rio de Janeiro', 'address_location_lon': -43.197861, 'address_location_lat': -22.986763, 'address_zone': 'Zona Sul', 'address_neighborhood': 'Ipanema', 'prices_price': 485000.0, 'prices_tax_iptu': 750.0, 'prices_tax_condo': 650.0, 'features_bedrooms': 1, 'features_bathrooms': 1, 'features_suites': 0, 'features_parkingSpaces': 0, 'features_usableAreas': 30.0, 'features_totalAreas': '30', 'features_floors': 12, 'features_unitsOnTheFloor': 10, 'features_unitFloor': 8}, {'customerID': '680244-ONBPWTUC', 'source': 'Website', 'types_unit': 'Apartamento', 'types_usage': 'Residencial', 'address_city': 'Rio de Janeiro', 'address_location_lon': -43.19845, 'address_location_lat': -22.942318, 'address_zone': 'Zona Sul', 'address_neighborhood': 'Cosme Velho', 'prices_price': 590000.0, 'prices_tax_iptu': 90.0, 'prices_tax_condo': 500.0, 'features_bedrooms': 2, 'features_bathrooms': 1, 'features_suites': 0, 'features_parkingSpaces': 0, 'features_usableAreas': 77.0, 'features_totalAreas': '77', 'features_floors': 0, 'features_unitsOnTheFloor': 0, 'features_unitFloor': 0}, {'customerID': '445496-DTNEZSHE', 'source': 'Website', 'types_unit': 'Outros', 'types_usage': 'Residencial', 'address_city': 'Rio de Janeiro', 'address_location_lon': -43.172897, 'address_location_lat': -22.906847, 'address_zone': 'Zona Central', 'address_neighborhood': 'Área Rural de Rio de Janeiro', 'prices_price': 600000.0, 'prices_tax_iptu': 0.0, 'prices_tax_condo': 0.0, 'features_bedrooms': 0, 'features_bathrooms': 0, 'features_suites': 0, 'features_parkingSpaces': 0, 'features_usableAreas': 0.0, 'features_totalAreas': 0, 'features_floors': 0, 'features_unitsOnTheFloor': 0, 'features_unitFloor': 0}, {'customerID': '505027-MHKZWGJJ', 'source': 'Website', 'types_unit': 'Apartamento', 'types_usage': 'Residencial', 'address_city': 'Rio de Janeiro', 'address_location_lon': -43.271541, 'address_location_lat': -22.999023, 'address_zone': 'Zona Sul', 'address_neighborhood': 'Joá', 'prices_price': 980000.0, 'prices_tax_iptu': 250.0, 'prices_tax_condo': 1200.0, 'features_bedrooms': 3, 'features_bathrooms': 2, 'features_suites': 1, 'features_parkingSpaces': 1, 'features_usableAreas': 110.0, 'features_totalAreas': '110', 'features_floors': 0, 'features_unitsOnTheFloor': 0, 'features_unitFloor': 0}, {'customerID': '503242-HDVZOJAQ', 'source': 'Website', 'types_unit': 'Outros', 'types_usage': 'Residencial', 'address_city': 'Rio de Janeiro', 'address_location_lon': -43.227361, 'address_location_lat': -22.786419, 'address_zone': 'Zona Norte', 'address_neighborhood': 'Tubiacanga', 'prices_price': 1000000.0, 'prices_tax_iptu': nan, 'prices_tax_condo': nan, 'features_bedrooms': 8, 'features_bathrooms': 4, 'features_suites': 5, 'features_parkingSpaces': 4, 'features_usableAreas': 720.0, 'features_totalAreas': '720', 'features_floors': 0, 'features_unitsOnTheFloor': 0, 'features_unitFloor': 1}]\n"
     ]
    }
   ],
   "source": [
    "# primeiro passo é realiza o filtro e a exclusão da coluna bairros\n",
    "# pois não quero exemplo(2 zonas leste, com bairro Tatuape)\n",
    "\n",
    "dici = dados_imoveis[~dados_imoveis['address_zone'].isna()].drop_duplicates(subset=['address_neighborhood']).to_dict('records')\n",
    "print(dici)"
   ]
  },
  {
   "cell_type": "code",
   "execution_count": 14,
   "id": "c84b1926",
   "metadata": {},
   "outputs": [
    {
     "name": "stdout",
     "output_type": "stream",
     "text": [
      "{'Taquara': 'Zona Oeste', 'Santíssimo': 'Zona Oeste', 'Pedra de Guaratiba': 'Zona Oeste', 'Recreio dos Bandeirantes': 'Zona Oeste', 'Guaratiba': 'Zona Oeste', 'Jacarezinho': 'Zona Norte', 'Santa Cruz': 'Zona Oeste', 'Vargem Grande': 'Zona Oeste', 'Bangu': 'Zona Oeste', 'Tanque': 'Zona Oeste', 'Santo Cristo': 'Zona Central', 'Coelho Neto': 'Zona Norte', 'Bento Ribeiro': 'Zona Norte', 'Campo Grande': 'Zona Oeste', 'Oswaldo Cruz': 'Zona Norte', 'Camorim': 'Zona Oeste', 'Sepetiba': 'Zona Oeste', 'Vigário Geral': 'Zona Norte', 'Campinho': 'Zona Norte', 'Realengo': 'Zona Oeste', 'Jacarepaguá': 'Zona Oeste', 'Cidade de Deus': 'Zona Oeste', 'Honório Gurgel': 'Zona Norte', 'Centro': 'Zona Central', 'Cosmos': 'Zona Oeste', 'Tomás Coelho': 'Zona Norte', 'Cascadura': 'Zona Norte', 'Pavuna': 'Zona Norte', 'Paciência': 'Zona Oeste', 'Praça Seca': 'Zona Oeste', 'Vila Valqueire': 'Zona Oeste', 'Inhoaíba': 'Zona Oeste', 'Vicente de Carvalho': 'Zona Norte', 'Senador Vasconcelos': 'Zona Oeste', 'Turiaçu': 'Zona Norte', 'Penha Circular': 'Zona Norte', 'Quintino Bocaiúva': 'Zona Norte', 'Sampaio': 'Zona Norte', 'Piedade': 'Zona Norte', 'Braz de Pina': 'Zona Norte', 'São Cristóvão': 'Zona Norte', 'Marechal Hermes': 'Zona Norte', 'Santa Teresa': 'Zona Sul', 'Vila Isabel': 'Zona Norte', 'Curicica': 'Zona Oeste', 'Engenho de Dentro': 'Zona Norte', 'Engenho da Rainha': 'Zona Norte', 'Madureira': 'Zona Norte', 'Engenho Novo': 'Zona Norte', 'Engenheiro Leal': 'Zona Norte', 'Higienópolis': 'Zona Norte', 'Padre Miguel': 'Zona Oeste', 'Rocha Miranda': 'Zona Norte', 'Pilares': 'Zona Norte', 'Anchieta': 'Zona Norte', 'Jardim Sulacap': 'Zona Oeste', 'Encantado': 'Zona Norte', 'Galeão': 'Zona Norte', 'Parada de Lucas': 'Zona Norte', 'Olaria': 'Zona Norte', 'Bonsucesso': 'Zona Norte', 'Méier': 'Zona Norte', 'Laranjeiras': 'Zona Sul', 'Cordovil': 'Zona Norte', 'Abolição': 'Zona Norte', 'Inhaúma': 'Zona Norte', 'Bancários': 'Zona Norte', 'Lins de Vasconcelos': 'Zona Norte', 'Ramos': 'Zona Norte', 'Irajá': 'Zona Norte', 'Rio Comprido': 'Zona Sul', 'Guadalupe': 'Zona Norte', 'Penha': 'Zona Norte', 'Riachuelo': 'Zona Norte', 'Tijuca': 'Zona Norte', 'Pechincha': 'Zona Oeste', 'Vaz Lobo': 'Zona Norte', 'Freguesia (Ilha do Governador)': 'Zona Norte', 'Cavalcanti': 'Zona Norte', 'Senador Camará': 'Zona Oeste', 'Vargem Pequena': 'Zona Oeste', 'Praça da Bandeira': 'Zona Norte', 'Vila Kosmos': 'Zona Norte', 'Catete': 'Zona Sul', 'Rocha': 'Zona Norte', 'Colégio': 'Zona Norte', 'Del Castilho': 'Zona Norte', 'Grajaú': 'Zona Norte', 'Barra de Guaratiba': 'Zona Oeste', 'Anil': 'Zona Oeste', 'Andaraí': 'Zona Norte', 'Vila da Penha': 'Zona Norte', 'Magalhães Bastos': 'Zona Oeste', 'Barra da Tijuca': 'Zona Oeste', 'Freguesia (Jacarepaguá)': 'Zona Oeste', 'Copacabana': 'Zona Sul', 'São Francisco Xavier': 'Zona Norte', 'Água Santa': 'Zona Norte', 'Itanhangá': 'Zona Oeste', 'Jardim América': 'Zona Norte', 'Portuguesa': 'Zona Norte', 'Vidigal': 'Zona Sul', 'Cachambi': 'Zona Norte', 'Tauá': 'Zona Norte', 'Maria da Graça': 'Zona Norte', 'Gardênia Azul': 'Zona Oeste', 'Catumbi': 'Zona Sul', 'Jacaré': 'Zona Norte', 'Todos os Santos': 'Zona Norte', 'Praia da Bandeira': 'Zona Norte', 'Cocotá': 'Zona Norte', 'Botafogo': 'Zona Sul', 'Paquetá': 'Zona Norte', 'Caju': 'Zona Norte', 'Benfica': 'Zona Norte', 'Cidade Nova': 'Zona Central', 'Glória': 'Zona Sul', 'Flamengo': 'Zona Sul', 'Cacuia': 'Zona Norte', 'Jardim Carioca': 'Zona Norte', 'Maracanã': 'Zona Norte', 'Vista Alegre': 'Zona Norte', 'Estácio': 'Zona Central', 'Jardim Guanabara': 'Zona Norte', 'Leme': 'Zona Sul', 'Vila Militar': 'Zona Oeste', 'Dumas': 'Zona Oeste', 'Mangueira': 'Zona Norte', 'Moneró': 'Zona Norte', 'Pitangueiras': 'Zona Norte', 'Ribeira': 'Zona Norte', 'Saúde': 'Zona Central', 'Leblon': 'Zona Sul', 'Gamboa': 'Zona Central', 'Campo dos Afonsos': 'Zona Oeste', 'Zumbi': 'Zona Norte', 'Alto da Boa Vista': 'Zona Norte', 'Ricardo de Albuquerque': 'Zona Norte', 'Parque Anchieta': 'Zona Norte', 'Gávea': 'Zona Sul', 'Jardim Botânico': 'Zona Sul', 'Cidade Universitária': 'Zona Oeste', 'Urca': 'Zona Sul', 'Humaitá': 'Zona Sul', 'Lagoa': 'Zona Sul', 'São Conrado': 'Zona Sul', 'Parque Colúmbia': 'Zona Norte', 'Ipanema': 'Zona Sul', 'Cosme Velho': 'Zona Sul', 'Área Rural de Rio de Janeiro': 'Zona Central', 'Joá': 'Zona Sul', 'Tubiacanga': 'Zona Norte'}\n"
     ]
    }
   ],
   "source": [
    "# Após a filtragem dos dados e o drop dos null eu aplico a substituição\n",
    "#consigo ver abaixo as informações associadas\n",
    "\n",
    "dict_zona = {dic['address_neighborhood']: dic['address_zone'] for dic in dici}\n",
    "print(dict_zona)"
   ]
  },
  {
   "cell_type": "code",
   "execution_count": 15,
   "id": "f5f3eac2",
   "metadata": {},
   "outputs": [],
   "source": [
    "# vou agora aplicar esse ajuste no dataset, localizando os null e associando\n",
    "for bairro,zona in dict_zona.items(): dados_imoveis.loc[dados_imoveis['address_neighborhood'] == bairro, 'address_zone'] = zona"
   ]
  },
  {
   "cell_type": "code",
   "execution_count": 16,
   "id": "ecc269cf",
   "metadata": {},
   "outputs": [
    {
     "data": {
      "text/plain": [
       "0"
      ]
     },
     "execution_count": 16,
     "metadata": {},
     "output_type": "execute_result"
    }
   ],
   "source": [
    "#verificando e está ok os dados nan foram associados corretamente\n",
    "dados_imoveis['address_zone'].isnull().sum()"
   ]
  },
  {
   "cell_type": "markdown",
   "id": "8122ca8e",
   "metadata": {},
   "source": [
    "### Dados Null Taxas de condominio tratamento\n",
    "#### na análise exploratoria eu vi além dos dados atribuidos como string e eu preciso de float\n",
    "#### os dados das colunas (prices_tax_condo e prices_tax_iptu tem valores não atribuidos\n",
    "#### como não consigo associar como eu fiz pra bairro, vou aqui subtituir por zero"
   ]
  },
  {
   "cell_type": "code",
   "execution_count": 17,
   "id": "6dc5f2a2",
   "metadata": {},
   "outputs": [],
   "source": [
    "# aplica o alteração com a função fillna\n",
    "dados_imoveis.prices_tax_condo.fillna(0, inplace = True)\n",
    "dados_imoveis.prices_tax_iptu.fillna(0, inplace = True)"
   ]
  },
  {
   "cell_type": "code",
   "execution_count": 18,
   "id": "d074e19a",
   "metadata": {},
   "outputs": [
    {
     "data": {
      "text/plain": [
       "customerID                    0\n",
       "source                        0\n",
       "types_unit                    0\n",
       "types_usage                   0\n",
       "address_city                  0\n",
       "address_location_lon        139\n",
       "address_location_lat        139\n",
       "address_zone                  0\n",
       "address_neighborhood          0\n",
       "prices_price                  0\n",
       "prices_tax_iptu               0\n",
       "prices_tax_condo              0\n",
       "features_bedrooms             0\n",
       "features_bathrooms            0\n",
       "features_suites               0\n",
       "features_parkingSpaces        0\n",
       "features_usableAreas          0\n",
       "features_totalAreas           0\n",
       "features_floors               0\n",
       "features_unitsOnTheFloor      0\n",
       "features_unitFloor            0\n",
       "dtype: int64"
      ]
     },
     "execution_count": 18,
     "metadata": {},
     "output_type": "execute_result"
    }
   ],
   "source": [
    "# e confirmo se os valores foram atribuidos, estão ok\n",
    "dados_imoveis.isna().sum()"
   ]
  },
  {
   "cell_type": "markdown",
   "id": "420462ad",
   "metadata": {},
   "source": [
    "### Dropar colunas desnecessarias + padronizar as colunas do dataframe"
   ]
  },
  {
   "cell_type": "code",
   "execution_count": 19,
   "id": "9a7723a7",
   "metadata": {},
   "outputs": [],
   "source": [
    "# Drop das colunas que eu não vou usar no ML\n",
    "dados_imoveis.drop(['customerID', 'source', 'types_usage', 'address_city', \n",
    "                    'address_location_lon', 'address_location_lat','address_neighborhood' ], axis = 1, inplace=True)"
   ]
  },
  {
   "cell_type": "code",
   "execution_count": 20,
   "id": "d9a30e9e",
   "metadata": {},
   "outputs": [
    {
     "data": {
      "text/html": [
       "<div>\n",
       "<style scoped>\n",
       "    .dataframe tbody tr th:only-of-type {\n",
       "        vertical-align: middle;\n",
       "    }\n",
       "\n",
       "    .dataframe tbody tr th {\n",
       "        vertical-align: top;\n",
       "    }\n",
       "\n",
       "    .dataframe thead th {\n",
       "        text-align: right;\n",
       "    }\n",
       "</style>\n",
       "<table border=\"1\" class=\"dataframe\">\n",
       "  <thead>\n",
       "    <tr style=\"text-align: right;\">\n",
       "      <th></th>\n",
       "      <th>unit</th>\n",
       "      <th>zone</th>\n",
       "      <th>price</th>\n",
       "      <th>tax_iptu</th>\n",
       "      <th>tax_condo</th>\n",
       "      <th>bedrooms</th>\n",
       "      <th>bathrooms</th>\n",
       "      <th>suites</th>\n",
       "      <th>parkingSpaces</th>\n",
       "      <th>usableAreas</th>\n",
       "      <th>totalAreas</th>\n",
       "      <th>floors</th>\n",
       "      <th>unitsOnTheFloor</th>\n",
       "      <th>unitFloor</th>\n",
       "    </tr>\n",
       "  </thead>\n",
       "  <tbody>\n",
       "    <tr>\n",
       "      <th>0</th>\n",
       "      <td>Outros</td>\n",
       "      <td>Zona Oeste</td>\n",
       "      <td>45000.0</td>\n",
       "      <td>0.0</td>\n",
       "      <td>150.0</td>\n",
       "      <td>0</td>\n",
       "      <td>0</td>\n",
       "      <td>0</td>\n",
       "      <td>1</td>\n",
       "      <td>62.0</td>\n",
       "      <td>62</td>\n",
       "      <td>0</td>\n",
       "      <td>0</td>\n",
       "      <td>0</td>\n",
       "    </tr>\n",
       "    <tr>\n",
       "      <th>1</th>\n",
       "      <td>Apartamento</td>\n",
       "      <td>Zona Oeste</td>\n",
       "      <td>45000.0</td>\n",
       "      <td>0.0</td>\n",
       "      <td>120.0</td>\n",
       "      <td>2</td>\n",
       "      <td>1</td>\n",
       "      <td>0</td>\n",
       "      <td>1</td>\n",
       "      <td>44.0</td>\n",
       "      <td>0</td>\n",
       "      <td>0</td>\n",
       "      <td>0</td>\n",
       "      <td>0</td>\n",
       "    </tr>\n",
       "    <tr>\n",
       "      <th>2</th>\n",
       "      <td>Outros</td>\n",
       "      <td>Zona Oeste</td>\n",
       "      <td>50000.0</td>\n",
       "      <td>0.0</td>\n",
       "      <td>100.0</td>\n",
       "      <td>0</td>\n",
       "      <td>0</td>\n",
       "      <td>0</td>\n",
       "      <td>0</td>\n",
       "      <td>132.0</td>\n",
       "      <td>132</td>\n",
       "      <td>0</td>\n",
       "      <td>0</td>\n",
       "      <td>0</td>\n",
       "    </tr>\n",
       "    <tr>\n",
       "      <th>3</th>\n",
       "      <td>Apartamento</td>\n",
       "      <td>Zona Oeste</td>\n",
       "      <td>50000.0</td>\n",
       "      <td>120.0</td>\n",
       "      <td>400.0</td>\n",
       "      <td>3</td>\n",
       "      <td>2</td>\n",
       "      <td>1</td>\n",
       "      <td>1</td>\n",
       "      <td>60.0</td>\n",
       "      <td>0</td>\n",
       "      <td>3</td>\n",
       "      <td>4</td>\n",
       "      <td>2</td>\n",
       "    </tr>\n",
       "    <tr>\n",
       "      <th>4</th>\n",
       "      <td>Outros</td>\n",
       "      <td>Zona Oeste</td>\n",
       "      <td>50000.0</td>\n",
       "      <td>0.0</td>\n",
       "      <td>0.0</td>\n",
       "      <td>0</td>\n",
       "      <td>0</td>\n",
       "      <td>0</td>\n",
       "      <td>0</td>\n",
       "      <td>200.0</td>\n",
       "      <td>200</td>\n",
       "      <td>0</td>\n",
       "      <td>0</td>\n",
       "      <td>0</td>\n",
       "    </tr>\n",
       "  </tbody>\n",
       "</table>\n",
       "</div>"
      ],
      "text/plain": [
       "          unit        zone    price  tax_iptu  tax_condo  bedrooms  bathrooms  \\\n",
       "0       Outros  Zona Oeste  45000.0       0.0      150.0         0          0   \n",
       "1  Apartamento  Zona Oeste  45000.0       0.0      120.0         2          1   \n",
       "2       Outros  Zona Oeste  50000.0       0.0      100.0         0          0   \n",
       "3  Apartamento  Zona Oeste  50000.0     120.0      400.0         3          2   \n",
       "4       Outros  Zona Oeste  50000.0       0.0        0.0         0          0   \n",
       "\n",
       "   suites  parkingSpaces  usableAreas totalAreas  floors  unitsOnTheFloor  \\\n",
       "0       0              1         62.0         62       0                0   \n",
       "1       0              1         44.0          0       0                0   \n",
       "2       0              0        132.0        132       0                0   \n",
       "3       1              1         60.0          0       3                4   \n",
       "4       0              0        200.0        200       0                0   \n",
       "\n",
       "   unitFloor  \n",
       "0          0  \n",
       "1          0  \n",
       "2          0  \n",
       "3          2  \n",
       "4          0  "
      ]
     },
     "execution_count": 20,
     "metadata": {},
     "output_type": "execute_result"
    }
   ],
   "source": [
    "#Renomei as colunas e mantive os nomes mais simples\n",
    "dicionario_colunas = {'types_unit': 'unit', 'address_zone': 'zone', 'prices_price': 'price',\n",
    "                     'prices_tax_condo': 'tax_condo', 'prices_tax_iptu': 'tax_iptu', 'features_bedrooms': 'bedrooms',\n",
    "                      'features_bathrooms': 'bathrooms', 'features_suites': 'suites', 'features_parkingSpaces': 'parkingSpaces',\n",
    "                      'features_usableAreas': 'usableAreas', 'features_totalAreas':'totalAreas', 'features_floors':'floors',\n",
    "                      'features_unitsOnTheFloor':'unitsOnTheFloor', 'features_unitFloor':'unitFloor'}\n",
    "\n",
    "dados_imoveis = dados_imoveis.rename(dicionario_colunas, axis = 1)\n",
    "dados_imoveis.head()"
   ]
  },
  {
   "cell_type": "markdown",
   "id": "4d94eb51",
   "metadata": {},
   "source": [
    "# Regressão Linear\n",
    "\n",
    "#### Antes de criar o modelo é importante entender o grau de relação das variaveis por isso aplico a correlação \n",
    "#### No campo da estatística e da matemática a correlação se refere a uma medida entre duas ou mais variáveis que se relacionam, ela pode ser negativa ou positiva"
   ]
  },
  {
   "cell_type": "code",
   "execution_count": 21,
   "id": "215a7b5c",
   "metadata": {},
   "outputs": [
    {
     "data": {
      "text/html": [
       "<div>\n",
       "<style scoped>\n",
       "    .dataframe tbody tr th:only-of-type {\n",
       "        vertical-align: middle;\n",
       "    }\n",
       "\n",
       "    .dataframe tbody tr th {\n",
       "        vertical-align: top;\n",
       "    }\n",
       "\n",
       "    .dataframe thead th {\n",
       "        text-align: right;\n",
       "    }\n",
       "</style>\n",
       "<table border=\"1\" class=\"dataframe\">\n",
       "  <thead>\n",
       "    <tr style=\"text-align: right;\">\n",
       "      <th></th>\n",
       "      <th>price</th>\n",
       "      <th>tax_iptu</th>\n",
       "      <th>tax_condo</th>\n",
       "      <th>bedrooms</th>\n",
       "      <th>bathrooms</th>\n",
       "      <th>suites</th>\n",
       "      <th>parkingSpaces</th>\n",
       "      <th>usableAreas</th>\n",
       "      <th>floors</th>\n",
       "      <th>unitsOnTheFloor</th>\n",
       "      <th>unitFloor</th>\n",
       "    </tr>\n",
       "  </thead>\n",
       "  <tbody>\n",
       "    <tr>\n",
       "      <th>price</th>\n",
       "      <td>1.000000</td>\n",
       "      <td>0.029751</td>\n",
       "      <td>0.047704</td>\n",
       "      <td>0.530474</td>\n",
       "      <td>0.571725</td>\n",
       "      <td>0.588738</td>\n",
       "      <td>0.423186</td>\n",
       "      <td>0.692502</td>\n",
       "      <td>-0.061910</td>\n",
       "      <td>-0.133700</td>\n",
       "      <td>-0.000143</td>\n",
       "    </tr>\n",
       "    <tr>\n",
       "      <th>tax_iptu</th>\n",
       "      <td>0.029751</td>\n",
       "      <td>1.000000</td>\n",
       "      <td>0.226213</td>\n",
       "      <td>0.013625</td>\n",
       "      <td>0.015086</td>\n",
       "      <td>0.019101</td>\n",
       "      <td>0.009720</td>\n",
       "      <td>0.014654</td>\n",
       "      <td>0.006704</td>\n",
       "      <td>0.005044</td>\n",
       "      <td>0.001204</td>\n",
       "    </tr>\n",
       "    <tr>\n",
       "      <th>tax_condo</th>\n",
       "      <td>0.047704</td>\n",
       "      <td>0.226213</td>\n",
       "      <td>1.000000</td>\n",
       "      <td>0.018460</td>\n",
       "      <td>0.020009</td>\n",
       "      <td>0.023479</td>\n",
       "      <td>0.018010</td>\n",
       "      <td>0.019712</td>\n",
       "      <td>0.013821</td>\n",
       "      <td>-0.000528</td>\n",
       "      <td>0.003072</td>\n",
       "    </tr>\n",
       "    <tr>\n",
       "      <th>bedrooms</th>\n",
       "      <td>0.530474</td>\n",
       "      <td>0.013625</td>\n",
       "      <td>0.018460</td>\n",
       "      <td>1.000000</td>\n",
       "      <td>0.665958</td>\n",
       "      <td>0.600596</td>\n",
       "      <td>0.467391</td>\n",
       "      <td>0.563545</td>\n",
       "      <td>-0.082025</td>\n",
       "      <td>-0.130611</td>\n",
       "      <td>-0.007146</td>\n",
       "    </tr>\n",
       "    <tr>\n",
       "      <th>bathrooms</th>\n",
       "      <td>0.571725</td>\n",
       "      <td>0.015086</td>\n",
       "      <td>0.020009</td>\n",
       "      <td>0.665958</td>\n",
       "      <td>1.000000</td>\n",
       "      <td>0.752495</td>\n",
       "      <td>0.487624</td>\n",
       "      <td>0.597793</td>\n",
       "      <td>-0.044552</td>\n",
       "      <td>-0.107347</td>\n",
       "      <td>0.007599</td>\n",
       "    </tr>\n",
       "    <tr>\n",
       "      <th>suites</th>\n",
       "      <td>0.588738</td>\n",
       "      <td>0.019101</td>\n",
       "      <td>0.023479</td>\n",
       "      <td>0.600596</td>\n",
       "      <td>0.752495</td>\n",
       "      <td>1.000000</td>\n",
       "      <td>0.484850</td>\n",
       "      <td>0.577344</td>\n",
       "      <td>-0.047576</td>\n",
       "      <td>-0.091408</td>\n",
       "      <td>0.005300</td>\n",
       "    </tr>\n",
       "    <tr>\n",
       "      <th>parkingSpaces</th>\n",
       "      <td>0.423186</td>\n",
       "      <td>0.009720</td>\n",
       "      <td>0.018010</td>\n",
       "      <td>0.467391</td>\n",
       "      <td>0.487624</td>\n",
       "      <td>0.484850</td>\n",
       "      <td>1.000000</td>\n",
       "      <td>0.483709</td>\n",
       "      <td>-0.048310</td>\n",
       "      <td>-0.074348</td>\n",
       "      <td>0.003788</td>\n",
       "    </tr>\n",
       "    <tr>\n",
       "      <th>usableAreas</th>\n",
       "      <td>0.692502</td>\n",
       "      <td>0.014654</td>\n",
       "      <td>0.019712</td>\n",
       "      <td>0.563545</td>\n",
       "      <td>0.597793</td>\n",
       "      <td>0.577344</td>\n",
       "      <td>0.483709</td>\n",
       "      <td>1.000000</td>\n",
       "      <td>-0.103729</td>\n",
       "      <td>-0.144041</td>\n",
       "      <td>-0.012715</td>\n",
       "    </tr>\n",
       "    <tr>\n",
       "      <th>floors</th>\n",
       "      <td>-0.061910</td>\n",
       "      <td>0.006704</td>\n",
       "      <td>0.013821</td>\n",
       "      <td>-0.082025</td>\n",
       "      <td>-0.044552</td>\n",
       "      <td>-0.047576</td>\n",
       "      <td>-0.048310</td>\n",
       "      <td>-0.103729</td>\n",
       "      <td>1.000000</td>\n",
       "      <td>0.737802</td>\n",
       "      <td>0.121067</td>\n",
       "    </tr>\n",
       "    <tr>\n",
       "      <th>unitsOnTheFloor</th>\n",
       "      <td>-0.133700</td>\n",
       "      <td>0.005044</td>\n",
       "      <td>-0.000528</td>\n",
       "      <td>-0.130611</td>\n",
       "      <td>-0.107347</td>\n",
       "      <td>-0.091408</td>\n",
       "      <td>-0.074348</td>\n",
       "      <td>-0.144041</td>\n",
       "      <td>0.737802</td>\n",
       "      <td>1.000000</td>\n",
       "      <td>0.092434</td>\n",
       "    </tr>\n",
       "    <tr>\n",
       "      <th>unitFloor</th>\n",
       "      <td>-0.000143</td>\n",
       "      <td>0.001204</td>\n",
       "      <td>0.003072</td>\n",
       "      <td>-0.007146</td>\n",
       "      <td>0.007599</td>\n",
       "      <td>0.005300</td>\n",
       "      <td>0.003788</td>\n",
       "      <td>-0.012715</td>\n",
       "      <td>0.121067</td>\n",
       "      <td>0.092434</td>\n",
       "      <td>1.000000</td>\n",
       "    </tr>\n",
       "  </tbody>\n",
       "</table>\n",
       "</div>"
      ],
      "text/plain": [
       "                    price  tax_iptu  tax_condo  bedrooms  bathrooms    suites  \\\n",
       "price            1.000000  0.029751   0.047704  0.530474   0.571725  0.588738   \n",
       "tax_iptu         0.029751  1.000000   0.226213  0.013625   0.015086  0.019101   \n",
       "tax_condo        0.047704  0.226213   1.000000  0.018460   0.020009  0.023479   \n",
       "bedrooms         0.530474  0.013625   0.018460  1.000000   0.665958  0.600596   \n",
       "bathrooms        0.571725  0.015086   0.020009  0.665958   1.000000  0.752495   \n",
       "suites           0.588738  0.019101   0.023479  0.600596   0.752495  1.000000   \n",
       "parkingSpaces    0.423186  0.009720   0.018010  0.467391   0.487624  0.484850   \n",
       "usableAreas      0.692502  0.014654   0.019712  0.563545   0.597793  0.577344   \n",
       "floors          -0.061910  0.006704   0.013821 -0.082025  -0.044552 -0.047576   \n",
       "unitsOnTheFloor -0.133700  0.005044  -0.000528 -0.130611  -0.107347 -0.091408   \n",
       "unitFloor       -0.000143  0.001204   0.003072 -0.007146   0.007599  0.005300   \n",
       "\n",
       "                 parkingSpaces  usableAreas    floors  unitsOnTheFloor  \\\n",
       "price                 0.423186     0.692502 -0.061910        -0.133700   \n",
       "tax_iptu              0.009720     0.014654  0.006704         0.005044   \n",
       "tax_condo             0.018010     0.019712  0.013821        -0.000528   \n",
       "bedrooms              0.467391     0.563545 -0.082025        -0.130611   \n",
       "bathrooms             0.487624     0.597793 -0.044552        -0.107347   \n",
       "suites                0.484850     0.577344 -0.047576        -0.091408   \n",
       "parkingSpaces         1.000000     0.483709 -0.048310        -0.074348   \n",
       "usableAreas           0.483709     1.000000 -0.103729        -0.144041   \n",
       "floors               -0.048310    -0.103729  1.000000         0.737802   \n",
       "unitsOnTheFloor      -0.074348    -0.144041  0.737802         1.000000   \n",
       "unitFloor             0.003788    -0.012715  0.121067         0.092434   \n",
       "\n",
       "                 unitFloor  \n",
       "price            -0.000143  \n",
       "tax_iptu          0.001204  \n",
       "tax_condo         0.003072  \n",
       "bedrooms         -0.007146  \n",
       "bathrooms         0.007599  \n",
       "suites            0.005300  \n",
       "parkingSpaces     0.003788  \n",
       "usableAreas      -0.012715  \n",
       "floors            0.121067  \n",
       "unitsOnTheFloor   0.092434  \n",
       "unitFloor         1.000000  "
      ]
     },
     "execution_count": 21,
     "metadata": {},
     "output_type": "execute_result"
    }
   ],
   "source": [
    "import matplotlib.pyplot as plt\n",
    "import seaborn as sns\n",
    "\n",
    "#carregamento do daset com a corrrelacao já feita e a importacao das bibliotecas para visualizar essas informações\n",
    "correlacao= dados_imoveis.corr()\n",
    "correlacao"
   ]
  },
  {
   "cell_type": "code",
   "execution_count": 22,
   "id": "23f74e6a",
   "metadata": {},
   "outputs": [
    {
     "data": {
      "image/png": "[encoded data removed]",
      "text/plain": [
       "<Figure size 936x576 with 2 Axes>"
      ]
     },
     "metadata": {},
     "output_type": "display_data"
    }
   ],
   "source": [
    "#visualização das correlações\n",
    "\n",
    "# primeira linha do cod é uma variavel para armazenar a paleta de cores\n",
    "#Mask funciona essencialmente com uma lista de booleanos (True/False)\n",
    "#que quando aplicada à matriz original retorna os elementos de interesse\n",
    "# e o restante seria o searn com as informações que eu quero visualiza\n",
    "\n",
    "cores = sns.color_palette('light:salmon', as_cmap=True) \n",
    "mask = np.zeros_like(correlacao)\n",
    "mask[np.triu_indices_from(mask)] = True\n",
    "with sns.axes_style(\"white\"):\n",
    "    f, ax = plt.subplots(figsize=(13, 8))\n",
    "    ax = sns.heatmap(correlacao, cmap=cores, mask=mask, square=True, fmt='.2f', annot=True)"
   ]
  },
  {
   "cell_type": "markdown",
   "id": "2c7a81eb",
   "metadata": {},
   "source": [
    "##### Analisando a matriz de correlação consigo observar que as suites\n",
    "##### tem uma forte relação com os banheiros o que é obvio porque para \n",
    "##### ser considera suite tem que haver banheiro no quarto \n",
    "##### e uma segunda correlacao muito forte é a unidade de segundo andar que esta \n",
    "##### muito relacionada com andar \n",
    "\n",
    "##### isso pode indicar multicolinearidade no dados que significa que existe um grau muito alto de correlacao\n",
    "##### ou em outras palavras,\n",
    "##### resulta quando a correlacao tem fatores que são, de certa forma, um pouco redundantes."
   ]
  },
  {
   "cell_type": "code",
   "execution_count": null,
   "id": "ce72bfba",
   "metadata": {},
   "outputs": [],
   "source": []
  },
  {
   "cell_type": "markdown",
   "id": "70bc5215",
   "metadata": {},
   "source": [
    "### Análise da distribuição da variável resposta"
   ]
  },
  {
   "cell_type": "code",
   "execution_count": 23,
   "id": "d1e1345b",
   "metadata": {},
   "outputs": [
    {
     "data": {
      "image/png": "[encoded data removed]",
      "text/plain": [
       "<Figure size 1440x720 with 1 Axes>"
      ]
     },
     "metadata": {
      "needs_background": "light"
     },
     "output_type": "display_data"
    }
   ],
   "source": [
    "#Criei um histograma para entender as variaveis\n",
    "# e o resultado foi que no dataset eu tenho mais valores\n",
    "#baixos de imoveis do que valores altos e por isso \n",
    "#vai ser necessario o tramento desses dados, pois se for feito \n",
    "#o modelo assim vai gerar vies nos dados e o modelos nao vai \n",
    "#saber preficiar corretamente os dados\n",
    "\n",
    "\n",
    "ax = sns.histplot(data=dados_imoveis, x='price', kde=True)\n",
    "ax.figure.set_size_inches(20, 10)\n",
    "ax.set_title('Histograma de preços')\n",
    "ax.set_xlabel('Preço');"
   ]
  },
  {
   "cell_type": "markdown",
   "id": "e7e15b4f",
   "metadata": {},
   "source": [
    "## Transformação das variáveis"
   ]
  },
  {
   "cell_type": "markdown",
   "id": "08a1a8b3",
   "metadata": {},
   "source": [
    "#### vou aplicar a transformação logarítmica nos dados \n",
    "#### é usada quando os dados têm uma distribuição distorcida positivamente e existem alguns valores grandes."
   ]
  },
  {
   "cell_type": "code",
   "execution_count": 24,
   "id": "27028a1f",
   "metadata": {},
   "outputs": [
    {
     "name": "stderr",
     "output_type": "stream",
     "text": [
      "C:\\Users\\patricia.sousa\\Anaconda4\\lib\\site-packages\\sklearn\\base.py:402: UserWarning: X has feature names, but FunctionTransformer was fitted without feature names\n",
      "  warnings.warn(\n"
     ]
    },
    {
     "data": {
      "text/html": [
       "<div>\n",
       "<style scoped>\n",
       "    .dataframe tbody tr th:only-of-type {\n",
       "        vertical-align: middle;\n",
       "    }\n",
       "\n",
       "    .dataframe tbody tr th {\n",
       "        vertical-align: top;\n",
       "    }\n",
       "\n",
       "    .dataframe thead th {\n",
       "        text-align: right;\n",
       "    }\n",
       "</style>\n",
       "<table border=\"1\" class=\"dataframe\">\n",
       "  <thead>\n",
       "    <tr style=\"text-align: right;\">\n",
       "      <th></th>\n",
       "      <th>unit</th>\n",
       "      <th>zone</th>\n",
       "      <th>totalAreas</th>\n",
       "      <th>price</th>\n",
       "      <th>tax_iptu</th>\n",
       "      <th>tax_condo</th>\n",
       "      <th>bedrooms</th>\n",
       "      <th>bathrooms</th>\n",
       "      <th>suites</th>\n",
       "      <th>parkingSpaces</th>\n",
       "      <th>usableAreas</th>\n",
       "      <th>floors</th>\n",
       "      <th>unitsOnTheFloor</th>\n",
       "      <th>unitFloor</th>\n",
       "    </tr>\n",
       "  </thead>\n",
       "  <tbody>\n",
       "    <tr>\n",
       "      <th>0</th>\n",
       "      <td>Outros</td>\n",
       "      <td>Zona Oeste</td>\n",
       "      <td>62</td>\n",
       "      <td>10.714440</td>\n",
       "      <td>0.000000</td>\n",
       "      <td>5.017280</td>\n",
       "      <td>0.000000</td>\n",
       "      <td>0.000000</td>\n",
       "      <td>0.000000</td>\n",
       "      <td>0.693147</td>\n",
       "      <td>4.143135</td>\n",
       "      <td>0.000000</td>\n",
       "      <td>0.000000</td>\n",
       "      <td>0.000000</td>\n",
       "    </tr>\n",
       "    <tr>\n",
       "      <th>1</th>\n",
       "      <td>Apartamento</td>\n",
       "      <td>Zona Oeste</td>\n",
       "      <td>0</td>\n",
       "      <td>10.714440</td>\n",
       "      <td>0.000000</td>\n",
       "      <td>4.795791</td>\n",
       "      <td>1.098612</td>\n",
       "      <td>0.693147</td>\n",
       "      <td>0.000000</td>\n",
       "      <td>0.693147</td>\n",
       "      <td>3.806662</td>\n",
       "      <td>0.000000</td>\n",
       "      <td>0.000000</td>\n",
       "      <td>0.000000</td>\n",
       "    </tr>\n",
       "    <tr>\n",
       "      <th>2</th>\n",
       "      <td>Outros</td>\n",
       "      <td>Zona Oeste</td>\n",
       "      <td>132</td>\n",
       "      <td>10.819798</td>\n",
       "      <td>0.000000</td>\n",
       "      <td>4.615121</td>\n",
       "      <td>0.000000</td>\n",
       "      <td>0.000000</td>\n",
       "      <td>0.000000</td>\n",
       "      <td>0.000000</td>\n",
       "      <td>4.890349</td>\n",
       "      <td>0.000000</td>\n",
       "      <td>0.000000</td>\n",
       "      <td>0.000000</td>\n",
       "    </tr>\n",
       "    <tr>\n",
       "      <th>3</th>\n",
       "      <td>Apartamento</td>\n",
       "      <td>Zona Oeste</td>\n",
       "      <td>0</td>\n",
       "      <td>10.819798</td>\n",
       "      <td>4.795791</td>\n",
       "      <td>5.993961</td>\n",
       "      <td>1.386294</td>\n",
       "      <td>1.098612</td>\n",
       "      <td>0.693147</td>\n",
       "      <td>0.693147</td>\n",
       "      <td>4.110874</td>\n",
       "      <td>1.386294</td>\n",
       "      <td>1.609438</td>\n",
       "      <td>1.098612</td>\n",
       "    </tr>\n",
       "    <tr>\n",
       "      <th>4</th>\n",
       "      <td>Outros</td>\n",
       "      <td>Zona Oeste</td>\n",
       "      <td>200</td>\n",
       "      <td>10.819798</td>\n",
       "      <td>0.000000</td>\n",
       "      <td>0.000000</td>\n",
       "      <td>0.000000</td>\n",
       "      <td>0.000000</td>\n",
       "      <td>0.000000</td>\n",
       "      <td>0.000000</td>\n",
       "      <td>5.303305</td>\n",
       "      <td>0.000000</td>\n",
       "      <td>0.000000</td>\n",
       "      <td>0.000000</td>\n",
       "    </tr>\n",
       "  </tbody>\n",
       "</table>\n",
       "</div>"
      ],
      "text/plain": [
       "          unit        zone totalAreas      price  tax_iptu  tax_condo  \\\n",
       "0       Outros  Zona Oeste         62  10.714440  0.000000   5.017280   \n",
       "1  Apartamento  Zona Oeste          0  10.714440  0.000000   4.795791   \n",
       "2       Outros  Zona Oeste        132  10.819798  0.000000   4.615121   \n",
       "3  Apartamento  Zona Oeste          0  10.819798  4.795791   5.993961   \n",
       "4       Outros  Zona Oeste        200  10.819798  0.000000   0.000000   \n",
       "\n",
       "   bedrooms  bathrooms    suites  parkingSpaces  usableAreas    floors  \\\n",
       "0  0.000000   0.000000  0.000000       0.693147     4.143135  0.000000   \n",
       "1  1.098612   0.693147  0.000000       0.693147     3.806662  0.000000   \n",
       "2  0.000000   0.000000  0.000000       0.000000     4.890349  0.000000   \n",
       "3  1.386294   1.098612  0.693147       0.693147     4.110874  1.386294   \n",
       "4  0.000000   0.000000  0.000000       0.000000     5.303305  0.000000   \n",
       "\n",
       "   unitsOnTheFloor  unitFloor  \n",
       "0         0.000000   0.000000  \n",
       "1         0.000000   0.000000  \n",
       "2         0.000000   0.000000  \n",
       "3         1.609438   1.098612  \n",
       "4         0.000000   0.000000  "
      ]
     },
     "execution_count": 24,
     "metadata": {},
     "output_type": "execute_result"
    }
   ],
   "source": [
    "# importo a biblioteca que fará essa transformação \n",
    "#essa função está dentro do pacote sklearn e se chama FunctionTransformer\n",
    "# o FunctionTransformer permiti que seja criado transformadores personalizados para os dados\n",
    "from sklearn.preprocessing import FunctionTransformer\n",
    "\n",
    "#abro uma variavel que se chama transformer, trago a funcao FunctionTransformer\n",
    "# em seguida passo o parametro np.log1p, validate=True que signfica que \n",
    "#todos os dados de entradas com valor real deve retornaar saidas reais\n",
    "transformer = FunctionTransformer(np.log1p, validate=True)\n",
    "\n",
    "#nesse ponto eu abro uma nova variavel onde vai trazer as funcoes acima\n",
    "# e excluindo dados categoricos ou objetos da transformacao\n",
    "dados_transformados = transformer.transform(dados_imoveis.select_dtypes(exclude=['object']))\n",
    "\n",
    "#nessa etapa eu excluo no dataset a coluna objetos\n",
    "colunas_dados_tranformados = dados_imoveis.select_dtypes(exclude=['object']).columns\n",
    "\n",
    "# E aqui eu trago a concatenação das informações transformadas dentro do meu dataset\n",
    "df_transformado = pd.concat([dados_imoveis.select_dtypes(include=['object']), pd.DataFrame(dados_transformados, columns=colunas_dados_tranformados)], axis=1)\n",
    "df_transformado.head()"
   ]
  },
  {
   "cell_type": "code",
   "execution_count": 25,
   "id": "0bae2b57",
   "metadata": {},
   "outputs": [
    {
     "data": {
      "image/png": "[encoded data removed]",
      "text/plain": [
       "<Figure size 936x576 with 2 Axes>"
      ]
     },
     "metadata": {},
     "output_type": "display_data"
    }
   ],
   "source": [
    "#depois da transformação logarítmica eu faço a mesma visualização com a matriz de correlação\n",
    "# para ver o impacto das transformações\n",
    "\n",
    "#correlações foram amenizadas \n",
    "\n",
    "correlacao_transformado = df_transformado.corr()\n",
    "mask = np.zeros_like(correlacao_transformado)\n",
    "mask[np.triu_indices_from(mask)] = True\n",
    "with sns.axes_style(\"white\"):\n",
    "    f, ax = plt.subplots(figsize=(13, 8))\n",
    "    ax = sns.heatmap(correlacao_transformado, cmap=cores, mask=mask, square=True, fmt='.2f', annot=True)\n",
    "    ax.set_title('Correlação entre variáveis - Tranformação Log', fontsize=20)\n"
   ]
  },
  {
   "cell_type": "code",
   "execution_count": 26,
   "id": "75735d11",
   "metadata": {},
   "outputs": [
    {
     "data": {
      "image/png": "[encoded data removed]",
      "text/plain": [
       "<Figure size 1440x720 with 1 Axes>"
      ]
     },
     "metadata": {
      "needs_background": "light"
     },
     "output_type": "display_data"
    }
   ],
   "source": [
    "#para confirmar além da matriz \n",
    "#vou plotar o histograma \n",
    "\n",
    "#com os preços ajustados a distruibuição fica mais simetria para ser aplicada no modelo\n",
    "\n",
    "ax = sns.histplot(data=df_transformado, x='price', kde=True)\n",
    "ax.figure.set_size_inches(20, 10)\n",
    "ax.set_title('Histograma de preços')\n",
    "ax.set_xlabel('Preço');"
   ]
  },
  {
   "cell_type": "markdown",
   "id": "28659901",
   "metadata": {},
   "source": [
    "## Pré processamento das variaveis categoricas faltantes "
   ]
  },
  {
   "cell_type": "code",
   "execution_count": 27,
   "id": "e0509d86",
   "metadata": {},
   "outputs": [
    {
     "data": {
      "text/plain": [
       "Index(['unit', 'zone', 'totalAreas'], dtype='object')"
      ]
     },
     "execution_count": 27,
     "metadata": {},
     "output_type": "execute_result"
    }
   ],
   "source": [
    "#conformo quais são as variaveis que ainda estão categoricas no meu dataset\n",
    "#incluindo o dataset objetos \n",
    "\n",
    "variaveis_categoricas = df_transformado.select_dtypes(include=['object']).columns\n",
    "variaveis_categoricas"
   ]
  },
  {
   "cell_type": "code",
   "execution_count": 28,
   "id": "a79869c9",
   "metadata": {},
   "outputs": [
    {
     "data": {
      "text/html": [
       "<div>\n",
       "<style scoped>\n",
       "    .dataframe tbody tr th:only-of-type {\n",
       "        vertical-align: middle;\n",
       "    }\n",
       "\n",
       "    .dataframe tbody tr th {\n",
       "        vertical-align: top;\n",
       "    }\n",
       "\n",
       "    .dataframe thead th {\n",
       "        text-align: right;\n",
       "    }\n",
       "</style>\n",
       "<table border=\"1\" class=\"dataframe\">\n",
       "  <thead>\n",
       "    <tr style=\"text-align: right;\">\n",
       "      <th></th>\n",
       "      <th>unit_Apartamento</th>\n",
       "      <th>unit_Casa</th>\n",
       "      <th>unit_Outros</th>\n",
       "      <th>zone_Zona Central</th>\n",
       "      <th>zone_Zona Norte</th>\n",
       "      <th>zone_Zona Oeste</th>\n",
       "      <th>zone_Zona Sul</th>\n",
       "      <th>totalAreas_0</th>\n",
       "      <th>totalAreas_0</th>\n",
       "      <th>totalAreas_1</th>\n",
       "      <th>...</th>\n",
       "      <th>totalAreas_9895</th>\n",
       "      <th>totalAreas_99</th>\n",
       "      <th>totalAreas_990</th>\n",
       "      <th>totalAreas_992</th>\n",
       "      <th>totalAreas_993</th>\n",
       "      <th>totalAreas_994</th>\n",
       "      <th>totalAreas_995</th>\n",
       "      <th>totalAreas_996</th>\n",
       "      <th>totalAreas_997</th>\n",
       "      <th>totalAreas_999</th>\n",
       "    </tr>\n",
       "  </thead>\n",
       "  <tbody>\n",
       "    <tr>\n",
       "      <th>0</th>\n",
       "      <td>0</td>\n",
       "      <td>0</td>\n",
       "      <td>1</td>\n",
       "      <td>0</td>\n",
       "      <td>0</td>\n",
       "      <td>1</td>\n",
       "      <td>0</td>\n",
       "      <td>0</td>\n",
       "      <td>0</td>\n",
       "      <td>0</td>\n",
       "      <td>...</td>\n",
       "      <td>0</td>\n",
       "      <td>0</td>\n",
       "      <td>0</td>\n",
       "      <td>0</td>\n",
       "      <td>0</td>\n",
       "      <td>0</td>\n",
       "      <td>0</td>\n",
       "      <td>0</td>\n",
       "      <td>0</td>\n",
       "      <td>0</td>\n",
       "    </tr>\n",
       "    <tr>\n",
       "      <th>1</th>\n",
       "      <td>1</td>\n",
       "      <td>0</td>\n",
       "      <td>0</td>\n",
       "      <td>0</td>\n",
       "      <td>0</td>\n",
       "      <td>1</td>\n",
       "      <td>0</td>\n",
       "      <td>1</td>\n",
       "      <td>0</td>\n",
       "      <td>0</td>\n",
       "      <td>...</td>\n",
       "      <td>0</td>\n",
       "      <td>0</td>\n",
       "      <td>0</td>\n",
       "      <td>0</td>\n",
       "      <td>0</td>\n",
       "      <td>0</td>\n",
       "      <td>0</td>\n",
       "      <td>0</td>\n",
       "      <td>0</td>\n",
       "      <td>0</td>\n",
       "    </tr>\n",
       "    <tr>\n",
       "      <th>2</th>\n",
       "      <td>0</td>\n",
       "      <td>0</td>\n",
       "      <td>1</td>\n",
       "      <td>0</td>\n",
       "      <td>0</td>\n",
       "      <td>1</td>\n",
       "      <td>0</td>\n",
       "      <td>0</td>\n",
       "      <td>0</td>\n",
       "      <td>0</td>\n",
       "      <td>...</td>\n",
       "      <td>0</td>\n",
       "      <td>0</td>\n",
       "      <td>0</td>\n",
       "      <td>0</td>\n",
       "      <td>0</td>\n",
       "      <td>0</td>\n",
       "      <td>0</td>\n",
       "      <td>0</td>\n",
       "      <td>0</td>\n",
       "      <td>0</td>\n",
       "    </tr>\n",
       "    <tr>\n",
       "      <th>3</th>\n",
       "      <td>1</td>\n",
       "      <td>0</td>\n",
       "      <td>0</td>\n",
       "      <td>0</td>\n",
       "      <td>0</td>\n",
       "      <td>1</td>\n",
       "      <td>0</td>\n",
       "      <td>1</td>\n",
       "      <td>0</td>\n",
       "      <td>0</td>\n",
       "      <td>...</td>\n",
       "      <td>0</td>\n",
       "      <td>0</td>\n",
       "      <td>0</td>\n",
       "      <td>0</td>\n",
       "      <td>0</td>\n",
       "      <td>0</td>\n",
       "      <td>0</td>\n",
       "      <td>0</td>\n",
       "      <td>0</td>\n",
       "      <td>0</td>\n",
       "    </tr>\n",
       "    <tr>\n",
       "      <th>4</th>\n",
       "      <td>0</td>\n",
       "      <td>0</td>\n",
       "      <td>1</td>\n",
       "      <td>0</td>\n",
       "      <td>0</td>\n",
       "      <td>1</td>\n",
       "      <td>0</td>\n",
       "      <td>0</td>\n",
       "      <td>0</td>\n",
       "      <td>0</td>\n",
       "      <td>...</td>\n",
       "      <td>0</td>\n",
       "      <td>0</td>\n",
       "      <td>0</td>\n",
       "      <td>0</td>\n",
       "      <td>0</td>\n",
       "      <td>0</td>\n",
       "      <td>0</td>\n",
       "      <td>0</td>\n",
       "      <td>0</td>\n",
       "      <td>0</td>\n",
       "    </tr>\n",
       "  </tbody>\n",
       "</table>\n",
       "<p>5 rows × 1255 columns</p>\n",
       "</div>"
      ],
      "text/plain": [
       "   unit_Apartamento  unit_Casa  unit_Outros  zone_Zona Central  \\\n",
       "0                 0          0            1                  0   \n",
       "1                 1          0            0                  0   \n",
       "2                 0          0            1                  0   \n",
       "3                 1          0            0                  0   \n",
       "4                 0          0            1                  0   \n",
       "\n",
       "   zone_Zona Norte  zone_Zona Oeste  zone_Zona Sul  totalAreas_0  \\\n",
       "0                0                1              0             0   \n",
       "1                0                1              0             1   \n",
       "2                0                1              0             0   \n",
       "3                0                1              0             1   \n",
       "4                0                1              0             0   \n",
       "\n",
       "   totalAreas_0  totalAreas_1  ...  totalAreas_9895  totalAreas_99  \\\n",
       "0             0             0  ...                0              0   \n",
       "1             0             0  ...                0              0   \n",
       "2             0             0  ...                0              0   \n",
       "3             0             0  ...                0              0   \n",
       "4             0             0  ...                0              0   \n",
       "\n",
       "   totalAreas_990  totalAreas_992  totalAreas_993  totalAreas_994  \\\n",
       "0               0               0               0               0   \n",
       "1               0               0               0               0   \n",
       "2               0               0               0               0   \n",
       "3               0               0               0               0   \n",
       "4               0               0               0               0   \n",
       "\n",
       "   totalAreas_995  totalAreas_996  totalAreas_997  totalAreas_999  \n",
       "0               0               0               0               0  \n",
       "1               0               0               0               0  \n",
       "2               0               0               0               0  \n",
       "3               0               0               0               0  \n",
       "4               0               0               0               0  \n",
       "\n",
       "[5 rows x 1255 columns]"
      ]
     },
     "execution_count": 28,
     "metadata": {},
     "output_type": "execute_result"
    }
   ],
   "source": [
    "# lembrando que no ML não tem dados categorico \n",
    "#pois o algoritimo só entende e aprende em binario então para trazer esse \n",
    "#processamento eu vou usar o  função pandas.get_dummies() recebe uma lista,\n",
    "#ou uma string que pode será convertida em lista a partir de um separador, e cria uma coluna para cada dummie (dado categorico) \n",
    "#com um dado númerico que representa aquele dummie em uma data linha\n",
    "\n",
    "\n",
    "df_dummies = pd.get_dummies(df_transformado[variaveis_categoricas])\n",
    "df_dummies.head()"
   ]
  },
  {
   "cell_type": "code",
   "execution_count": 29,
   "id": "dc07535b",
   "metadata": {},
   "outputs": [
    {
     "data": {
      "text/html": [
       "<div>\n",
       "<style scoped>\n",
       "    .dataframe tbody tr th:only-of-type {\n",
       "        vertical-align: middle;\n",
       "    }\n",
       "\n",
       "    .dataframe tbody tr th {\n",
       "        vertical-align: top;\n",
       "    }\n",
       "\n",
       "    .dataframe thead th {\n",
       "        text-align: right;\n",
       "    }\n",
       "</style>\n",
       "<table border=\"1\" class=\"dataframe\">\n",
       "  <thead>\n",
       "    <tr style=\"text-align: right;\">\n",
       "      <th></th>\n",
       "      <th>price</th>\n",
       "      <th>tax_iptu</th>\n",
       "      <th>tax_condo</th>\n",
       "      <th>bedrooms</th>\n",
       "      <th>bathrooms</th>\n",
       "      <th>suites</th>\n",
       "      <th>parkingSpaces</th>\n",
       "      <th>usableAreas</th>\n",
       "      <th>floors</th>\n",
       "      <th>unitsOnTheFloor</th>\n",
       "      <th>...</th>\n",
       "      <th>totalAreas_9895</th>\n",
       "      <th>totalAreas_99</th>\n",
       "      <th>totalAreas_990</th>\n",
       "      <th>totalAreas_992</th>\n",
       "      <th>totalAreas_993</th>\n",
       "      <th>totalAreas_994</th>\n",
       "      <th>totalAreas_995</th>\n",
       "      <th>totalAreas_996</th>\n",
       "      <th>totalAreas_997</th>\n",
       "      <th>totalAreas_999</th>\n",
       "    </tr>\n",
       "  </thead>\n",
       "  <tbody>\n",
       "    <tr>\n",
       "      <th>0</th>\n",
       "      <td>10.714440</td>\n",
       "      <td>0.000000</td>\n",
       "      <td>5.017280</td>\n",
       "      <td>0.000000</td>\n",
       "      <td>0.000000</td>\n",
       "      <td>0.000000</td>\n",
       "      <td>0.693147</td>\n",
       "      <td>4.143135</td>\n",
       "      <td>0.000000</td>\n",
       "      <td>0.000000</td>\n",
       "      <td>...</td>\n",
       "      <td>0</td>\n",
       "      <td>0</td>\n",
       "      <td>0</td>\n",
       "      <td>0</td>\n",
       "      <td>0</td>\n",
       "      <td>0</td>\n",
       "      <td>0</td>\n",
       "      <td>0</td>\n",
       "      <td>0</td>\n",
       "      <td>0</td>\n",
       "    </tr>\n",
       "    <tr>\n",
       "      <th>1</th>\n",
       "      <td>10.714440</td>\n",
       "      <td>0.000000</td>\n",
       "      <td>4.795791</td>\n",
       "      <td>1.098612</td>\n",
       "      <td>0.693147</td>\n",
       "      <td>0.000000</td>\n",
       "      <td>0.693147</td>\n",
       "      <td>3.806662</td>\n",
       "      <td>0.000000</td>\n",
       "      <td>0.000000</td>\n",
       "      <td>...</td>\n",
       "      <td>0</td>\n",
       "      <td>0</td>\n",
       "      <td>0</td>\n",
       "      <td>0</td>\n",
       "      <td>0</td>\n",
       "      <td>0</td>\n",
       "      <td>0</td>\n",
       "      <td>0</td>\n",
       "      <td>0</td>\n",
       "      <td>0</td>\n",
       "    </tr>\n",
       "    <tr>\n",
       "      <th>2</th>\n",
       "      <td>10.819798</td>\n",
       "      <td>0.000000</td>\n",
       "      <td>4.615121</td>\n",
       "      <td>0.000000</td>\n",
       "      <td>0.000000</td>\n",
       "      <td>0.000000</td>\n",
       "      <td>0.000000</td>\n",
       "      <td>4.890349</td>\n",
       "      <td>0.000000</td>\n",
       "      <td>0.000000</td>\n",
       "      <td>...</td>\n",
       "      <td>0</td>\n",
       "      <td>0</td>\n",
       "      <td>0</td>\n",
       "      <td>0</td>\n",
       "      <td>0</td>\n",
       "      <td>0</td>\n",
       "      <td>0</td>\n",
       "      <td>0</td>\n",
       "      <td>0</td>\n",
       "      <td>0</td>\n",
       "    </tr>\n",
       "    <tr>\n",
       "      <th>3</th>\n",
       "      <td>10.819798</td>\n",
       "      <td>4.795791</td>\n",
       "      <td>5.993961</td>\n",
       "      <td>1.386294</td>\n",
       "      <td>1.098612</td>\n",
       "      <td>0.693147</td>\n",
       "      <td>0.693147</td>\n",
       "      <td>4.110874</td>\n",
       "      <td>1.386294</td>\n",
       "      <td>1.609438</td>\n",
       "      <td>...</td>\n",
       "      <td>0</td>\n",
       "      <td>0</td>\n",
       "      <td>0</td>\n",
       "      <td>0</td>\n",
       "      <td>0</td>\n",
       "      <td>0</td>\n",
       "      <td>0</td>\n",
       "      <td>0</td>\n",
       "      <td>0</td>\n",
       "      <td>0</td>\n",
       "    </tr>\n",
       "    <tr>\n",
       "      <th>4</th>\n",
       "      <td>10.819798</td>\n",
       "      <td>0.000000</td>\n",
       "      <td>0.000000</td>\n",
       "      <td>0.000000</td>\n",
       "      <td>0.000000</td>\n",
       "      <td>0.000000</td>\n",
       "      <td>0.000000</td>\n",
       "      <td>5.303305</td>\n",
       "      <td>0.000000</td>\n",
       "      <td>0.000000</td>\n",
       "      <td>...</td>\n",
       "      <td>0</td>\n",
       "      <td>0</td>\n",
       "      <td>0</td>\n",
       "      <td>0</td>\n",
       "      <td>0</td>\n",
       "      <td>0</td>\n",
       "      <td>0</td>\n",
       "      <td>0</td>\n",
       "      <td>0</td>\n",
       "      <td>0</td>\n",
       "    </tr>\n",
       "  </tbody>\n",
       "</table>\n",
       "<p>5 rows × 1266 columns</p>\n",
       "</div>"
      ],
      "text/plain": [
       "       price  tax_iptu  tax_condo  bedrooms  bathrooms    suites  \\\n",
       "0  10.714440  0.000000   5.017280  0.000000   0.000000  0.000000   \n",
       "1  10.714440  0.000000   4.795791  1.098612   0.693147  0.000000   \n",
       "2  10.819798  0.000000   4.615121  0.000000   0.000000  0.000000   \n",
       "3  10.819798  4.795791   5.993961  1.386294   1.098612  0.693147   \n",
       "4  10.819798  0.000000   0.000000  0.000000   0.000000  0.000000   \n",
       "\n",
       "   parkingSpaces  usableAreas    floors  unitsOnTheFloor  ...  \\\n",
       "0       0.693147     4.143135  0.000000         0.000000  ...   \n",
       "1       0.693147     3.806662  0.000000         0.000000  ...   \n",
       "2       0.000000     4.890349  0.000000         0.000000  ...   \n",
       "3       0.693147     4.110874  1.386294         1.609438  ...   \n",
       "4       0.000000     5.303305  0.000000         0.000000  ...   \n",
       "\n",
       "   totalAreas_9895  totalAreas_99  totalAreas_990  totalAreas_992  \\\n",
       "0                0              0               0               0   \n",
       "1                0              0               0               0   \n",
       "2                0              0               0               0   \n",
       "3                0              0               0               0   \n",
       "4                0              0               0               0   \n",
       "\n",
       "   totalAreas_993  totalAreas_994  totalAreas_995  totalAreas_996  \\\n",
       "0               0               0               0               0   \n",
       "1               0               0               0               0   \n",
       "2               0               0               0               0   \n",
       "3               0               0               0               0   \n",
       "4               0               0               0               0   \n",
       "\n",
       "   totalAreas_997  totalAreas_999  \n",
       "0               0               0  \n",
       "1               0               0  \n",
       "2               0               0  \n",
       "3               0               0  \n",
       "4               0               0  \n",
       "\n",
       "[5 rows x 1266 columns]"
      ]
     },
     "execution_count": 29,
     "metadata": {},
     "output_type": "execute_result"
    }
   ],
   "source": [
    "#conateno as variveis categoricas com o dataset que eu \n",
    "#estou trabalhando\n",
    "\n",
    "dados_imoveis_dummies = pd.concat([df_transformado.drop(variaveis_categoricas, axis=1), df_dummies], axis=1) \n",
    "dados_imoveis_dummies.head()"
   ]
  },
  {
   "cell_type": "markdown",
   "id": "be160b88",
   "metadata": {},
   "source": [
    "# Regressão Linear"
   ]
  },
  {
   "cell_type": "markdown",
   "id": "5a107bd2",
   "metadata": {},
   "source": [
    "- Regressão linear é um modelo matemático que consegue, a partir da entrada de fenômenos, prever a causalidade deles.\n",
    "\n",
    "- Regressão Simples: a variável dependente (regressando ou y) se relaciona a uma única variável explanatória (regressor ou X)\n",
    "\n",
    "- Regressão Múltipla: a variável dependente (regressando ou y) se relaciona a mais de uma única variável explanatória (regressor ou Xi)\n",
    "\n",
    "## Ajuste e Previsão\n",
    "no caso desse projeto eu tenho uma regressao multipla que seria meu Y(preços do imovel) se relacionando com um conjunto de X(taxas de condomonios)\n"
   ]
  },
  {
   "cell_type": "code",
   "execution_count": null,
   "id": "24fa0877",
   "metadata": {},
   "outputs": [],
   "source": []
  },
  {
   "cell_type": "markdown",
   "id": "af8ca332",
   "metadata": {},
   "source": [
    "# Divisão de treino e teste"
   ]
  },
  {
   "cell_type": "code",
   "execution_count": 30,
   "id": "dccc8845",
   "metadata": {},
   "outputs": [],
   "source": [
    "#realizo a separação dos dados \n",
    "\n",
    "#variáveis explanatórias (independentes)\n",
    "X = dados_imoveis_dummies.drop('price', axis=1)\n",
    "\n",
    "#variável dependente\n",
    "y = dados_imoveis_dummies['price']"
   ]
  },
  {
   "cell_type": "code",
   "execution_count": 31,
   "id": "164a8979",
   "metadata": {},
   "outputs": [],
   "source": [
    "#divisão em conjunto de treino e teste\n",
    "from sklearn.model_selection import train_test_split\n",
    "\n",
    "#divisão em conjunto de treino e teste\n",
    "#defino os dados de treino e teste, determino o tamanho do tamanho do meu teste que aqui é 0.3\n",
    "# e o random para manter a escabilidade de treino \n",
    "X_treino, X_teste, y_treino, y_teste = train_test_split(X, y, test_size=0.3, random_state=42)"
   ]
  },
  {
   "cell_type": "code",
   "execution_count": null,
   "id": "6d10f3da",
   "metadata": {},
   "outputs": [],
   "source": []
  },
  {
   "cell_type": "markdown",
   "id": "edb4f9a2",
   "metadata": {},
   "source": [
    "# Modelo de ML - Regressão"
   ]
  },
  {
   "cell_type": "code",
   "execution_count": 32,
   "id": "77004b6c",
   "metadata": {},
   "outputs": [],
   "source": [
    "#import a biblioteca do sklearn que faz o processo de regressao linear\n",
    "from sklearn.linear_model import LinearRegression"
   ]
  },
  {
   "cell_type": "code",
   "execution_count": 33,
   "id": "3497f962",
   "metadata": {},
   "outputs": [],
   "source": [
    "#Instanciando o modelo\n",
    "# determinando a instancia o modelo vai saber\n",
    "#qual algoritimo esta sendo usado, o tipo de dados\n",
    "#também como tamanho e treinamento distruibuido\n",
    "\n",
    "lr = LinearRegression()"
   ]
  },
  {
   "cell_type": "code",
   "execution_count": 34,
   "id": "11163589",
   "metadata": {},
   "outputs": [
    {
     "data": {
      "text/html": [
       "<style>#sk-container-id-1 {color: black;background-color: white;}#sk-container-id-1 pre{padding: 0;}#sk-container-id-1 div.sk-toggleable {background-color: white;}#sk-container-id-1 label.sk-toggleable__label {cursor: pointer;display: block;width: 100%;margin-bottom: 0;padding: 0.3em;box-sizing: border-box;text-align: center;}#sk-container-id-1 label.sk-toggleable__label-arrow:before {content: \"▸\";float: left;margin-right: 0.25em;color: #696969;}#sk-container-id-1 label.sk-toggleable__label-arrow:hover:before {color: black;}#sk-container-id-1 div.sk-estimator:hover label.sk-toggleable__label-arrow:before {color: black;}#sk-container-id-1 div.sk-toggleable__content {max-height: 0;max-width: 0;overflow: hidden;text-align: left;background-color: #f0f8ff;}#sk-container-id-1 div.sk-toggleable__content pre {margin: 0.2em;color: black;border-radius: 0.25em;background-color: #f0f8ff;}#sk-container-id-1 input.sk-toggleable__control:checked~div.sk-toggleable__content {max-height: 200px;max-width: 100%;overflow: auto;}#sk-container-id-1 input.sk-toggleable__control:checked~label.sk-toggleable__label-arrow:before {content: \"▾\";}#sk-container-id-1 div.sk-estimator input.sk-toggleable__control:checked~label.sk-toggleable__label {background-color: #d4ebff;}#sk-container-id-1 div.sk-label input.sk-toggleable__control:checked~label.sk-toggleable__label {background-color: #d4ebff;}#sk-container-id-1 input.sk-hidden--visually {border: 0;clip: rect(1px 1px 1px 1px);clip: rect(1px, 1px, 1px, 1px);height: 1px;margin: -1px;overflow: hidden;padding: 0;position: absolute;width: 1px;}#sk-container-id-1 div.sk-estimator {font-family: monospace;background-color: #f0f8ff;border: 1px dotted black;border-radius: 0.25em;box-sizing: border-box;margin-bottom: 0.5em;}#sk-container-id-1 div.sk-estimator:hover {background-color: #d4ebff;}#sk-container-id-1 div.sk-parallel-item::after {content: \"\";width: 100%;border-bottom: 1px solid gray;flex-grow: 1;}#sk-container-id-1 div.sk-label:hover label.sk-toggleable__label {background-color: #d4ebff;}#sk-container-id-1 div.sk-serial::before {content: \"\";position: absolute;border-left: 1px solid gray;box-sizing: border-box;top: 0;bottom: 0;left: 50%;z-index: 0;}#sk-container-id-1 div.sk-serial {display: flex;flex-direction: column;align-items: center;background-color: white;padding-right: 0.2em;padding-left: 0.2em;position: relative;}#sk-container-id-1 div.sk-item {position: relative;z-index: 1;}#sk-container-id-1 div.sk-parallel {display: flex;align-items: stretch;justify-content: center;background-color: white;position: relative;}#sk-container-id-1 div.sk-item::before, #sk-container-id-1 div.sk-parallel-item::before {content: \"\";position: absolute;border-left: 1px solid gray;box-sizing: border-box;top: 0;bottom: 0;left: 50%;z-index: -1;}#sk-container-id-1 div.sk-parallel-item {display: flex;flex-direction: column;z-index: 1;position: relative;background-color: white;}#sk-container-id-1 div.sk-parallel-item:first-child::after {align-self: flex-end;width: 50%;}#sk-container-id-1 div.sk-parallel-item:last-child::after {align-self: flex-start;width: 50%;}#sk-container-id-1 div.sk-parallel-item:only-child::after {width: 0;}#sk-container-id-1 div.sk-dashed-wrapped {border: 1px dashed gray;margin: 0 0.4em 0.5em 0.4em;box-sizing: border-box;padding-bottom: 0.4em;background-color: white;}#sk-container-id-1 div.sk-label label {font-family: monospace;font-weight: bold;display: inline-block;line-height: 1.2em;}#sk-container-id-1 div.sk-label-container {text-align: center;}#sk-container-id-1 div.sk-container {/* jupyter's `normalize.less` sets `[hidden] { display: none; }` but bootstrap.min.css set `[hidden] { display: none !important; }` so we also need the `!important` here to be able to override the default hidden behavior on the sphinx rendered scikit-learn.org. See: https://github.com/scikit-learn/scikit-learn/issues/21755 */display: inline-block !important;position: relative;}#sk-container-id-1 div.sk-text-repr-fallback {display: none;}</style><div id=\"sk-container-id-1\" class=\"sk-top-container\"><div class=\"sk-text-repr-fallback\"><pre>LinearRegression()</pre><b>In a Jupyter environment, please rerun this cell to show the HTML representation or trust the notebook. <br />On GitHub, the HTML representation is unable to render, please try loading this page with nbviewer.org.</b></div><div class=\"sk-container\" hidden><div class=\"sk-item\"><div class=\"sk-estimator sk-toggleable\"><input class=\"sk-toggleable__control sk-hidden--visually\" id=\"sk-estimator-id-1\" type=\"checkbox\" checked><label for=\"sk-estimator-id-1\" class=\"sk-toggleable__label sk-toggleable__label-arrow\">LinearRegression</label><div class=\"sk-toggleable__content\"><pre>LinearRegression()</pre></div></div></div></div></div>"
      ],
      "text/plain": [
       "LinearRegression()"
      ]
     },
     "execution_count": 34,
     "metadata": {},
     "output_type": "execute_result"
    }
   ],
   "source": [
    "#treino meu modelo \n",
    "lr.fit(X_treino, y_treino)"
   ]
  },
  {
   "cell_type": "code",
   "execution_count": 35,
   "id": "86950509",
   "metadata": {},
   "outputs": [],
   "source": [
    "#testo meu modelo\n",
    "previsao_lr = lr.predict(X_teste)"
   ]
  },
  {
   "cell_type": "code",
   "execution_count": 36,
   "id": "11b4a4bd",
   "metadata": {},
   "outputs": [
    {
     "data": {
      "text/plain": [
       "array([13.31378174, 12.58917236, 12.89572144, ..., 13.11746216,\n",
       "       12.32873535, 14.52310181])"
      ]
     },
     "execution_count": 36,
     "metadata": {},
     "output_type": "execute_result"
    }
   ],
   "source": [
    "#resultados da previsão\n",
    "previsao_lr"
   ]
  },
  {
   "cell_type": "code",
   "execution_count": 37,
   "id": "6be7ac07",
   "metadata": {},
   "outputs": [
    {
     "data": {
      "text/plain": [
       "572448.7513552749"
      ]
     },
     "execution_count": 37,
     "metadata": {},
     "output_type": "execute_result"
    }
   ],
   "source": [
    "#transformação inversa \n",
    "np.expm1(13.25768024)"
   ]
  },
  {
   "cell_type": "markdown",
   "id": "bc2c03bf",
   "metadata": {},
   "source": [
    "# Métrica de desempenho"
   ]
  },
  {
   "cell_type": "markdown",
   "id": "c63f1976",
   "metadata": {},
   "source": [
    "- Coeficiente de Determinação\n",
    "- descobrir quão “bem” uma linha de regressão amostral é adequada aos dados\n",
    "-r2 situa-se entre 0 e 1\n",
    "- r2 mede a proporção ou percentual da variação total de Y explicada pelo modelo de regressão.\""
   ]
  },
  {
   "cell_type": "code",
   "execution_count": 38,
   "id": "d743d3c9",
   "metadata": {},
   "outputs": [
    {
     "data": {
      "text/plain": [
       "-2.1749643228830445e+17"
      ]
     },
     "execution_count": 38,
     "metadata": {},
     "output_type": "execute_result"
    }
   ],
   "source": [
    "#importo a biblioteca do Sklearn \n",
    "from sklearn.metrics import r2_score\n",
    "\n",
    "#coloco as informação numa variaveis e trago \n",
    "#os dados de teste que eu trabalhei acima, os dados de previsao\n",
    "\n",
    "r2_lr = r2_score(y_teste, previsao_lr)\n",
    "r2_lr"
   ]
  },
  {
   "cell_type": "markdown",
   "id": "c43bfcee",
   "metadata": {},
   "source": [
    "# Árvore de Decisão para Regressão\n",
    "\n",
    "#### É um mapa dos possíveis resultados de uma série de escolhas relacionadas. \n",
    "#### Permite que um indivíduo ou organização compare possíveis ações com base em seus custos, probabilidades e benefícios"
   ]
  },
  {
   "cell_type": "code",
   "execution_count": 39,
   "id": "8cbfadb9",
   "metadata": {},
   "outputs": [],
   "source": [
    "from sklearn.tree import DecisionTreeRegressor"
   ]
  },
  {
   "cell_type": "code",
   "execution_count": 40,
   "id": "bce30d0a",
   "metadata": {},
   "outputs": [],
   "source": [
    "#Instanciando o modelo\n",
    "# além de criar o modelo eu tenho dois pontos importantes aqui \n",
    "# um randon_stante que torna meu modelo escalavel \n",
    "# max_depth eu delimito o quanto eu quero que minha arvore cresça\n",
    "#pois o modelo tem a se aprofundar muito \n",
    "dtr = DecisionTreeRegressor(random_state=42, max_depth=5)"
   ]
  },
  {
   "cell_type": "code",
   "execution_count": 41,
   "id": "ce6338ed",
   "metadata": {},
   "outputs": [
    {
     "data": {
      "text/html": [
       "<style>#sk-container-id-2 {color: black;background-color: white;}#sk-container-id-2 pre{padding: 0;}#sk-container-id-2 div.sk-toggleable {background-color: white;}#sk-container-id-2 label.sk-toggleable__label {cursor: pointer;display: block;width: 100%;margin-bottom: 0;padding: 0.3em;box-sizing: border-box;text-align: center;}#sk-container-id-2 label.sk-toggleable__label-arrow:before {content: \"▸\";float: left;margin-right: 0.25em;color: #696969;}#sk-container-id-2 label.sk-toggleable__label-arrow:hover:before {color: black;}#sk-container-id-2 div.sk-estimator:hover label.sk-toggleable__label-arrow:before {color: black;}#sk-container-id-2 div.sk-toggleable__content {max-height: 0;max-width: 0;overflow: hidden;text-align: left;background-color: #f0f8ff;}#sk-container-id-2 div.sk-toggleable__content pre {margin: 0.2em;color: black;border-radius: 0.25em;background-color: #f0f8ff;}#sk-container-id-2 input.sk-toggleable__control:checked~div.sk-toggleable__content {max-height: 200px;max-width: 100%;overflow: auto;}#sk-container-id-2 input.sk-toggleable__control:checked~label.sk-toggleable__label-arrow:before {content: \"▾\";}#sk-container-id-2 div.sk-estimator input.sk-toggleable__control:checked~label.sk-toggleable__label {background-color: #d4ebff;}#sk-container-id-2 div.sk-label input.sk-toggleable__control:checked~label.sk-toggleable__label {background-color: #d4ebff;}#sk-container-id-2 input.sk-hidden--visually {border: 0;clip: rect(1px 1px 1px 1px);clip: rect(1px, 1px, 1px, 1px);height: 1px;margin: -1px;overflow: hidden;padding: 0;position: absolute;width: 1px;}#sk-container-id-2 div.sk-estimator {font-family: monospace;background-color: #f0f8ff;border: 1px dotted black;border-radius: 0.25em;box-sizing: border-box;margin-bottom: 0.5em;}#sk-container-id-2 div.sk-estimator:hover {background-color: #d4ebff;}#sk-container-id-2 div.sk-parallel-item::after {content: \"\";width: 100%;border-bottom: 1px solid gray;flex-grow: 1;}#sk-container-id-2 div.sk-label:hover label.sk-toggleable__label {background-color: #d4ebff;}#sk-container-id-2 div.sk-serial::before {content: \"\";position: absolute;border-left: 1px solid gray;box-sizing: border-box;top: 0;bottom: 0;left: 50%;z-index: 0;}#sk-container-id-2 div.sk-serial {display: flex;flex-direction: column;align-items: center;background-color: white;padding-right: 0.2em;padding-left: 0.2em;position: relative;}#sk-container-id-2 div.sk-item {position: relative;z-index: 1;}#sk-container-id-2 div.sk-parallel {display: flex;align-items: stretch;justify-content: center;background-color: white;position: relative;}#sk-container-id-2 div.sk-item::before, #sk-container-id-2 div.sk-parallel-item::before {content: \"\";position: absolute;border-left: 1px solid gray;box-sizing: border-box;top: 0;bottom: 0;left: 50%;z-index: -1;}#sk-container-id-2 div.sk-parallel-item {display: flex;flex-direction: column;z-index: 1;position: relative;background-color: white;}#sk-container-id-2 div.sk-parallel-item:first-child::after {align-self: flex-end;width: 50%;}#sk-container-id-2 div.sk-parallel-item:last-child::after {align-self: flex-start;width: 50%;}#sk-container-id-2 div.sk-parallel-item:only-child::after {width: 0;}#sk-container-id-2 div.sk-dashed-wrapped {border: 1px dashed gray;margin: 0 0.4em 0.5em 0.4em;box-sizing: border-box;padding-bottom: 0.4em;background-color: white;}#sk-container-id-2 div.sk-label label {font-family: monospace;font-weight: bold;display: inline-block;line-height: 1.2em;}#sk-container-id-2 div.sk-label-container {text-align: center;}#sk-container-id-2 div.sk-container {/* jupyter's `normalize.less` sets `[hidden] { display: none; }` but bootstrap.min.css set `[hidden] { display: none !important; }` so we also need the `!important` here to be able to override the default hidden behavior on the sphinx rendered scikit-learn.org. See: https://github.com/scikit-learn/scikit-learn/issues/21755 */display: inline-block !important;position: relative;}#sk-container-id-2 div.sk-text-repr-fallback {display: none;}</style><div id=\"sk-container-id-2\" class=\"sk-top-container\"><div class=\"sk-text-repr-fallback\"><pre>DecisionTreeRegressor(max_depth=5, random_state=42)</pre><b>In a Jupyter environment, please rerun this cell to show the HTML representation or trust the notebook. <br />On GitHub, the HTML representation is unable to render, please try loading this page with nbviewer.org.</b></div><div class=\"sk-container\" hidden><div class=\"sk-item\"><div class=\"sk-estimator sk-toggleable\"><input class=\"sk-toggleable__control sk-hidden--visually\" id=\"sk-estimator-id-2\" type=\"checkbox\" checked><label for=\"sk-estimator-id-2\" class=\"sk-toggleable__label sk-toggleable__label-arrow\">DecisionTreeRegressor</label><div class=\"sk-toggleable__content\"><pre>DecisionTreeRegressor(max_depth=5, random_state=42)</pre></div></div></div></div></div>"
      ],
      "text/plain": [
       "DecisionTreeRegressor(max_depth=5, random_state=42)"
      ]
     },
     "execution_count": 41,
     "metadata": {},
     "output_type": "execute_result"
    }
   ],
   "source": [
    "#Treino\n",
    "dtr.fit(X_treino, y_treino)"
   ]
  },
  {
   "cell_type": "code",
   "execution_count": 42,
   "id": "e6266d03",
   "metadata": {},
   "outputs": [],
   "source": [
    "#Teste\n",
    "previsao_dtr = dtr.predict(X_teste)"
   ]
  },
  {
   "cell_type": "code",
   "execution_count": 43,
   "id": "4d099ec1",
   "metadata": {},
   "outputs": [
    {
     "data": {
      "text/plain": [
       "array([13.55136531, 12.33741035, 13.24458243, ..., 13.23643158,\n",
       "       12.33741035, 14.55274625])"
      ]
     },
     "execution_count": 43,
     "metadata": {},
     "output_type": "execute_result"
    }
   ],
   "source": [
    "#Resultados da previsão\n",
    "previsao_dtr"
   ]
  },
  {
   "cell_type": "markdown",
   "id": "93cfb6e7",
   "metadata": {},
   "source": [
    "#### Para visualiza o qual bom foi meu modelo vou usar a biblioteca de visualização YellowBrick \n",
    "#### Gráfico de erro de predição: Um gráfico de erros de predição mostra os alvos reais em relação aos valores previstos\n",
    "#### esse grafico me ajuda a observa e os dados estão alinhados, quanto mais alinhado mais perfeito o modelo é"
   ]
  },
  {
   "cell_type": "code",
   "execution_count": 45,
   "id": "f158d868",
   "metadata": {},
   "outputs": [
    {
     "name": "stderr",
     "output_type": "stream",
     "text": [
      "C:\\Users\\patricia.sousa\\Anaconda4\\lib\\site-packages\\sklearn\\base.py:409: UserWarning: X does not have valid feature names, but DecisionTreeRegressor was fitted with feature names\n",
      "  warnings.warn(\n"
     ]
    },
    {
     "data": {
      "image/png": "[encoded data removed]",
      "text/plain": [
       "<Figure size 720x720 with 1 Axes>"
      ]
     },
     "metadata": {},
     "output_type": "display_data"
    },
    {
     "data": {
      "text/plain": [
       "<AxesSubplot:title={'center':'Prediction Error for DecisionTreeRegressor'}, xlabel='$y$', ylabel='$\\\\hat{y}$'>"
      ]
     },
     "execution_count": 45,
     "metadata": {},
     "output_type": "execute_result"
    }
   ],
   "source": [
    "#trago os dados de treino e teste \n",
    "# o modelo deve um grau de acerto muito bom de 78%\n",
    "#outro ponto importante é o grau a linearidade dos dados \n",
    "# que estão bem alinhados \n",
    "\n",
    "from yellowbrick.regressor import PredictionError\n",
    "\n",
    "fig, ax = plt.subplots(figsize=(10, 10))\n",
    "pev = PredictionError(dtr)\n",
    "pev.fit(X_treino, y_treino)\n",
    "pev.score(X_teste, y_teste)\n",
    "pev.poof()"
   ]
  },
  {
   "cell_type": "markdown",
   "id": "762d1dc1",
   "metadata": {},
   "source": [
    "# Métrica de desempenho"
   ]
  },
  {
   "cell_type": "code",
   "execution_count": 46,
   "id": "8ccf0f3e",
   "metadata": {},
   "outputs": [
    {
     "data": {
      "text/plain": [
       "0.7846916218477399"
      ]
     },
     "execution_count": 46,
     "metadata": {},
     "output_type": "execute_result"
    }
   ],
   "source": [
    "#coeficiente de determinacao \n",
    "r2_dtr = r2_score(y_teste, previsao_dtr)\n",
    "r2_dtr"
   ]
  },
  {
   "cell_type": "markdown",
   "id": "c9460307",
   "metadata": {},
   "source": [
    "# Random Forest para Regressão\n",
    "\n",
    "#### Irá criar muitas arvore de decisão, de maneira aleatória, formando o que podemos enxergar como uma floresta\n",
    "#### onde cada árvore será utilizada na escolha do resultado final, em uma espécie de votação"
   ]
  },
  {
   "cell_type": "code",
   "execution_count": 47,
   "id": "bae50d5b",
   "metadata": {},
   "outputs": [],
   "source": [
    "from sklearn.ensemble import RandomForestRegressor"
   ]
  },
  {
   "cell_type": "code",
   "execution_count": null,
   "id": "e2124535",
   "metadata": {},
   "outputs": [],
   "source": []
  },
  {
   "cell_type": "code",
   "execution_count": 48,
   "id": "13f8d1bb",
   "metadata": {},
   "outputs": [],
   "source": [
    "#Instanciando o modelo\n",
    "# além de criar o modelo eu tenho dois pontos importantes aqui \n",
    "# um randon_stante que torna meu modelo escalavel \n",
    "# max_depth e n_estimators eu delimito o quanto eu quero que minha floresta cresça\n",
    "#pois o modelo tem a se aprofundar muito \n",
    "\n",
    "rf = RandomForestRegressor(random_state=42, max_depth=5, n_estimators=10)"
   ]
  },
  {
   "cell_type": "code",
   "execution_count": 52,
   "id": "87f40f3c",
   "metadata": {
    "collapsed": true
   },
   "outputs": [
    {
     "data": {
      "text/html": [
       "<style>#sk-container-id-4 {color: black;background-color: white;}#sk-container-id-4 pre{padding: 0;}#sk-container-id-4 div.sk-toggleable {background-color: white;}#sk-container-id-4 label.sk-toggleable__label {cursor: pointer;display: block;width: 100%;margin-bottom: 0;padding: 0.3em;box-sizing: border-box;text-align: center;}#sk-container-id-4 label.sk-toggleable__label-arrow:before {content: \"▸\";float: left;margin-right: 0.25em;color: #696969;}#sk-container-id-4 label.sk-toggleable__label-arrow:hover:before {color: black;}#sk-container-id-4 div.sk-estimator:hover label.sk-toggleable__label-arrow:before {color: black;}#sk-container-id-4 div.sk-toggleable__content {max-height: 0;max-width: 0;overflow: hidden;text-align: left;background-color: #f0f8ff;}#sk-container-id-4 div.sk-toggleable__content pre {margin: 0.2em;color: black;border-radius: 0.25em;background-color: #f0f8ff;}#sk-container-id-4 input.sk-toggleable__control:checked~div.sk-toggleable__content {max-height: 200px;max-width: 100%;overflow: auto;}#sk-container-id-4 input.sk-toggleable__control:checked~label.sk-toggleable__label-arrow:before {content: \"▾\";}#sk-container-id-4 div.sk-estimator input.sk-toggleable__control:checked~label.sk-toggleable__label {background-color: #d4ebff;}#sk-container-id-4 div.sk-label input.sk-toggleable__control:checked~label.sk-toggleable__label {background-color: #d4ebff;}#sk-container-id-4 input.sk-hidden--visually {border: 0;clip: rect(1px 1px 1px 1px);clip: rect(1px, 1px, 1px, 1px);height: 1px;margin: -1px;overflow: hidden;padding: 0;position: absolute;width: 1px;}#sk-container-id-4 div.sk-estimator {font-family: monospace;background-color: #f0f8ff;border: 1px dotted black;border-radius: 0.25em;box-sizing: border-box;margin-bottom: 0.5em;}#sk-container-id-4 div.sk-estimator:hover {background-color: #d4ebff;}#sk-container-id-4 div.sk-parallel-item::after {content: \"\";width: 100%;border-bottom: 1px solid gray;flex-grow: 1;}#sk-container-id-4 div.sk-label:hover label.sk-toggleable__label {background-color: #d4ebff;}#sk-container-id-4 div.sk-serial::before {content: \"\";position: absolute;border-left: 1px solid gray;box-sizing: border-box;top: 0;bottom: 0;left: 50%;z-index: 0;}#sk-container-id-4 div.sk-serial {display: flex;flex-direction: column;align-items: center;background-color: white;padding-right: 0.2em;padding-left: 0.2em;position: relative;}#sk-container-id-4 div.sk-item {position: relative;z-index: 1;}#sk-container-id-4 div.sk-parallel {display: flex;align-items: stretch;justify-content: center;background-color: white;position: relative;}#sk-container-id-4 div.sk-item::before, #sk-container-id-4 div.sk-parallel-item::before {content: \"\";position: absolute;border-left: 1px solid gray;box-sizing: border-box;top: 0;bottom: 0;left: 50%;z-index: -1;}#sk-container-id-4 div.sk-parallel-item {display: flex;flex-direction: column;z-index: 1;position: relative;background-color: white;}#sk-container-id-4 div.sk-parallel-item:first-child::after {align-self: flex-end;width: 50%;}#sk-container-id-4 div.sk-parallel-item:last-child::after {align-self: flex-start;width: 50%;}#sk-container-id-4 div.sk-parallel-item:only-child::after {width: 0;}#sk-container-id-4 div.sk-dashed-wrapped {border: 1px dashed gray;margin: 0 0.4em 0.5em 0.4em;box-sizing: border-box;padding-bottom: 0.4em;background-color: white;}#sk-container-id-4 div.sk-label label {font-family: monospace;font-weight: bold;display: inline-block;line-height: 1.2em;}#sk-container-id-4 div.sk-label-container {text-align: center;}#sk-container-id-4 div.sk-container {/* jupyter's `normalize.less` sets `[hidden] { display: none; }` but bootstrap.min.css set `[hidden] { display: none !important; }` so we also need the `!important` here to be able to override the default hidden behavior on the sphinx rendered scikit-learn.org. See: https://github.com/scikit-learn/scikit-learn/issues/21755 */display: inline-block !important;position: relative;}#sk-container-id-4 div.sk-text-repr-fallback {display: none;}</style><div id=\"sk-container-id-4\" class=\"sk-top-container\"><div class=\"sk-text-repr-fallback\"><pre>RandomForestRegressor(max_depth=5, n_estimators=10, random_state=42)</pre><b>In a Jupyter environment, please rerun this cell to show the HTML representation or trust the notebook. <br />On GitHub, the HTML representation is unable to render, please try loading this page with nbviewer.org.</b></div><div class=\"sk-container\" hidden><div class=\"sk-item\"><div class=\"sk-estimator sk-toggleable\"><input class=\"sk-toggleable__control sk-hidden--visually\" id=\"sk-estimator-id-4\" type=\"checkbox\" checked><label for=\"sk-estimator-id-4\" class=\"sk-toggleable__label sk-toggleable__label-arrow\">RandomForestRegressor</label><div class=\"sk-toggleable__content\"><pre>RandomForestRegressor(max_depth=5, n_estimators=10, random_state=42)</pre></div></div></div></div></div>"
      ],
      "text/plain": [
       "RandomForestRegressor(max_depth=5, n_estimators=10, random_state=42)"
      ]
     },
     "execution_count": 52,
     "metadata": {},
     "output_type": "execute_result"
    }
   ],
   "source": [
    "#Treino\n",
    "rf.fit(X_treino, y_treino)"
   ]
  },
  {
   "cell_type": "code",
   "execution_count": 53,
   "id": "16992d03",
   "metadata": {},
   "outputs": [],
   "source": [
    "#Teste\n",
    "previsao_rf = rf.predict(X_teste)"
   ]
  },
  {
   "cell_type": "markdown",
   "id": "5b059c2c",
   "metadata": {},
   "source": [
    "## Gráfico de erro de predição"
   ]
  },
  {
   "cell_type": "code",
   "execution_count": 51,
   "id": "dbce7237",
   "metadata": {},
   "outputs": [
    {
     "name": "stderr",
     "output_type": "stream",
     "text": [
      "C:\\Users\\patricia.sousa\\Anaconda4\\lib\\site-packages\\sklearn\\base.py:409: UserWarning: X does not have valid feature names, but RandomForestRegressor was fitted with feature names\n",
      "  warnings.warn(\n"
     ]
    },
    {
     "data": {
      "image/png": "[encoded data removed]",
      "text/plain": [
       "<Figure size 720x720 with 1 Axes>"
      ]
     },
     "metadata": {},
     "output_type": "display_data"
    },
    {
     "data": {
      "text/plain": [
       "<AxesSubplot:title={'center':'Prediction Error for RandomForestRegressor'}, xlabel='$y$', ylabel='$\\\\hat{y}$'>"
      ]
     },
     "execution_count": 51,
     "metadata": {},
     "output_type": "execute_result"
    }
   ],
   "source": [
    "#trago os dados de treino e teste \n",
    "# o modelo deve um grau de acerto muito bom de 0.80\n",
    "#outro ponto importante é o grau a linearidade dos dados \n",
    "# que estão bem alinhados\n",
    "\n",
    "\n",
    "from yellowbrick.regressor import PredictionError\n",
    "\n",
    "fig, ax = plt.subplots(figsize=(10, 10))\n",
    "pev = PredictionError(rf)\n",
    "pev.fit(X_treino, y_treino)\n",
    "pev.score(X_teste, y_teste)\n",
    "pev.poof()"
   ]
  },
  {
   "cell_type": "markdown",
   "id": "ad1fc2b2",
   "metadata": {},
   "source": [
    "# Métrica de desempenho"
   ]
  },
  {
   "cell_type": "code",
   "execution_count": 54,
   "id": "341e339a",
   "metadata": {},
   "outputs": [
    {
     "data": {
      "text/plain": [
       "0.8051936119045887"
      ]
     },
     "execution_count": 54,
     "metadata": {},
     "output_type": "execute_result"
    }
   ],
   "source": [
    "#coeficiente de determinacao\n",
    "r2_rf = r2_score(y_teste, previsao_rf)\n",
    "r2_rf"
   ]
  },
  {
   "cell_type": "markdown",
   "id": "03c4df20",
   "metadata": {},
   "source": [
    "# Técnicas de Otimização\n",
    "_____________________________________________\n",
    "\n",
    "#### Cross Validation (Validação Cruzada)\n",
    "É uma técnica muito utilizada para avaliação de desempenho de modelos e consequente verificação de tendências no aprendizado de máquina.\n",
    "#### Randomized Parameter Optimization (Otimização Aleatória de Parâmetros)\n",
    "Define um espaço de busca como um domínio limitado de valores de hiperparâmetros e pontos de amostra aleatórios nesse domínio."
   ]
  },
  {
   "cell_type": "code",
   "execution_count": null,
   "id": "4bcc2d9a",
   "metadata": {},
   "outputs": [],
   "source": []
  },
  {
   "cell_type": "markdown",
   "id": "8d33dc22",
   "metadata": {},
   "source": [
    "## Otimizando a árvore de decisão"
   ]
  },
  {
   "cell_type": "code",
   "execution_count": null,
   "id": "07f07d21",
   "metadata": {},
   "outputs": [],
   "source": []
  },
  {
   "cell_type": "code",
   "execution_count": 63,
   "id": "502389d5",
   "metadata": {},
   "outputs": [],
   "source": [
    "#divisão do dataset em 3 pedaços\n",
    "from sklearn.model_selection import KFold\n",
    "\n",
    "#definindo splits que será o número de decisoes \n",
    "# e shufle true para fazer aleatorio\n",
    "cv = KFold(n_splits = 5, shuffle=True)"
   ]
  },
  {
   "cell_type": "markdown",
   "id": "ebafb72a",
   "metadata": {},
   "source": [
    "## Cross validation"
   ]
  },
  {
   "cell_type": "code",
   "execution_count": 64,
   "id": "33ea5253",
   "metadata": {},
   "outputs": [],
   "source": [
    "from sklearn.model_selection import cross_val_score "
   ]
  },
  {
   "cell_type": "code",
   "execution_count": 65,
   "id": "c26785cf",
   "metadata": {},
   "outputs": [
    {
     "name": "stdout",
     "output_type": "stream",
     "text": [
      "Desempenho médio de r2: 0.782\n"
     ]
    }
   ],
   "source": [
    "# passo alguns parametros como estimartor = dtr variavel onde esta a arvore\n",
    "# os dados de treino e teste \n",
    "#scoring r2 que é o coefiente de decisao da minha arvore\n",
    "# e cv que é o kfold que eu determinei acima\n",
    "\n",
    "desempenho_cross_val_r2 = cross_val_score(estimator = dtr,\n",
    "                                       X = X_treino, \n",
    "                                       y = y_treino,\n",
    "                                       scoring = 'r2',\n",
    "                                       cv = cv)\n",
    "print('Desempenho médio de r2: {}'.format(round(desempenho_cross_val_r2.mean(), 3)))"
   ]
  },
  {
   "cell_type": "markdown",
   "id": "ac850b4b",
   "metadata": {},
   "source": [
    "## Random Search Validação\n",
    "Validar as otimização que eu quero dentro da minha arvore de decisao"
   ]
  },
  {
   "cell_type": "code",
   "execution_count": 66,
   "id": "e6f27e47",
   "metadata": {},
   "outputs": [],
   "source": [
    "#seleção de hiperparâmetros da arvore decisao \n",
    "#max e min de profundidada, max e min de nós ects\n",
    "# onde eu quero que eu faça uma busca aleatoria\n",
    "# para trazer a melhor combinacao\n",
    "\n",
    "param_random_dt = {\n",
    "    'criterion': ['squared_error', 'absolute_error'],\n",
    "    'max_depth': [6, 8, 10, 12, 14, 16],\n",
    "    'min_samples_leaf': [6, 8, 10],\n",
    "    'min_samples_split': [8, 10, 12, 14, 16],\n",
    "    'max_features': ['sqrt', 'log2', 'auto'],\n",
    "}"
   ]
  },
  {
   "cell_type": "code",
   "execution_count": 67,
   "id": "b12a2315",
   "metadata": {},
   "outputs": [],
   "source": [
    "from sklearn.model_selection import RandomizedSearchCV"
   ]
  },
  {
   "cell_type": "code",
   "execution_count": null,
   "id": "cd38de5a",
   "metadata": {},
   "outputs": [],
   "source": [
    "#defino os parametros para rodar meu modelo\n",
    "#dtr a minha variavel arvore de decisao\n",
    "\n",
    "random_cv_dt = RandomizedSearchCV(\n",
    "    dtr, \n",
    "    param_random_dt, \n",
    "    n_iter=5, \n",
    "    cv=cv, \n",
    "    scoring='r2',\n",
    "    n_jobs=-1\n",
    ")"
   ]
  },
  {
   "cell_type": "code",
   "execution_count": null,
   "id": "2fbdae78",
   "metadata": {},
   "outputs": [],
   "source": [
    "# abri uma variavel para armazena meu modelo \n",
    "randomcv_dtr = random_cv_dt.fit(X_treino, y_treino)"
   ]
  },
  {
   "cell_type": "code",
   "execution_count": null,
   "id": "e4ff5400",
   "metadata": {},
   "outputs": [],
   "source": [
    "# incluo dentro de um dataframe para ver os melhores resultados\n",
    "pd.DataFrame(randomcv_dtr.cv_results_)"
   ]
  },
  {
   "cell_type": "code",
   "execution_count": null,
   "id": "45668844",
   "metadata": {},
   "outputs": [],
   "source": [
    "#a melhor combinação do meu conjunto\n",
    "randomcv_dtr.best_params_"
   ]
  },
  {
   "cell_type": "code",
   "execution_count": null,
   "id": "b563a073",
   "metadata": {},
   "outputs": [],
   "source": [
    "#o melhor score da minha combinacao\n",
    "randomcv_dtr.best_score_"
   ]
  },
  {
   "cell_type": "markdown",
   "id": "53230f98",
   "metadata": {},
   "source": [
    "## Random Search Teste\n",
    "Após os hiperparametros definidos eu vou testar ele de fato na minha arvore de decisao\n",
    "para regressao"
   ]
  },
  {
   "cell_type": "code",
   "execution_count": null,
   "id": "13bd3d59",
   "metadata": {},
   "outputs": [],
   "source": [
    "#defino os parametros para rodar meu modelo\n",
    "#dtr a minha variavel arvore de decisao\n",
    "\n",
    "rf_otimizado2 = RandomForestRegressor(random_state=42, max_depth=30, n_estimators=200,\n",
    "                                      min_samples_leaf=3, min_samples_split=8)"
   ]
  },
  {
   "cell_type": "code",
   "execution_count": null,
   "id": "5913650c",
   "metadata": {},
   "outputs": [],
   "source": [
    "# abri uma variavel para armazena meu modelo \n",
    "rf_otimizado2.fit(X_treino, y_treino)"
   ]
  },
  {
   "cell_type": "code",
   "execution_count": null,
   "id": "4a141e38",
   "metadata": {},
   "outputs": [],
   "source": [
    "# incluo dentro de um dataframe para ver os melhores resultados\n",
    "predicao_rf_otimizado2 = rf_otimizado2.predict(X_teste)"
   ]
  },
  {
   "cell_type": "code",
   "execution_count": null,
   "id": "cb1b2b85",
   "metadata": {},
   "outputs": [],
   "source": [
    "#a melhor combinação do meu conjunto\n",
    "r2_score(y_teste, predicao_rf_otimizado2)"
   ]
  },
  {
   "cell_type": "markdown",
   "id": "4ab69021",
   "metadata": {},
   "source": [
    "# Escolhendo o melhor modelo"
   ]
  },
  {
   "cell_type": "code",
   "execution_count": null,
   "id": "6afefe76",
   "metadata": {},
   "outputs": [],
   "source": [
    "#tabela de resultados\n",
    "print('Random Search')\n",
    "print(\"=\"*30)\n",
    "print(\"Árvore de Decisão: %f\" % r2_score(y_teste, predicao_dtr_otimizado))\n",
    "print(\"Floresta Aleatória: %f\" % r2_score(y_teste, predicao_rf_otimizado2))\n",
    "print(\"*\"*30)\n",
    "\n",
    "print(\"Cross Validation\")\n",
    "print(\"=\"*30)\n",
    "print(\"Árvore de Decisão: %f\" % round(desempenho_cross_val_r2.mean(), 3))\n",
    "print(\"Floresta Aleatória: %f\" % round(desempenhoRF_cross_val_r2.mean(), 3))"
   ]
  },
  {
   "cell_type": "code",
   "execution_count": null,
   "id": "f7d51385",
   "metadata": {},
   "outputs": [],
   "source": [
    "#Testando o melhor modelo\n",
    "cliente_joana = pd.DataFrame({'tax_iptu':[4.6], 'tax_condo':[5.45], 'bedrooms':[2],\t'bathrooms':[1], 'suites':[1], 'parkingSpaces':[1],\t'usableAreas':[4],\t'totalAreas':[4.68],\t'floors':[0],\t'unitsOnTheFloor':[0],\t'unitFloor':[0],\t'unit_Apartamento':[0],\t'unit_Casa':[1],\t'unit_Outros':[0],\t'zone_Zona Central':[0],\t'zone_Zona Norte':[0],\t'zone_Zona Oeste':[1],\t'zone_Zona Sul':[0]})\n",
    "cliente_joana"
   ]
  },
  {
   "cell_type": "code",
   "execution_count": null,
   "id": "824f3923",
   "metadata": {},
   "outputs": [],
   "source": [
    "#Verificando resultados\n",
    "predicao_cliente_joana = rf_otimizado2.predict(cliente_joana)\n",
    "np.expm1(predicao_cliente_joana)"
   ]
  }
 ],
 "metadata": {
  "kernelspec": {
   "display_name": "Python 3 (ipykernel)",
   "language": "python",
   "name": "python3"
  },
  "language_info": {
   "codemirror_mode": {
    "name": "ipython",
    "version": 3
   },
   "file_extension": ".py",
   "mimetype": "text/x-python",
   "name": "python",
   "nbconvert_exporter": "python",
   "pygments_lexer": "ipython3",
   "version": "3.9.12"
  }
 },
 "nbformat": 4,
 "nbformat_minor": 5
}
