{
 "cells": [
  {
   "cell_type": "markdown",
   "id": "97b0e0c9",
   "metadata": {},
   "source": [
    "### Bibliotecas"
   ]
  },
  {
   "cell_type": "code",
   "execution_count": 3,
   "id": "8505e1c2",
   "metadata": {},
   "outputs": [],
   "source": [
    "import pandas as pd\n",
    "import numpy as np"
   ]
  },
  {
   "cell_type": "markdown",
   "id": "11ec0792",
   "metadata": {},
   "source": [
    "Dados foram extraidos via api, formato json \n",
    "\n",
    "http://jsonviewer.stack.hu/ - link para leitura do Json "
   ]
  },
  {
   "cell_type": "markdown",
   "id": "1386bbdb",
   "metadata": {},
   "source": [
    "### Carregamento de dados"
   ]
  },
  {
   "cell_type": "code",
   "execution_count": 5,
   "id": "62a2bc74",
   "metadata": {},
   "outputs": [
    {
     "data": {
      "text/html": [
       "<div>\n",
       "<style scoped>\n",
       "    .dataframe tbody tr th:only-of-type {\n",
       "        vertical-align: middle;\n",
       "    }\n",
       "\n",
       "    .dataframe tbody tr th {\n",
       "        vertical-align: top;\n",
       "    }\n",
       "\n",
       "    .dataframe thead th {\n",
       "        text-align: right;\n",
       "    }\n",
       "</style>\n",
       "<table border=\"1\" class=\"dataframe\">\n",
       "  <thead>\n",
       "    <tr style=\"text-align: right;\">\n",
       "      <th></th>\n",
       "      <th>ident</th>\n",
       "      <th>listing</th>\n",
       "    </tr>\n",
       "  </thead>\n",
       "  <tbody>\n",
       "    <tr>\n",
       "      <th>0</th>\n",
       "      <td>{'customerID': '775564-BOJSMVON', 'source': 'W...</td>\n",
       "      <td>{'types': {'unit': 'Outros', 'usage': 'Residen...</td>\n",
       "    </tr>\n",
       "    <tr>\n",
       "      <th>1</th>\n",
       "      <td>{'customerID': '660895-AUENKNYY', 'source': 'W...</td>\n",
       "      <td>{'types': {'unit': 'Apartamento', 'usage': 'Re...</td>\n",
       "    </tr>\n",
       "    <tr>\n",
       "      <th>2</th>\n",
       "      <td>{'customerID': '751522-JESYFEQL', 'source': 'W...</td>\n",
       "      <td>{'types': {'unit': 'Outros', 'usage': 'Residen...</td>\n",
       "    </tr>\n",
       "    <tr>\n",
       "      <th>3</th>\n",
       "      <td>{'customerID': '714052-GAAEWYKS', 'source': 'W...</td>\n",
       "      <td>{'types': {'unit': 'Outros', 'usage': 'Comerci...</td>\n",
       "    </tr>\n",
       "    <tr>\n",
       "      <th>4</th>\n",
       "      <td>{'customerID': '568886-ZIBFOMCC', 'source': 'W...</td>\n",
       "      <td>{'types': {'unit': 'Apartamento', 'usage': 'Re...</td>\n",
       "    </tr>\n",
       "    <tr>\n",
       "      <th>...</th>\n",
       "      <td>...</td>\n",
       "      <td>...</td>\n",
       "    </tr>\n",
       "    <tr>\n",
       "      <th>73610</th>\n",
       "      <td>{'customerID': '134148-MJIBCMDQ', 'source': 'W...</td>\n",
       "      <td>{'types': {'unit': 'Casa', 'usage': 'Residenci...</td>\n",
       "    </tr>\n",
       "    <tr>\n",
       "      <th>73611</th>\n",
       "      <td>{'customerID': '541465-QBQVXXXZ', 'source': 'W...</td>\n",
       "      <td>{'types': {'unit': 'Casa', 'usage': 'Residenci...</td>\n",
       "    </tr>\n",
       "    <tr>\n",
       "      <th>73612</th>\n",
       "      <td>{'customerID': '800542-BZREFTQS', 'source': 'W...</td>\n",
       "      <td>{'types': {'unit': 'Apartamento', 'usage': 'Re...</td>\n",
       "    </tr>\n",
       "    <tr>\n",
       "      <th>73613</th>\n",
       "      <td>{'customerID': '939419-ECGUNTIH', 'source': 'W...</td>\n",
       "      <td>{'types': {'unit': 'Casa', 'usage': 'Residenci...</td>\n",
       "    </tr>\n",
       "    <tr>\n",
       "      <th>73614</th>\n",
       "      <td>{'customerID': '610503-VULDJJZZ', 'source': 'W...</td>\n",
       "      <td>{'types': {'unit': 'Apartamento', 'usage': 'Re...</td>\n",
       "    </tr>\n",
       "  </tbody>\n",
       "</table>\n",
       "<p>73615 rows × 2 columns</p>\n",
       "</div>"
      ],
      "text/plain": [
       "                                                   ident  \\\n",
       "0      {'customerID': '775564-BOJSMVON', 'source': 'W...   \n",
       "1      {'customerID': '660895-AUENKNYY', 'source': 'W...   \n",
       "2      {'customerID': '751522-JESYFEQL', 'source': 'W...   \n",
       "3      {'customerID': '714052-GAAEWYKS', 'source': 'W...   \n",
       "4      {'customerID': '568886-ZIBFOMCC', 'source': 'W...   \n",
       "...                                                  ...   \n",
       "73610  {'customerID': '134148-MJIBCMDQ', 'source': 'W...   \n",
       "73611  {'customerID': '541465-QBQVXXXZ', 'source': 'W...   \n",
       "73612  {'customerID': '800542-BZREFTQS', 'source': 'W...   \n",
       "73613  {'customerID': '939419-ECGUNTIH', 'source': 'W...   \n",
       "73614  {'customerID': '610503-VULDJJZZ', 'source': 'W...   \n",
       "\n",
       "                                                 listing  \n",
       "0      {'types': {'unit': 'Outros', 'usage': 'Residen...  \n",
       "1      {'types': {'unit': 'Apartamento', 'usage': 'Re...  \n",
       "2      {'types': {'unit': 'Outros', 'usage': 'Residen...  \n",
       "3      {'types': {'unit': 'Outros', 'usage': 'Comerci...  \n",
       "4      {'types': {'unit': 'Apartamento', 'usage': 'Re...  \n",
       "...                                                  ...  \n",
       "73610  {'types': {'unit': 'Casa', 'usage': 'Residenci...  \n",
       "73611  {'types': {'unit': 'Casa', 'usage': 'Residenci...  \n",
       "73612  {'types': {'unit': 'Apartamento', 'usage': 'Re...  \n",
       "73613  {'types': {'unit': 'Casa', 'usage': 'Residenci...  \n",
       "73614  {'types': {'unit': 'Apartamento', 'usage': 'Re...  \n",
       "\n",
       "[73615 rows x 2 columns]"
      ]
     },
     "execution_count": 5,
     "metadata": {},
     "output_type": "execute_result"
    }
   ],
   "source": [
    "dados = pd.read_json(\n",
    "    path_or_buf = 'json.txt',\n",
    "    orient = 'columns'\n",
    "\n",
    ")\n",
    "\n",
    "dados"
   ]
  },
  {
   "cell_type": "code",
   "execution_count": 6,
   "id": "ec59be89",
   "metadata": {},
   "outputs": [
    {
     "data": {
      "text/plain": [
       "{'types': {'unit': 'Outros', 'usage': 'Residencial'},\n",
       " 'address': {'city': 'Rio de Janeiro',\n",
       "  'location': {'lon': -43.413557, 'lat': -22.909429},\n",
       "  'zone': 'Zona Oeste',\n",
       "  'neighborhood': 'Taquara'},\n",
       " 'prices': {'price': '45000', 'tax': {'iptu': '0', 'condo': '150'}},\n",
       " 'features': {'bedrooms': 0,\n",
       "  'bathrooms': 0,\n",
       "  'suites': 0,\n",
       "  'parkingSpaces': 1,\n",
       "  'usableAreas': '62',\n",
       "  'totalAreas': '62',\n",
       "  'floors': 0,\n",
       "  'unitsOnTheFloor': 0,\n",
       "  'unitFloor': 0}}"
      ]
     },
     "execution_count": 6,
     "metadata": {},
     "output_type": "execute_result"
    }
   ],
   "source": [
    "## explorando os dados dentro do json, apartir do index 0\n",
    "dados.listing[0]"
   ]
  }
 ],
 "metadata": {
  "kernelspec": {
   "display_name": "Python 3 (ipykernel)",
   "language": "python",
   "name": "python3"
  },
  "language_info": {
   "codemirror_mode": {
    "name": "ipython",
    "version": 3
   },
   "file_extension": ".py",
   "mimetype": "text/x-python",
   "name": "python",
   "nbconvert_exporter": "python",
   "pygments_lexer": "ipython3",
   "version": "3.9.12"
  }
 },
 "nbformat": 4,
 "nbformat_minor": 5
}
